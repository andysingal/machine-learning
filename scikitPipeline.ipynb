{
  "nbformat": 4,
  "nbformat_minor": 0,
  "metadata": {
    "colab": {
      "provenance": [],
      "authorship_tag": "ABX9TyOcKIbVZlb6DBe+fs9oAcBV",
      "include_colab_link": true
    },
    "kernelspec": {
      "name": "python3",
      "display_name": "Python 3"
    },
    "language_info": {
      "name": "python"
    }
  },
  "cells": [
    {
      "cell_type": "markdown",
      "metadata": {
        "id": "view-in-github",
        "colab_type": "text"
      },
      "source": [
        "<a href=\"https://colab.research.google.com/github/andysingal/machine-learning/blob/main/scikitPipeline.ipynb\" target=\"_parent\"><img src=\"https://colab.research.google.com/assets/colab-badge.svg\" alt=\"Open In Colab\"/></a>"
      ]
    },
    {
      "cell_type": "code",
      "source": [
        "%%capture\n",
        "!pip install feature_engine"
      ],
      "metadata": {
        "id": "tj-Aoo1wDfsU"
      },
      "execution_count": 2,
      "outputs": []
    },
    {
      "cell_type": "markdown",
      "source": [
        "The data set: Newspaper churn\n",
        "The used dataset is from a former Kaggle competition and under CC0: Public Domain license. It contains 15.855 records and 19 columns including the target variable Subscriber (YES/NO). The majority of the features is categorial."
      ],
      "metadata": {
        "id": "QPkZvd4CKWSL"
      }
    },
    {
      "cell_type": "code",
      "execution_count": 5,
      "metadata": {
        "colab": {
          "base_uri": "https://localhost:8080/",
          "height": 114
        },
        "id": "vIDEH76zDFZr",
        "outputId": "7e515fa4-e511-461f-9b63-82d010e4cd4e"
      },
      "outputs": [
        {
          "output_type": "display_data",
          "data": {
            "text/plain": [
              "<Figure size 500x100 with 1 Axes>"
            ],
            "image/png": "[encoded data removed]"
          },
          "metadata": {}
        }
      ],
      "source": [
        "import pandas as pd\n",
        "import numpy as np\n",
        "import seaborn as sns \n",
        "import matplotlib.pyplot as plt\n",
        "\n",
        "#Sklearn\n",
        "from sklearn.model_selection import (train_test_split, RandomizedSearchCV, \n",
        "                                     RepeatedStratifiedKFold, cross_validate)\n",
        "\n",
        "# Assemble pipeline(s)\n",
        "from sklearn import set_config\n",
        "from sklearn.pipeline import make_pipeline, Pipeline\n",
        "from imblearn.pipeline import Pipeline as imbPipeline\n",
        "from sklearn.compose import ColumnTransformer, make_column_selector\n",
        "from sklearn.impute import SimpleImputer\n",
        "from sklearn.preprocessing import OneHotEncoder, MinMaxScaler\n",
        "\n",
        "# Handle constant/duplicates and missing features/columns\n",
        "from feature_engine.selection import (DropFeatures, DropConstantFeatures, \n",
        "                                      DropDuplicateFeatures)\n",
        "\n",
        "# Sampling\n",
        "from imblearn.over_sampling import SMOTE\n",
        "from imblearn.under_sampling import RandomUnderSampler\n",
        "\n",
        "# Models\n",
        "from xgboost import XGBClassifier\n",
        "from sklearn.linear_model import LogisticRegression\n",
        "from sklearn.ensemble import RandomForestClassifier, VotingClassifier\n",
        "from sklearn.metrics import roc_auc_score\n",
        "from sklearn.inspection import permutation_importance\n",
        "from scipy.stats import loguniform\n",
        "\n",
        "set_config(display=\"diagram\")  # make pipeline visible\n",
        "\n",
        "import warnings\n",
        "warnings.filterwarnings(\"ignore\", category=DeprecationWarning)\n",
        "warnings.filterwarnings(\"ignore\", category=UserWarning)\n",
        "warnings.filterwarnings(\"ignore\", category=FutureWarning)\n",
        "\n",
        "# Color Palette\n",
        "custom_colors = ['#7400ff', '#a788e4', '#d216d2', '#ffb500', '#36c9dd']\n",
        "sns.palplot(sns.color_palette(custom_colors))\n",
        "\n",
        "# Set Style\n",
        "sns.set_style(\"whitegrid\")\n",
        "sns.despine(left=True, bottom=True)\n",
        "\n",
        "# Set tick size\n",
        "plt.rc('xtick',labelsize=12)\n",
        "plt.rc('ytick',labelsize=12)"
      ]
    },
    {
      "cell_type": "code",
      "source": [
        "def load_process():\n",
        "    df = pd.read_excel(\"NewspaperChurn new version.xlsx\")\n",
        "    df.columns = [k.lower().replace(\" \", \"_\") for k in df.columns]\n",
        "    df.rename(columns={'subscriber':'churn'}, inplace=True)\n",
        "    df['churn'].replace({'NO':False, 'YES':True}, inplace=True)\n",
        "\n",
        "    df[df.select_dtypes(['object']).columns] = df.select_dtypes(['object']).apply(lambda x: x.astype('category'))\n",
        "    return df\n",
        "df = load_process()\n",
        "df.head()\n"
      ],
      "metadata": {
        "colab": {
          "base_uri": "https://localhost:8080/",
          "height": 250
        },
        "id": "F0JwcBIFDY4o",
        "outputId": "c9e17a95-1f82-470a-f15f-e678e466e32f"
      },
      "execution_count": 10,
      "outputs": [
        {
          "output_type": "execute_result",
          "data": {
            "text/plain": [
              "   subscriptionid            hh_income home_ownership ethnicity  \\\n",
              "0       180590686  $  30,000 - $39,999         RENTER    German   \n",
              "1       181401653        $500,000 Plus          OWNER   unknown   \n",
              "2       180374685  $100,000 - $124,999          OWNER   Italian   \n",
              "3       180703483  $200,000 - $249,999          OWNER   English   \n",
              "4       180358906  $  50,000 - $59,999          OWNER   Italian   \n",
              "\n",
              "  dummy_for_children  year_of_residence age_range language            address  \\\n",
              "0                  N                  1     25-29   German  1 3RD PL UNIT 703   \n",
              "1                  Y                 14     50-54      NaN          1 AVIGNON   \n",
              "2                  Y                  7     45-49  English        1 BLACKSWAN   \n",
              "3                  N                 23     55-59  English     1 BLUE HORIZON   \n",
              "4                  N                 23     60-64  English   1 BRISA DEL LAGO   \n",
              "\n",
              "  state                    city       county  zip_code     weekly_fee  \\\n",
              "0    CA              LONG BEACH  LOS ANGELES     90802  $7.00 - $7.99   \n",
              "1    CA           NEWPORT COAST       ORANGE     92657  $0.01 - $0.50   \n",
              "2    CA                  IRVINE       ORANGE     92604  $0.01 - $0.50   \n",
              "3    CA           LAGUNA NIGUEL       ORANGE     92677  $1.00 - $1.99   \n",
              "4    CA  RANCHO SANTA MARGARITA       ORANGE     92688  $8.00 - $8.99   \n",
              "\n",
              "  deliveryperiod nielsen_prizm  reward_program source_channel  churn  \n",
              "0           7Day            FM               0        CircAdm  False  \n",
              "1        SunOnly            MW               0        Partner   True  \n",
              "2        SunOnly            MW               0        Partner   True  \n",
              "3        SunOnly            MW               1       Internet  False  \n",
              "4        Thu-Sun            MM               0           Crew   True  "
            ],
            "text/html": [
              "\n",
              "  <div id=\"df-b8cad01c-aafa-44f9-a624-4f63474586c9\">\n",
              "    <div class=\"colab-df-container\">\n",
              "      <div>\n",
              "<style scoped>\n",
              "    .dataframe tbody tr th:only-of-type {\n",
              "        vertical-align: middle;\n",
              "    }\n",
              "\n",
              "    .dataframe tbody tr th {\n",
              "        vertical-align: top;\n",
              "    }\n",
              "\n",
              "    .dataframe thead th {\n",
              "        text-align: right;\n",
              "    }\n",
              "</style>\n",
              "<table border=\"1\" class=\"dataframe\">\n",
              "  <thead>\n",
              "    <tr style=\"text-align: right;\">\n",
              "      <th></th>\n",
              "      <th>subscriptionid</th>\n",
              "      <th>hh_income</th>\n",
              "      <th>home_ownership</th>\n",
              "      <th>ethnicity</th>\n",
              "      <th>dummy_for_children</th>\n",
              "      <th>year_of_residence</th>\n",
              "      <th>age_range</th>\n",
              "      <th>language</th>\n",
              "      <th>address</th>\n",
              "      <th>state</th>\n",
              "      <th>city</th>\n",
              "      <th>county</th>\n",
              "      <th>zip_code</th>\n",
              "      <th>weekly_fee</th>\n",
              "      <th>deliveryperiod</th>\n",
              "      <th>nielsen_prizm</th>\n",
              "      <th>reward_program</th>\n",
              "      <th>source_channel</th>\n",
              "      <th>churn</th>\n",
              "    </tr>\n",
              "  </thead>\n",
              "  <tbody>\n",
              "    <tr>\n",
              "      <th>0</th>\n",
              "      <td>180590686</td>\n",
              "      <td>$  30,000 - $39,999</td>\n",
              "      <td>RENTER</td>\n",
              "      <td>German</td>\n",
              "      <td>N</td>\n",
              "      <td>1</td>\n",
              "      <td>25-29</td>\n",
              "      <td>German</td>\n",
              "      <td>1 3RD PL UNIT 703</td>\n",
              "      <td>CA</td>\n",
              "      <td>LONG BEACH</td>\n",
              "      <td>LOS ANGELES</td>\n",
              "      <td>90802</td>\n",
              "      <td>$7.00 - $7.99</td>\n",
              "      <td>7Day</td>\n",
              "      <td>FM</td>\n",
              "      <td>0</td>\n",
              "      <td>CircAdm</td>\n",
              "      <td>False</td>\n",
              "    </tr>\n",
              "    <tr>\n",
              "      <th>1</th>\n",
              "      <td>181401653</td>\n",
              "      <td>$500,000 Plus</td>\n",
              "      <td>OWNER</td>\n",
              "      <td>unknown</td>\n",
              "      <td>Y</td>\n",
              "      <td>14</td>\n",
              "      <td>50-54</td>\n",
              "      <td>NaN</td>\n",
              "      <td>1 AVIGNON</td>\n",
              "      <td>CA</td>\n",
              "      <td>NEWPORT COAST</td>\n",
              "      <td>ORANGE</td>\n",
              "      <td>92657</td>\n",
              "      <td>$0.01 - $0.50</td>\n",
              "      <td>SunOnly</td>\n",
              "      <td>MW</td>\n",
              "      <td>0</td>\n",
              "      <td>Partner</td>\n",
              "      <td>True</td>\n",
              "    </tr>\n",
              "    <tr>\n",
              "      <th>2</th>\n",
              "      <td>180374685</td>\n",
              "      <td>$100,000 - $124,999</td>\n",
              "      <td>OWNER</td>\n",
              "      <td>Italian</td>\n",
              "      <td>Y</td>\n",
              "      <td>7</td>\n",
              "      <td>45-49</td>\n",
              "      <td>English</td>\n",
              "      <td>1 BLACKSWAN</td>\n",
              "      <td>CA</td>\n",
              "      <td>IRVINE</td>\n",
              "      <td>ORANGE</td>\n",
              "      <td>92604</td>\n",
              "      <td>$0.01 - $0.50</td>\n",
              "      <td>SunOnly</td>\n",
              "      <td>MW</td>\n",
              "      <td>0</td>\n",
              "      <td>Partner</td>\n",
              "      <td>True</td>\n",
              "    </tr>\n",
              "    <tr>\n",
              "      <th>3</th>\n",
              "      <td>180703483</td>\n",
              "      <td>$200,000 - $249,999</td>\n",
              "      <td>OWNER</td>\n",
              "      <td>English</td>\n",
              "      <td>N</td>\n",
              "      <td>23</td>\n",
              "      <td>55-59</td>\n",
              "      <td>English</td>\n",
              "      <td>1 BLUE HORIZON</td>\n",
              "      <td>CA</td>\n",
              "      <td>LAGUNA NIGUEL</td>\n",
              "      <td>ORANGE</td>\n",
              "      <td>92677</td>\n",
              "      <td>$1.00 - $1.99</td>\n",
              "      <td>SunOnly</td>\n",
              "      <td>MW</td>\n",
              "      <td>1</td>\n",
              "      <td>Internet</td>\n",
              "      <td>False</td>\n",
              "    </tr>\n",
              "    <tr>\n",
              "      <th>4</th>\n",
              "      <td>180358906</td>\n",
              "      <td>$  50,000 - $59,999</td>\n",
              "      <td>OWNER</td>\n",
              "      <td>Italian</td>\n",
              "      <td>N</td>\n",
              "      <td>23</td>\n",
              "      <td>60-64</td>\n",
              "      <td>English</td>\n",
              "      <td>1 BRISA DEL LAGO</td>\n",
              "      <td>CA</td>\n",
              "      <td>RANCHO SANTA MARGARITA</td>\n",
              "      <td>ORANGE</td>\n",
              "      <td>92688</td>\n",
              "      <td>$8.00 - $8.99</td>\n",
              "      <td>Thu-Sun</td>\n",
              "      <td>MM</td>\n",
              "      <td>0</td>\n",
              "      <td>Crew</td>\n",
              "      <td>True</td>\n",
              "    </tr>\n",
              "  </tbody>\n",
              "</table>\n",
              "</div>\n",
              "      <button class=\"colab-df-convert\" onclick=\"convertToInteractive('df-b8cad01c-aafa-44f9-a624-4f63474586c9')\"\n",
              "              title=\"Convert this dataframe to an interactive table.\"\n",
              "              style=\"display:none;\">\n",
              "        \n",
              "  <svg xmlns=\"http://www.w3.org/2000/svg\" height=\"24px\"viewBox=\"0 0 24 24\"\n",
              "       width=\"24px\">\n",
              "    <path d=\"M0 0h24v24H0V0z\" fill=\"none\"/>\n",
              "    <path d=\"M18.56 5.44l.94 2.06.94-2.06 2.06-.94-2.06-.94-.94-2.06-.94 2.06-2.06.94zm-11 1L8.5 8.5l.94-2.06 2.06-.94-2.06-.94L8.5 2.5l-.94 2.06-2.06.94zm10 10l.94 2.06.94-2.06 2.06-.94-2.06-.94-.94-2.06-.94 2.06-2.06.94z\"/><path d=\"M17.41 7.96l-1.37-1.37c-.4-.4-.92-.59-1.43-.59-.52 0-1.04.2-1.43.59L10.3 9.45l-7.72 7.72c-.78.78-.78 2.05 0 2.83L4 21.41c.39.39.9.59 1.41.59.51 0 1.02-.2 1.41-.59l7.78-7.78 2.81-2.81c.8-.78.8-2.07 0-2.86zM5.41 20L4 18.59l7.72-7.72 1.47 1.35L5.41 20z\"/>\n",
              "  </svg>\n",
              "      </button>\n",
              "      \n",
              "  <style>\n",
              "    .colab-df-container {\n",
              "      display:flex;\n",
              "      flex-wrap:wrap;\n",
              "      gap: 12px;\n",
              "    }\n",
              "\n",
              "    .colab-df-convert {\n",
              "      background-color: #E8F0FE;\n",
              "      border: none;\n",
              "      border-radius: 50%;\n",
              "      cursor: pointer;\n",
              "      display: none;\n",
              "      fill: #1967D2;\n",
              "      height: 32px;\n",
              "      padding: 0 0 0 0;\n",
              "      width: 32px;\n",
              "    }\n",
              "\n",
              "    .colab-df-convert:hover {\n",
              "      background-color: #E2EBFA;\n",
              "      box-shadow: 0px 1px 2px rgba(60, 64, 67, 0.3), 0px 1px 3px 1px rgba(60, 64, 67, 0.15);\n",
              "      fill: #174EA6;\n",
              "    }\n",
              "\n",
              "    [theme=dark] .colab-df-convert {\n",
              "      background-color: #3B4455;\n",
              "      fill: #D2E3FC;\n",
              "    }\n",
              "\n",
              "    [theme=dark] .colab-df-convert:hover {\n",
              "      background-color: #434B5C;\n",
              "      box-shadow: 0px 1px 3px 1px rgba(0, 0, 0, 0.15);\n",
              "      filter: drop-shadow(0px 1px 2px rgba(0, 0, 0, 0.3));\n",
              "      fill: #FFFFFF;\n",
              "    }\n",
              "  </style>\n",
              "\n",
              "      <script>\n",
              "        const buttonEl =\n",
              "          document.querySelector('#df-b8cad01c-aafa-44f9-a624-4f63474586c9 button.colab-df-convert');\n",
              "        buttonEl.style.display =\n",
              "          google.colab.kernel.accessAllowed ? 'block' : 'none';\n",
              "\n",
              "        async function convertToInteractive(key) {\n",
              "          const element = document.querySelector('#df-b8cad01c-aafa-44f9-a624-4f63474586c9');\n",
              "          const dataTable =\n",
              "            await google.colab.kernel.invokeFunction('convertToInteractive',\n",
              "                                                     [key], {});\n",
              "          if (!dataTable) return;\n",
              "\n",
              "          const docLinkHtml = 'Like what you see? Visit the ' +\n",
              "            '<a target=\"_blank\" href=https://colab.research.google.com/notebooks/data_table.ipynb>data table notebook</a>'\n",
              "            + ' to learn more about interactive tables.';\n",
              "          element.innerHTML = '';\n",
              "          dataTable['output_type'] = 'display_data';\n",
              "          await google.colab.output.renderOutput(dataTable, element);\n",
              "          const docLink = document.createElement('div');\n",
              "          docLink.innerHTML = docLinkHtml;\n",
              "          element.appendChild(docLink);\n",
              "        }\n",
              "      </script>\n",
              "    </div>\n",
              "  </div>\n",
              "  "
            ]
          },
          "metadata": {},
          "execution_count": 10
        }
      ]
    },
    {
      "cell_type": "code",
      "source": [
        "#Check null values \n",
        "def checking_null_values(df):\n",
        "    #create a for loop that will return which columns have null values \n",
        "    na_columns = [col for col in df.columns if df[col].isna().sum()>0]\n",
        "    #We find the null values in the null columns this value or arranged in ascending order\n",
        "    na_miss = df[na_columns].isna().sum().sort_values(ascending=False)\n",
        "    #this will be multiplication with 100 converts into percentage \n",
        "    ratio = (df[na_columns].isna().sum()/df.shape[0]*100).sort_values(ascending=False)\n",
        "    #concat the missing_values and percentage with np.round\n",
        "    missing_df = pd.concat([na_miss,np.round(ratio,2)], axis=1,keys= ['Null Values', 'Percentage'])\n",
        "    missing_df = pd.DataFrame(missing_df)\n",
        "    return missing_df.style.background_gradient(cmap='winter_r')\n",
        "\n",
        "checking_null_values(df)"
      ],
      "metadata": {
        "colab": {
          "base_uri": "https://localhost:8080/",
          "height": 174
        },
        "id": "HTJzYkX2Ep3x",
        "outputId": "930585ef-0c04-4d94-de2a-baebde01e5e0"
      },
      "execution_count": 8,
      "outputs": [
        {
          "output_type": "execute_result",
          "data": {
            "text/plain": [
              "<pandas.io.formats.style.Styler at 0x7f12c4f1b670>"
            ],
            "text/html": [
              "<style type=\"text/css\">\n",
              "#T_ffa4e_row0_col0, #T_ffa4e_row0_col1 {\n",
              "  background-color: #0000ff;\n",
              "  color: #f1f1f1;\n",
              "}\n",
              "#T_ffa4e_row1_col0, #T_ffa4e_row1_col1 {\n",
              "  background-color: #00e98a;\n",
              "  color: #000000;\n",
              "}\n",
              "#T_ffa4e_row2_col0, #T_ffa4e_row2_col1 {\n",
              "  background-color: #00fa82;\n",
              "  color: #000000;\n",
              "}\n",
              "#T_ffa4e_row3_col0, #T_ffa4e_row3_col1 {\n",
              "  background-color: #00ff80;\n",
              "  color: #000000;\n",
              "}\n",
              "</style>\n",
              "<table id=\"T_ffa4e\" class=\"dataframe\">\n",
              "  <thead>\n",
              "    <tr>\n",
              "      <th class=\"blank level0\" >&nbsp;</th>\n",
              "      <th id=\"T_ffa4e_level0_col0\" class=\"col_heading level0 col0\" >Null Values</th>\n",
              "      <th id=\"T_ffa4e_level0_col1\" class=\"col_heading level0 col1\" >Percentage</th>\n",
              "    </tr>\n",
              "  </thead>\n",
              "  <tbody>\n",
              "    <tr>\n",
              "      <th id=\"T_ffa4e_level0_row0\" class=\"row_heading level0 row0\" >language</th>\n",
              "      <td id=\"T_ffa4e_row0_col0\" class=\"data row0 col0\" >1007</td>\n",
              "      <td id=\"T_ffa4e_row0_col1\" class=\"data row0 col1\" >6.350000</td>\n",
              "    </tr>\n",
              "    <tr>\n",
              "      <th id=\"T_ffa4e_level0_row1\" class=\"row_heading level0 row1\" >weekly_fee</th>\n",
              "      <td id=\"T_ffa4e_row1_col0\" class=\"data row1 col0\" >186</td>\n",
              "      <td id=\"T_ffa4e_row1_col1\" class=\"data row1 col1\" >1.170000</td>\n",
              "    </tr>\n",
              "    <tr>\n",
              "      <th id=\"T_ffa4e_level0_row2\" class=\"row_heading level0 row2\" >nielsen_prizm</th>\n",
              "      <td id=\"T_ffa4e_row2_col0\" class=\"data row2 col0\" >129</td>\n",
              "      <td id=\"T_ffa4e_row2_col1\" class=\"data row2 col1\" >0.810000</td>\n",
              "    </tr>\n",
              "    <tr>\n",
              "      <th id=\"T_ffa4e_level0_row3\" class=\"row_heading level0 row3\" >age_range</th>\n",
              "      <td id=\"T_ffa4e_row3_col0\" class=\"data row3 col0\" >108</td>\n",
              "      <td id=\"T_ffa4e_row3_col1\" class=\"data row3 col1\" >0.680000</td>\n",
              "    </tr>\n",
              "  </tbody>\n",
              "</table>\n"
            ]
          },
          "metadata": {},
          "execution_count": 8
        }
      ]
    },
    {
      "cell_type": "markdown",
      "source": [
        "#Step 1: Exclude features\n",
        "The first step in our pipeline is to exclude or drop columns that will not help us in our prediction. The column subscriptionid, for example, has per row a different value, which makes sense, but this feature is not beneficial for our modeling step. We can also exclude features that are duplicated (e.g., having the same column with the same values twice or more) and containing a constant value."
      ],
      "metadata": {
        "id": "wuiVZmdpFMMy"
      }
    },
    {
      "cell_type": "markdown",
      "source": [
        "The code above creates a pipeline object (line 1) and adds three steps (lines 3–5). The steps are defined as tuples, the first element defines the step’s name (e.g., ‘drop_columns’) and the second the transformer (e.g., DropFeatures())."
      ],
      "metadata": {
        "id": "4bslI9QNFlVc"
      }
    },
    {
      "cell_type": "code",
      "source": [
        "ppl = Pipeline([\n",
        "    # Step 1: Drop irrelevant columns/features\n",
        "    ('drop_columns', DropFeatures(['subscriptionid'])),\n",
        "    ('drop_constant_values', DropConstantFeatures(tol=1, missing_values='ignore')),\n",
        "    ('drop_duplicates', DropDuplicateFeatures())\n",
        "])"
      ],
      "metadata": {
        "id": "nLV_U8rMEwEW"
      },
      "execution_count": 9,
      "outputs": []
    },
    {
      "cell_type": "markdown",
      "source": [
        "# Step 2: Impute and transform values\n",
        "After we dropped irrelevant columns, we focus now on dealing with missing values and feature scaling. Our data set contains different types of columns (integer and categorial). That’s why we have to define two separate workflows."
      ],
      "metadata": {
        "id": "2GS5T1XcGZQr"
      }
    },
    {
      "cell_type": "code",
      "source": [
        "ppl = Pipeline([\n",
        "    # Step 1: Drop irrelevant columns/features\n",
        "    ('drop_columns', DropFeatures(['subscriptionid'])),\n",
        "    ('drop_constant_values', DropConstantFeatures(tol=1, missing_values='ignore')),\n",
        "    ('drop_duplicates', DropDuplicateFeatures()),\n",
        "    \n",
        "    # Step 2: Impute and scale columns/features\n",
        "    ('cleaning', ColumnTransformer([\n",
        "        # Step 2.1: Apply steps for numerical features\n",
        "        ('num',make_pipeline(\n",
        "            SimpleImputer(strategy='mean'),\n",
        "            MinMaxScaler()),\n",
        "         make_column_selector(dtype_include='int64')\n",
        "        ),\n",
        "        # Step 2.2 Apply steps for categorial features\n",
        "        ('cat',make_pipeline(\n",
        "            SimpleImputer(strategy='most_frequent'),\n",
        "            OneHotEncoder(sparse=False, handle_unknown='ignore')),\n",
        "         make_column_selector(dtype_include='category')\n",
        "        )])\n",
        "    )\n",
        "])"
      ],
      "metadata": {
        "id": "3ttlOJhhFa6p"
      },
      "execution_count": 11,
      "outputs": []
    },
    {
      "cell_type": "markdown",
      "source": [
        "#Step 3: Sampling\n",
        "A big challenge in churn- or fraud classification is to deal with class imbalance. Imblearn provides a battery of sampling methods that you can apply. In this example, we will use the SMOTE sampling method"
      ],
      "metadata": {
        "id": "2o7stlMKG73z"
      }
    },
    {
      "cell_type": "code",
      "source": [
        "ppl = Pipeline([\n",
        "    # Step 1: Drop irrelevant columns/features\n",
        "    ('drop_columns', DropFeatures(['subscriptionid'])),\n",
        "    ('drop_constant_values', DropConstantFeatures(tol=1, missing_values='ignore')),\n",
        "    ('drop_duplicates', DropDuplicateFeatures()),\n",
        "    \n",
        "    # Step 2: Impute and scale columns/features\n",
        "    ('cleaning', ColumnTransformer([\n",
        "        # Step 2.1: Apply steps for numerical features\n",
        "        ('num',make_pipeline(\n",
        "            SimpleImputer(strategy='mean'),\n",
        "            MinMaxScaler()),\n",
        "         make_column_selector(dtype_include='int64')\n",
        "        ),\n",
        "        # Step 2.2 Apply steps for categorial features\n",
        "        ('cat',make_pipeline(\n",
        "            SimpleImputer(strategy='most_frequent'),\n",
        "            OneHotEncoder(sparse=False, handle_unknown='ignore')),\n",
        "         make_column_selector(dtype_include='category')\n",
        "        )])\n",
        "    ),\n",
        "    # Step 3: Sampling\n",
        "    ('smote', SMOTE())\n",
        "])"
      ],
      "metadata": {
        "id": "kwR-DSTEGrtw"
      },
      "execution_count": 12,
      "outputs": []
    },
    {
      "cell_type": "code",
      "source": [
        "ppl"
      ],
      "metadata": {
        "colab": {
          "base_uri": "https://localhost:8080/",
          "height": 326
        },
        "id": "G3nbZ5fFG_7s",
        "outputId": "f85386c1-2256-497d-d480-722889aaf494"
      },
      "execution_count": 13,
      "outputs": [
        {
          "output_type": "execute_result",
          "data": {
            "text/plain": [
              "Pipeline(steps=[('drop_columns',\n",
              "                 DropFeatures(features_to_drop=['subscriptionid'])),\n",
              "                ('drop_constant_values',\n",
              "                 DropConstantFeatures(missing_values='ignore')),\n",
              "                ('drop_duplicates', DropDuplicateFeatures()),\n",
              "                ('cleaning',\n",
              "                 ColumnTransformer(transformers=[('num',\n",
              "                                                  Pipeline(steps=[('simpleimputer',\n",
              "                                                                   SimpleImputer()),\n",
              "                                                                  ('minmaxscaler',\n",
              "                                                                   MinMaxScaler())]),\n",
              "                                                  <sklearn.compose._column_transformer.make_column_selector object at 0x7f12c1eb4670>),\n",
              "                                                 ('cat',\n",
              "                                                  Pipeline(steps=[('simpleimputer',\n",
              "                                                                   SimpleImputer(strategy='most_frequent')),\n",
              "                                                                  ('onehotencoder',\n",
              "                                                                   OneHotEncoder(handle_unknown='ignore',\n",
              "                                                                                 sparse=False))]),\n",
              "                                                  <sklearn.compose._column_transformer.make_column_selector object at 0x7f12c1eb72e0>)])),\n",
              "                ('smote', SMOTE())])"
            ],
            "text/html": [
              "<style>#sk-container-id-1 {color: black;background-color: white;}#sk-container-id-1 pre{padding: 0;}#sk-container-id-1 div.sk-toggleable {background-color: white;}#sk-container-id-1 label.sk-toggleable__label {cursor: pointer;display: block;width: 100%;margin-bottom: 0;padding: 0.3em;box-sizing: border-box;text-align: center;}#sk-container-id-1 label.sk-toggleable__label-arrow:before {content: \"▸\";float: left;margin-right: 0.25em;color: #696969;}#sk-container-id-1 label.sk-toggleable__label-arrow:hover:before {color: black;}#sk-container-id-1 div.sk-estimator:hover label.sk-toggleable__label-arrow:before {color: black;}#sk-container-id-1 div.sk-toggleable__content {max-height: 0;max-width: 0;overflow: hidden;text-align: left;background-color: #f0f8ff;}#sk-container-id-1 div.sk-toggleable__content pre {margin: 0.2em;color: black;border-radius: 0.25em;background-color: #f0f8ff;}#sk-container-id-1 input.sk-toggleable__control:checked~div.sk-toggleable__content {max-height: 200px;max-width: 100%;overflow: auto;}#sk-container-id-1 input.sk-toggleable__control:checked~label.sk-toggleable__label-arrow:before {content: \"▾\";}#sk-container-id-1 div.sk-estimator input.sk-toggleable__control:checked~label.sk-toggleable__label {background-color: #d4ebff;}#sk-container-id-1 div.sk-label input.sk-toggleable__control:checked~label.sk-toggleable__label {background-color: #d4ebff;}#sk-container-id-1 input.sk-hidden--visually {border: 0;clip: rect(1px 1px 1px 1px);clip: rect(1px, 1px, 1px, 1px);height: 1px;margin: -1px;overflow: hidden;padding: 0;position: absolute;width: 1px;}#sk-container-id-1 div.sk-estimator {font-family: monospace;background-color: #f0f8ff;border: 1px dotted black;border-radius: 0.25em;box-sizing: border-box;margin-bottom: 0.5em;}#sk-container-id-1 div.sk-estimator:hover {background-color: #d4ebff;}#sk-container-id-1 div.sk-parallel-item::after {content: \"\";width: 100%;border-bottom: 1px solid gray;flex-grow: 1;}#sk-container-id-1 div.sk-label:hover label.sk-toggleable__label {background-color: #d4ebff;}#sk-container-id-1 div.sk-serial::before {content: \"\";position: absolute;border-left: 1px solid gray;box-sizing: border-box;top: 0;bottom: 0;left: 50%;z-index: 0;}#sk-container-id-1 div.sk-serial {display: flex;flex-direction: column;align-items: center;background-color: white;padding-right: 0.2em;padding-left: 0.2em;position: relative;}#sk-container-id-1 div.sk-item {position: relative;z-index: 1;}#sk-container-id-1 div.sk-parallel {display: flex;align-items: stretch;justify-content: center;background-color: white;position: relative;}#sk-container-id-1 div.sk-item::before, #sk-container-id-1 div.sk-parallel-item::before {content: \"\";position: absolute;border-left: 1px solid gray;box-sizing: border-box;top: 0;bottom: 0;left: 50%;z-index: -1;}#sk-container-id-1 div.sk-parallel-item {display: flex;flex-direction: column;z-index: 1;position: relative;background-color: white;}#sk-container-id-1 div.sk-parallel-item:first-child::after {align-self: flex-end;width: 50%;}#sk-container-id-1 div.sk-parallel-item:last-child::after {align-self: flex-start;width: 50%;}#sk-container-id-1 div.sk-parallel-item:only-child::after {width: 0;}#sk-container-id-1 div.sk-dashed-wrapped {border: 1px dashed gray;margin: 0 0.4em 0.5em 0.4em;box-sizing: border-box;padding-bottom: 0.4em;background-color: white;}#sk-container-id-1 div.sk-label label {font-family: monospace;font-weight: bold;display: inline-block;line-height: 1.2em;}#sk-container-id-1 div.sk-label-container {text-align: center;}#sk-container-id-1 div.sk-container {/* jupyter's `normalize.less` sets `[hidden] { display: none; }` but bootstrap.min.css set `[hidden] { display: none !important; }` so we also need the `!important` here to be able to override the default hidden behavior on the sphinx rendered scikit-learn.org. See: https://github.com/scikit-learn/scikit-learn/issues/21755 */display: inline-block !important;position: relative;}#sk-container-id-1 div.sk-text-repr-fallback {display: none;}</style><div id=\"sk-container-id-1\" class=\"sk-top-container\"><div class=\"sk-text-repr-fallback\"><pre>Pipeline(steps=[(&#x27;drop_columns&#x27;,\n",
              "                 DropFeatures(features_to_drop=[&#x27;subscriptionid&#x27;])),\n",
              "                (&#x27;drop_constant_values&#x27;,\n",
              "                 DropConstantFeatures(missing_values=&#x27;ignore&#x27;)),\n",
              "                (&#x27;drop_duplicates&#x27;, DropDuplicateFeatures()),\n",
              "                (&#x27;cleaning&#x27;,\n",
              "                 ColumnTransformer(transformers=[(&#x27;num&#x27;,\n",
              "                                                  Pipeline(steps=[(&#x27;simpleimputer&#x27;,\n",
              "                                                                   SimpleImputer()),\n",
              "                                                                  (&#x27;minmaxscaler&#x27;,\n",
              "                                                                   MinMaxScaler())]),\n",
              "                                                  &lt;sklearn.compose._column_transformer.make_column_selector object at 0x7f12c1eb4670&gt;),\n",
              "                                                 (&#x27;cat&#x27;,\n",
              "                                                  Pipeline(steps=[(&#x27;simpleimputer&#x27;,\n",
              "                                                                   SimpleImputer(strategy=&#x27;most_frequent&#x27;)),\n",
              "                                                                  (&#x27;onehotencoder&#x27;,\n",
              "                                                                   OneHotEncoder(handle_unknown=&#x27;ignore&#x27;,\n",
              "                                                                                 sparse=False))]),\n",
              "                                                  &lt;sklearn.compose._column_transformer.make_column_selector object at 0x7f12c1eb72e0&gt;)])),\n",
              "                (&#x27;smote&#x27;, SMOTE())])</pre><b>In a Jupyter environment, please rerun this cell to show the HTML representation or trust the notebook. <br />On GitHub, the HTML representation is unable to render, please try loading this page with nbviewer.org.</b></div><div class=\"sk-container\" hidden><div class=\"sk-item sk-dashed-wrapped\"><div class=\"sk-label-container\"><div class=\"sk-label sk-toggleable\"><input class=\"sk-toggleable__control sk-hidden--visually\" id=\"sk-estimator-id-1\" type=\"checkbox\" ><label for=\"sk-estimator-id-1\" class=\"sk-toggleable__label sk-toggleable__label-arrow\">Pipeline</label><div class=\"sk-toggleable__content\"><pre>Pipeline(steps=[(&#x27;drop_columns&#x27;,\n",
              "                 DropFeatures(features_to_drop=[&#x27;subscriptionid&#x27;])),\n",
              "                (&#x27;drop_constant_values&#x27;,\n",
              "                 DropConstantFeatures(missing_values=&#x27;ignore&#x27;)),\n",
              "                (&#x27;drop_duplicates&#x27;, DropDuplicateFeatures()),\n",
              "                (&#x27;cleaning&#x27;,\n",
              "                 ColumnTransformer(transformers=[(&#x27;num&#x27;,\n",
              "                                                  Pipeline(steps=[(&#x27;simpleimputer&#x27;,\n",
              "                                                                   SimpleImputer()),\n",
              "                                                                  (&#x27;minmaxscaler&#x27;,\n",
              "                                                                   MinMaxScaler())]),\n",
              "                                                  &lt;sklearn.compose._column_transformer.make_column_selector object at 0x7f12c1eb4670&gt;),\n",
              "                                                 (&#x27;cat&#x27;,\n",
              "                                                  Pipeline(steps=[(&#x27;simpleimputer&#x27;,\n",
              "                                                                   SimpleImputer(strategy=&#x27;most_frequent&#x27;)),\n",
              "                                                                  (&#x27;onehotencoder&#x27;,\n",
              "                                                                   OneHotEncoder(handle_unknown=&#x27;ignore&#x27;,\n",
              "                                                                                 sparse=False))]),\n",
              "                                                  &lt;sklearn.compose._column_transformer.make_column_selector object at 0x7f12c1eb72e0&gt;)])),\n",
              "                (&#x27;smote&#x27;, SMOTE())])</pre></div></div></div><div class=\"sk-serial\"><div class=\"sk-item\"><div class=\"sk-estimator sk-toggleable\"><input class=\"sk-toggleable__control sk-hidden--visually\" id=\"sk-estimator-id-2\" type=\"checkbox\" ><label for=\"sk-estimator-id-2\" class=\"sk-toggleable__label sk-toggleable__label-arrow\">DropFeatures</label><div class=\"sk-toggleable__content\"><pre>DropFeatures(features_to_drop=[&#x27;subscriptionid&#x27;])</pre></div></div></div><div class=\"sk-item\"><div class=\"sk-estimator sk-toggleable\"><input class=\"sk-toggleable__control sk-hidden--visually\" id=\"sk-estimator-id-3\" type=\"checkbox\" ><label for=\"sk-estimator-id-3\" class=\"sk-toggleable__label sk-toggleable__label-arrow\">DropConstantFeatures</label><div class=\"sk-toggleable__content\"><pre>DropConstantFeatures(missing_values=&#x27;ignore&#x27;)</pre></div></div></div><div class=\"sk-item\"><div class=\"sk-estimator sk-toggleable\"><input class=\"sk-toggleable__control sk-hidden--visually\" id=\"sk-estimator-id-4\" type=\"checkbox\" ><label for=\"sk-estimator-id-4\" class=\"sk-toggleable__label sk-toggleable__label-arrow\">DropDuplicateFeatures</label><div class=\"sk-toggleable__content\"><pre>DropDuplicateFeatures()</pre></div></div></div><div class=\"sk-item sk-dashed-wrapped\"><div class=\"sk-label-container\"><div class=\"sk-label sk-toggleable\"><input class=\"sk-toggleable__control sk-hidden--visually\" id=\"sk-estimator-id-5\" type=\"checkbox\" ><label for=\"sk-estimator-id-5\" class=\"sk-toggleable__label sk-toggleable__label-arrow\">cleaning: ColumnTransformer</label><div class=\"sk-toggleable__content\"><pre>ColumnTransformer(transformers=[(&#x27;num&#x27;,\n",
              "                                 Pipeline(steps=[(&#x27;simpleimputer&#x27;,\n",
              "                                                  SimpleImputer()),\n",
              "                                                 (&#x27;minmaxscaler&#x27;,\n",
              "                                                  MinMaxScaler())]),\n",
              "                                 &lt;sklearn.compose._column_transformer.make_column_selector object at 0x7f12c1eb4670&gt;),\n",
              "                                (&#x27;cat&#x27;,\n",
              "                                 Pipeline(steps=[(&#x27;simpleimputer&#x27;,\n",
              "                                                  SimpleImputer(strategy=&#x27;most_frequent&#x27;)),\n",
              "                                                 (&#x27;onehotencoder&#x27;,\n",
              "                                                  OneHotEncoder(handle_unknown=&#x27;ignore&#x27;,\n",
              "                                                                sparse=False))]),\n",
              "                                 &lt;sklearn.compose._column_transformer.make_column_selector object at 0x7f12c1eb72e0&gt;)])</pre></div></div></div><div class=\"sk-parallel\"><div class=\"sk-parallel-item\"><div class=\"sk-item\"><div class=\"sk-label-container\"><div class=\"sk-label sk-toggleable\"><input class=\"sk-toggleable__control sk-hidden--visually\" id=\"sk-estimator-id-6\" type=\"checkbox\" ><label for=\"sk-estimator-id-6\" class=\"sk-toggleable__label sk-toggleable__label-arrow\">num</label><div class=\"sk-toggleable__content\"><pre>&lt;sklearn.compose._column_transformer.make_column_selector object at 0x7f12c1eb4670&gt;</pre></div></div></div><div class=\"sk-serial\"><div class=\"sk-item\"><div class=\"sk-serial\"><div class=\"sk-item\"><div class=\"sk-estimator sk-toggleable\"><input class=\"sk-toggleable__control sk-hidden--visually\" id=\"sk-estimator-id-7\" type=\"checkbox\" ><label for=\"sk-estimator-id-7\" class=\"sk-toggleable__label sk-toggleable__label-arrow\">SimpleImputer</label><div class=\"sk-toggleable__content\"><pre>SimpleImputer()</pre></div></div></div><div class=\"sk-item\"><div class=\"sk-estimator sk-toggleable\"><input class=\"sk-toggleable__control sk-hidden--visually\" id=\"sk-estimator-id-8\" type=\"checkbox\" ><label for=\"sk-estimator-id-8\" class=\"sk-toggleable__label sk-toggleable__label-arrow\">MinMaxScaler</label><div class=\"sk-toggleable__content\"><pre>MinMaxScaler()</pre></div></div></div></div></div></div></div></div><div class=\"sk-parallel-item\"><div class=\"sk-item\"><div class=\"sk-label-container\"><div class=\"sk-label sk-toggleable\"><input class=\"sk-toggleable__control sk-hidden--visually\" id=\"sk-estimator-id-9\" type=\"checkbox\" ><label for=\"sk-estimator-id-9\" class=\"sk-toggleable__label sk-toggleable__label-arrow\">cat</label><div class=\"sk-toggleable__content\"><pre>&lt;sklearn.compose._column_transformer.make_column_selector object at 0x7f12c1eb72e0&gt;</pre></div></div></div><div class=\"sk-serial\"><div class=\"sk-item\"><div class=\"sk-serial\"><div class=\"sk-item\"><div class=\"sk-estimator sk-toggleable\"><input class=\"sk-toggleable__control sk-hidden--visually\" id=\"sk-estimator-id-10\" type=\"checkbox\" ><label for=\"sk-estimator-id-10\" class=\"sk-toggleable__label sk-toggleable__label-arrow\">SimpleImputer</label><div class=\"sk-toggleable__content\"><pre>SimpleImputer(strategy=&#x27;most_frequent&#x27;)</pre></div></div></div><div class=\"sk-item\"><div class=\"sk-estimator sk-toggleable\"><input class=\"sk-toggleable__control sk-hidden--visually\" id=\"sk-estimator-id-11\" type=\"checkbox\" ><label for=\"sk-estimator-id-11\" class=\"sk-toggleable__label sk-toggleable__label-arrow\">OneHotEncoder</label><div class=\"sk-toggleable__content\"><pre>OneHotEncoder(handle_unknown=&#x27;ignore&#x27;, sparse=False)</pre></div></div></div></div></div></div></div></div></div></div><div class=\"sk-item\"><div class=\"sk-estimator sk-toggleable\"><input class=\"sk-toggleable__control sk-hidden--visually\" id=\"sk-estimator-id-12\" type=\"checkbox\" ><label for=\"sk-estimator-id-12\" class=\"sk-toggleable__label sk-toggleable__label-arrow\">SMOTE</label><div class=\"sk-toggleable__content\"><pre>SMOTE()</pre></div></div></div></div></div></div></div>"
            ]
          },
          "metadata": {},
          "execution_count": 13
        }
      ]
    },
    {
      "cell_type": "markdown",
      "source": [
        "The pipeline object provides a method called get_feature_names_out(). But before using it, we have to fit the pipeline on our data set. Since step 3 (SMOTE) focuses on our y-data only, we can ignore it and focus on steps 1–2"
      ],
      "metadata": {
        "id": "QXJiPrWtIWc9"
      }
    },
    {
      "cell_type": "code",
      "source": [
        "X = df.drop(\"churn\", axis=1)\n",
        "y = df[\"churn\"]\n",
        "X_train, X_val, y_train, y_val = train_test_split(X, y, test_size=0.2)"
      ],
      "metadata": {
        "id": "Eu6YiOPYH6MZ"
      },
      "execution_count": 14,
      "outputs": []
    },
    {
      "cell_type": "code",
      "source": [
        "ppl_fts = ppl[0:4]\n",
        "ppl_fts.fit(X_train, y_train)\n",
        "features = ppl_fts.get_feature_names_out()\n",
        "pd.Series(features)"
      ],
      "metadata": {
        "colab": {
          "base_uri": "https://localhost:8080/"
        },
        "id": "cINFyd1wIFsP",
        "outputId": "554091fa-7e02-46d8-cc00-1fb5fff7c9c0"
      },
      "execution_count": 15,
      "outputs": [
        {
          "output_type": "execute_result",
          "data": {
            "text/plain": [
              "0                    num__year_of_residence\n",
              "1                             num__zip_code\n",
              "2                       num__reward_program\n",
              "3        cat__hh_income_$  20,000 - $29,999\n",
              "4        cat__hh_income_$  30,000 - $39,999\n",
              "                        ...                \n",
              "12909               cat__source_channel_TMC\n",
              "12910            cat__source_channel_TeleIn\n",
              "12911           cat__source_channel_TeleOut\n",
              "12912               cat__source_channel_VRU\n",
              "12913          cat__source_channel_iSrvices\n",
              "Length: 12914, dtype: object"
            ]
          },
          "metadata": {},
          "execution_count": 15
        }
      ]
    },
    {
      "cell_type": "markdown",
      "source": [
        "#Step 4: Building the ensemble classifier\n",
        "Now it is time to build our ensemble or voting classifier. In this example we want to use the mean prediction of the three models below (lines 2–6). Thats why we set the voting parameter to soft"
      ],
      "metadata": {
        "id": "S_6VtAu9Iv9t"
      }
    },
    {
      "cell_type": "code",
      "source": [
        "# Linear model (logistic regression)\n",
        "lr = LogisticRegression(warm_start=True, max_iter=400)\n",
        "# RandomForest\n",
        "rf = RandomForestClassifier()\n",
        "# XGB\n",
        "xgb = XGBClassifier(tree_method=\"hist\", verbosity=0, silent=True)\n",
        "# Ensemble\n",
        "lr_xgb_rf = VotingClassifier(estimators=[('lr', lr), ('xgb', xgb), ('rf', rf)], \n",
        "                             voting='soft')"
      ],
      "metadata": {
        "id": "9ARMk2lRIRRV"
      },
      "execution_count": 16,
      "outputs": []
    },
    {
      "cell_type": "code",
      "source": [
        "ppl = imbPipeline([ # It would crash with the Pipeline object from sklearn\n",
        "    # Step 1: Drop irrelevant columns/features\n",
        "    ('drop_columns', DropFeatures(['subscriptionid'])),\n",
        "    ('drop_constant_values', DropConstantFeatures(tol=1, missing_values='ignore')),\n",
        "    ('drop_duplicates', DropDuplicateFeatures()),\n",
        "    \n",
        "    # Step 2: Impute and scale columns/features\n",
        "    ('cleaning', ColumnTransformer([\n",
        "        # Step 2.1: Apply steps for numerical features\n",
        "        ('num',make_pipeline(\n",
        "            SimpleImputer(strategy='mean'),\n",
        "            MinMaxScaler()),\n",
        "         make_column_selector(dtype_include='int64')\n",
        "        ),\n",
        "        # Step 2.2 Apply steps for categorial features\n",
        "        ('cat',make_pipeline(\n",
        "            SimpleImputer(strategy='most_frequent'),\n",
        "            OneHotEncoder(sparse=False, handle_unknown='ignore')),\n",
        "         make_column_selector(dtype_include='category')\n",
        "        )])\n",
        "    ),\n",
        "    \n",
        "    # Step 3: Sampling\n",
        "    ('smote', SMOTE()),\n",
        "    \n",
        "    # Step 4: Voting Classifier\n",
        "    ('ensemble', lr_xgb_rf)\n",
        "])"
      ],
      "metadata": {
        "id": "8_cLwJPTIz-L"
      },
      "execution_count": 17,
      "outputs": []
    },
    {
      "cell_type": "code",
      "source": [
        "ppl"
      ],
      "metadata": {
        "colab": {
          "base_uri": "https://localhost:8080/",
          "height": 417
        },
        "id": "BR4J82dDI-6U",
        "outputId": "c2ed1f0e-b4e3-4179-f5a1-650692329dcd"
      },
      "execution_count": 18,
      "outputs": [
        {
          "output_type": "execute_result",
          "data": {
            "text/plain": [
              "Pipeline(steps=[('drop_columns',\n",
              "                 DropFeatures(features_to_drop=['subscriptionid'])),\n",
              "                ('drop_constant_values',\n",
              "                 DropConstantFeatures(missing_values='ignore')),\n",
              "                ('drop_duplicates', DropDuplicateFeatures()),\n",
              "                ('cleaning',\n",
              "                 ColumnTransformer(transformers=[('num',\n",
              "                                                  Pipeline(steps=[('simpleimputer',\n",
              "                                                                   SimpleImputer()),\n",
              "                                                                  ('minmaxscaler',\n",
              "                                                                   MinMaxScaler())]),\n",
              "                                                  <sklearn.compose....\n",
              "                                                             interaction_constraints=None,\n",
              "                                                             learning_rate=None,\n",
              "                                                             max_bin=None,\n",
              "                                                             max_cat_threshold=None,\n",
              "                                                             max_cat_to_onehot=None,\n",
              "                                                             max_delta_step=None,\n",
              "                                                             max_depth=None,\n",
              "                                                             max_leaves=None,\n",
              "                                                             min_child_weight=None,\n",
              "                                                             missing=nan,\n",
              "                                                             monotone_constraints=None,\n",
              "                                                             n_estimators=100,\n",
              "                                                             n_jobs=None,\n",
              "                                                             num_parallel_tree=None,\n",
              "                                                             predictor=None,\n",
              "                                                             random_state=None, ...)),\n",
              "                                              ('rf', RandomForestClassifier())],\n",
              "                                  voting='soft'))])"
            ],
            "text/html": [
              "<style>#sk-container-id-2 {color: black;background-color: white;}#sk-container-id-2 pre{padding: 0;}#sk-container-id-2 div.sk-toggleable {background-color: white;}#sk-container-id-2 label.sk-toggleable__label {cursor: pointer;display: block;width: 100%;margin-bottom: 0;padding: 0.3em;box-sizing: border-box;text-align: center;}#sk-container-id-2 label.sk-toggleable__label-arrow:before {content: \"▸\";float: left;margin-right: 0.25em;color: #696969;}#sk-container-id-2 label.sk-toggleable__label-arrow:hover:before {color: black;}#sk-container-id-2 div.sk-estimator:hover label.sk-toggleable__label-arrow:before {color: black;}#sk-container-id-2 div.sk-toggleable__content {max-height: 0;max-width: 0;overflow: hidden;text-align: left;background-color: #f0f8ff;}#sk-container-id-2 div.sk-toggleable__content pre {margin: 0.2em;color: black;border-radius: 0.25em;background-color: #f0f8ff;}#sk-container-id-2 input.sk-toggleable__control:checked~div.sk-toggleable__content {max-height: 200px;max-width: 100%;overflow: auto;}#sk-container-id-2 input.sk-toggleable__control:checked~label.sk-toggleable__label-arrow:before {content: \"▾\";}#sk-container-id-2 div.sk-estimator input.sk-toggleable__control:checked~label.sk-toggleable__label {background-color: #d4ebff;}#sk-container-id-2 div.sk-label input.sk-toggleable__control:checked~label.sk-toggleable__label {background-color: #d4ebff;}#sk-container-id-2 input.sk-hidden--visually {border: 0;clip: rect(1px 1px 1px 1px);clip: rect(1px, 1px, 1px, 1px);height: 1px;margin: -1px;overflow: hidden;padding: 0;position: absolute;width: 1px;}#sk-container-id-2 div.sk-estimator {font-family: monospace;background-color: #f0f8ff;border: 1px dotted black;border-radius: 0.25em;box-sizing: border-box;margin-bottom: 0.5em;}#sk-container-id-2 div.sk-estimator:hover {background-color: #d4ebff;}#sk-container-id-2 div.sk-parallel-item::after {content: \"\";width: 100%;border-bottom: 1px solid gray;flex-grow: 1;}#sk-container-id-2 div.sk-label:hover label.sk-toggleable__label {background-color: #d4ebff;}#sk-container-id-2 div.sk-serial::before {content: \"\";position: absolute;border-left: 1px solid gray;box-sizing: border-box;top: 0;bottom: 0;left: 50%;z-index: 0;}#sk-container-id-2 div.sk-serial {display: flex;flex-direction: column;align-items: center;background-color: white;padding-right: 0.2em;padding-left: 0.2em;position: relative;}#sk-container-id-2 div.sk-item {position: relative;z-index: 1;}#sk-container-id-2 div.sk-parallel {display: flex;align-items: stretch;justify-content: center;background-color: white;position: relative;}#sk-container-id-2 div.sk-item::before, #sk-container-id-2 div.sk-parallel-item::before {content: \"\";position: absolute;border-left: 1px solid gray;box-sizing: border-box;top: 0;bottom: 0;left: 50%;z-index: -1;}#sk-container-id-2 div.sk-parallel-item {display: flex;flex-direction: column;z-index: 1;position: relative;background-color: white;}#sk-container-id-2 div.sk-parallel-item:first-child::after {align-self: flex-end;width: 50%;}#sk-container-id-2 div.sk-parallel-item:last-child::after {align-self: flex-start;width: 50%;}#sk-container-id-2 div.sk-parallel-item:only-child::after {width: 0;}#sk-container-id-2 div.sk-dashed-wrapped {border: 1px dashed gray;margin: 0 0.4em 0.5em 0.4em;box-sizing: border-box;padding-bottom: 0.4em;background-color: white;}#sk-container-id-2 div.sk-label label {font-family: monospace;font-weight: bold;display: inline-block;line-height: 1.2em;}#sk-container-id-2 div.sk-label-container {text-align: center;}#sk-container-id-2 div.sk-container {/* jupyter's `normalize.less` sets `[hidden] { display: none; }` but bootstrap.min.css set `[hidden] { display: none !important; }` so we also need the `!important` here to be able to override the default hidden behavior on the sphinx rendered scikit-learn.org. See: https://github.com/scikit-learn/scikit-learn/issues/21755 */display: inline-block !important;position: relative;}#sk-container-id-2 div.sk-text-repr-fallback {display: none;}</style><div id=\"sk-container-id-2\" class=\"sk-top-container\"><div class=\"sk-text-repr-fallback\"><pre>Pipeline(steps=[(&#x27;drop_columns&#x27;,\n",
              "                 DropFeatures(features_to_drop=[&#x27;subscriptionid&#x27;])),\n",
              "                (&#x27;drop_constant_values&#x27;,\n",
              "                 DropConstantFeatures(missing_values=&#x27;ignore&#x27;)),\n",
              "                (&#x27;drop_duplicates&#x27;, DropDuplicateFeatures()),\n",
              "                (&#x27;cleaning&#x27;,\n",
              "                 ColumnTransformer(transformers=[(&#x27;num&#x27;,\n",
              "                                                  Pipeline(steps=[(&#x27;simpleimputer&#x27;,\n",
              "                                                                   SimpleImputer()),\n",
              "                                                                  (&#x27;minmaxscaler&#x27;,\n",
              "                                                                   MinMaxScaler())]),\n",
              "                                                  &lt;sklearn.compose....\n",
              "                                                             interaction_constraints=None,\n",
              "                                                             learning_rate=None,\n",
              "                                                             max_bin=None,\n",
              "                                                             max_cat_threshold=None,\n",
              "                                                             max_cat_to_onehot=None,\n",
              "                                                             max_delta_step=None,\n",
              "                                                             max_depth=None,\n",
              "                                                             max_leaves=None,\n",
              "                                                             min_child_weight=None,\n",
              "                                                             missing=nan,\n",
              "                                                             monotone_constraints=None,\n",
              "                                                             n_estimators=100,\n",
              "                                                             n_jobs=None,\n",
              "                                                             num_parallel_tree=None,\n",
              "                                                             predictor=None,\n",
              "                                                             random_state=None, ...)),\n",
              "                                              (&#x27;rf&#x27;, RandomForestClassifier())],\n",
              "                                  voting=&#x27;soft&#x27;))])</pre><b>In a Jupyter environment, please rerun this cell to show the HTML representation or trust the notebook. <br />On GitHub, the HTML representation is unable to render, please try loading this page with nbviewer.org.</b></div><div class=\"sk-container\" hidden><div class=\"sk-item sk-dashed-wrapped\"><div class=\"sk-label-container\"><div class=\"sk-label sk-toggleable\"><input class=\"sk-toggleable__control sk-hidden--visually\" id=\"sk-estimator-id-13\" type=\"checkbox\" ><label for=\"sk-estimator-id-13\" class=\"sk-toggleable__label sk-toggleable__label-arrow\">Pipeline</label><div class=\"sk-toggleable__content\"><pre>Pipeline(steps=[(&#x27;drop_columns&#x27;,\n",
              "                 DropFeatures(features_to_drop=[&#x27;subscriptionid&#x27;])),\n",
              "                (&#x27;drop_constant_values&#x27;,\n",
              "                 DropConstantFeatures(missing_values=&#x27;ignore&#x27;)),\n",
              "                (&#x27;drop_duplicates&#x27;, DropDuplicateFeatures()),\n",
              "                (&#x27;cleaning&#x27;,\n",
              "                 ColumnTransformer(transformers=[(&#x27;num&#x27;,\n",
              "                                                  Pipeline(steps=[(&#x27;simpleimputer&#x27;,\n",
              "                                                                   SimpleImputer()),\n",
              "                                                                  (&#x27;minmaxscaler&#x27;,\n",
              "                                                                   MinMaxScaler())]),\n",
              "                                                  &lt;sklearn.compose....\n",
              "                                                             interaction_constraints=None,\n",
              "                                                             learning_rate=None,\n",
              "                                                             max_bin=None,\n",
              "                                                             max_cat_threshold=None,\n",
              "                                                             max_cat_to_onehot=None,\n",
              "                                                             max_delta_step=None,\n",
              "                                                             max_depth=None,\n",
              "                                                             max_leaves=None,\n",
              "                                                             min_child_weight=None,\n",
              "                                                             missing=nan,\n",
              "                                                             monotone_constraints=None,\n",
              "                                                             n_estimators=100,\n",
              "                                                             n_jobs=None,\n",
              "                                                             num_parallel_tree=None,\n",
              "                                                             predictor=None,\n",
              "                                                             random_state=None, ...)),\n",
              "                                              (&#x27;rf&#x27;, RandomForestClassifier())],\n",
              "                                  voting=&#x27;soft&#x27;))])</pre></div></div></div><div class=\"sk-serial\"><div class=\"sk-item\"><div class=\"sk-estimator sk-toggleable\"><input class=\"sk-toggleable__control sk-hidden--visually\" id=\"sk-estimator-id-14\" type=\"checkbox\" ><label for=\"sk-estimator-id-14\" class=\"sk-toggleable__label sk-toggleable__label-arrow\">DropFeatures</label><div class=\"sk-toggleable__content\"><pre>DropFeatures(features_to_drop=[&#x27;subscriptionid&#x27;])</pre></div></div></div><div class=\"sk-item\"><div class=\"sk-estimator sk-toggleable\"><input class=\"sk-toggleable__control sk-hidden--visually\" id=\"sk-estimator-id-15\" type=\"checkbox\" ><label for=\"sk-estimator-id-15\" class=\"sk-toggleable__label sk-toggleable__label-arrow\">DropConstantFeatures</label><div class=\"sk-toggleable__content\"><pre>DropConstantFeatures(missing_values=&#x27;ignore&#x27;)</pre></div></div></div><div class=\"sk-item\"><div class=\"sk-estimator sk-toggleable\"><input class=\"sk-toggleable__control sk-hidden--visually\" id=\"sk-estimator-id-16\" type=\"checkbox\" ><label for=\"sk-estimator-id-16\" class=\"sk-toggleable__label sk-toggleable__label-arrow\">DropDuplicateFeatures</label><div class=\"sk-toggleable__content\"><pre>DropDuplicateFeatures()</pre></div></div></div><div class=\"sk-item sk-dashed-wrapped\"><div class=\"sk-label-container\"><div class=\"sk-label sk-toggleable\"><input class=\"sk-toggleable__control sk-hidden--visually\" id=\"sk-estimator-id-17\" type=\"checkbox\" ><label for=\"sk-estimator-id-17\" class=\"sk-toggleable__label sk-toggleable__label-arrow\">cleaning: ColumnTransformer</label><div class=\"sk-toggleable__content\"><pre>ColumnTransformer(transformers=[(&#x27;num&#x27;,\n",
              "                                 Pipeline(steps=[(&#x27;simpleimputer&#x27;,\n",
              "                                                  SimpleImputer()),\n",
              "                                                 (&#x27;minmaxscaler&#x27;,\n",
              "                                                  MinMaxScaler())]),\n",
              "                                 &lt;sklearn.compose._column_transformer.make_column_selector object at 0x7f12c03ee8f0&gt;),\n",
              "                                (&#x27;cat&#x27;,\n",
              "                                 Pipeline(steps=[(&#x27;simpleimputer&#x27;,\n",
              "                                                  SimpleImputer(strategy=&#x27;most_frequent&#x27;)),\n",
              "                                                 (&#x27;onehotencoder&#x27;,\n",
              "                                                  OneHotEncoder(handle_unknown=&#x27;ignore&#x27;,\n",
              "                                                                sparse=False))]),\n",
              "                                 &lt;sklearn.compose._column_transformer.make_column_selector object at 0x7f12c03ee9b0&gt;)])</pre></div></div></div><div class=\"sk-parallel\"><div class=\"sk-parallel-item\"><div class=\"sk-item\"><div class=\"sk-label-container\"><div class=\"sk-label sk-toggleable\"><input class=\"sk-toggleable__control sk-hidden--visually\" id=\"sk-estimator-id-18\" type=\"checkbox\" ><label for=\"sk-estimator-id-18\" class=\"sk-toggleable__label sk-toggleable__label-arrow\">num</label><div class=\"sk-toggleable__content\"><pre>&lt;sklearn.compose._column_transformer.make_column_selector object at 0x7f12c03ee8f0&gt;</pre></div></div></div><div class=\"sk-serial\"><div class=\"sk-item\"><div class=\"sk-serial\"><div class=\"sk-item\"><div class=\"sk-estimator sk-toggleable\"><input class=\"sk-toggleable__control sk-hidden--visually\" id=\"sk-estimator-id-19\" type=\"checkbox\" ><label for=\"sk-estimator-id-19\" class=\"sk-toggleable__label sk-toggleable__label-arrow\">SimpleImputer</label><div class=\"sk-toggleable__content\"><pre>SimpleImputer()</pre></div></div></div><div class=\"sk-item\"><div class=\"sk-estimator sk-toggleable\"><input class=\"sk-toggleable__control sk-hidden--visually\" id=\"sk-estimator-id-20\" type=\"checkbox\" ><label for=\"sk-estimator-id-20\" class=\"sk-toggleable__label sk-toggleable__label-arrow\">MinMaxScaler</label><div class=\"sk-toggleable__content\"><pre>MinMaxScaler()</pre></div></div></div></div></div></div></div></div><div class=\"sk-parallel-item\"><div class=\"sk-item\"><div class=\"sk-label-container\"><div class=\"sk-label sk-toggleable\"><input class=\"sk-toggleable__control sk-hidden--visually\" id=\"sk-estimator-id-21\" type=\"checkbox\" ><label for=\"sk-estimator-id-21\" class=\"sk-toggleable__label sk-toggleable__label-arrow\">cat</label><div class=\"sk-toggleable__content\"><pre>&lt;sklearn.compose._column_transformer.make_column_selector object at 0x7f12c03ee9b0&gt;</pre></div></div></div><div class=\"sk-serial\"><div class=\"sk-item\"><div class=\"sk-serial\"><div class=\"sk-item\"><div class=\"sk-estimator sk-toggleable\"><input class=\"sk-toggleable__control sk-hidden--visually\" id=\"sk-estimator-id-22\" type=\"checkbox\" ><label for=\"sk-estimator-id-22\" class=\"sk-toggleable__label sk-toggleable__label-arrow\">SimpleImputer</label><div class=\"sk-toggleable__content\"><pre>SimpleImputer(strategy=&#x27;most_frequent&#x27;)</pre></div></div></div><div class=\"sk-item\"><div class=\"sk-estimator sk-toggleable\"><input class=\"sk-toggleable__control sk-hidden--visually\" id=\"sk-estimator-id-23\" type=\"checkbox\" ><label for=\"sk-estimator-id-23\" class=\"sk-toggleable__label sk-toggleable__label-arrow\">OneHotEncoder</label><div class=\"sk-toggleable__content\"><pre>OneHotEncoder(handle_unknown=&#x27;ignore&#x27;, sparse=False)</pre></div></div></div></div></div></div></div></div></div></div><div class=\"sk-item\"><div class=\"sk-estimator sk-toggleable\"><input class=\"sk-toggleable__control sk-hidden--visually\" id=\"sk-estimator-id-24\" type=\"checkbox\" ><label for=\"sk-estimator-id-24\" class=\"sk-toggleable__label sk-toggleable__label-arrow\">SMOTE</label><div class=\"sk-toggleable__content\"><pre>SMOTE()</pre></div></div></div><div class=\"sk-item sk-dashed-wrapped\"><div class=\"sk-label-container\"><div class=\"sk-label sk-toggleable\"><input class=\"sk-toggleable__control sk-hidden--visually\" id=\"sk-estimator-id-25\" type=\"checkbox\" ><label for=\"sk-estimator-id-25\" class=\"sk-toggleable__label sk-toggleable__label-arrow\">ensemble: VotingClassifier</label><div class=\"sk-toggleable__content\"><pre>VotingClassifier(estimators=[(&#x27;lr&#x27;,\n",
              "                              LogisticRegression(max_iter=400,\n",
              "                                                 warm_start=True)),\n",
              "                             (&#x27;xgb&#x27;,\n",
              "                              XGBClassifier(base_score=None, booster=None,\n",
              "                                            callbacks=None,\n",
              "                                            colsample_bylevel=None,\n",
              "                                            colsample_bynode=None,\n",
              "                                            colsample_bytree=None,\n",
              "                                            early_stopping_rounds=None,\n",
              "                                            enable_categorical=False,\n",
              "                                            eval_metric=None,\n",
              "                                            feature_types=None, gamma=None,\n",
              "                                            gpu_id=None, grow_policy=None,\n",
              "                                            impor...\n",
              "                                            interaction_constraints=None,\n",
              "                                            learning_rate=None, max_bin=None,\n",
              "                                            max_cat_threshold=None,\n",
              "                                            max_cat_to_onehot=None,\n",
              "                                            max_delta_step=None, max_depth=None,\n",
              "                                            max_leaves=None,\n",
              "                                            min_child_weight=None, missing=nan,\n",
              "                                            monotone_constraints=None,\n",
              "                                            n_estimators=100, n_jobs=None,\n",
              "                                            num_parallel_tree=None,\n",
              "                                            predictor=None, random_state=None, ...)),\n",
              "                             (&#x27;rf&#x27;, RandomForestClassifier())],\n",
              "                 voting=&#x27;soft&#x27;)</pre></div></div></div><div class=\"sk-parallel\"><div class=\"sk-parallel-item\"><div class=\"sk-item\"><div class=\"sk-label-container\"><div class=\"sk-label sk-toggleable\"><label>lr</label></div></div><div class=\"sk-serial\"><div class=\"sk-item\"><div class=\"sk-estimator sk-toggleable\"><input class=\"sk-toggleable__control sk-hidden--visually\" id=\"sk-estimator-id-26\" type=\"checkbox\" ><label for=\"sk-estimator-id-26\" class=\"sk-toggleable__label sk-toggleable__label-arrow\">LogisticRegression</label><div class=\"sk-toggleable__content\"><pre>LogisticRegression(max_iter=400, warm_start=True)</pre></div></div></div></div></div></div><div class=\"sk-parallel-item\"><div class=\"sk-item\"><div class=\"sk-label-container\"><div class=\"sk-label sk-toggleable\"><label>xgb</label></div></div><div class=\"sk-serial\"><div class=\"sk-item\"><div class=\"sk-estimator sk-toggleable\"><input class=\"sk-toggleable__control sk-hidden--visually\" id=\"sk-estimator-id-27\" type=\"checkbox\" ><label for=\"sk-estimator-id-27\" class=\"sk-toggleable__label sk-toggleable__label-arrow\">XGBClassifier</label><div class=\"sk-toggleable__content\"><pre>XGBClassifier(base_score=None, booster=None, callbacks=None,\n",
              "              colsample_bylevel=None, colsample_bynode=None,\n",
              "              colsample_bytree=None, early_stopping_rounds=None,\n",
              "              enable_categorical=False, eval_metric=None, feature_types=None,\n",
              "              gamma=None, gpu_id=None, grow_policy=None, importance_type=None,\n",
              "              interaction_constraints=None, learning_rate=None, max_bin=None,\n",
              "              max_cat_threshold=None, max_cat_to_onehot=None,\n",
              "              max_delta_step=None, max_depth=None, max_leaves=None,\n",
              "              min_child_weight=None, missing=nan, monotone_constraints=None,\n",
              "              n_estimators=100, n_jobs=None, num_parallel_tree=None,\n",
              "              predictor=None, random_state=None, ...)</pre></div></div></div></div></div></div><div class=\"sk-parallel-item\"><div class=\"sk-item\"><div class=\"sk-label-container\"><div class=\"sk-label sk-toggleable\"><label>rf</label></div></div><div class=\"sk-serial\"><div class=\"sk-item\"><div class=\"sk-estimator sk-toggleable\"><input class=\"sk-toggleable__control sk-hidden--visually\" id=\"sk-estimator-id-28\" type=\"checkbox\" ><label for=\"sk-estimator-id-28\" class=\"sk-toggleable__label sk-toggleable__label-arrow\">RandomForestClassifier</label><div class=\"sk-toggleable__content\"><pre>RandomForestClassifier()</pre></div></div></div></div></div></div></div></div></div></div></div></div>"
            ]
          },
          "metadata": {},
          "execution_count": 18
        }
      ]
    },
    {
      "cell_type": "markdown",
      "source": [
        "#Step 5: Hyperparameter tuning and feature importance\n",
        "Hyperparameter tuning\n",
        "The code below shows how to apply hyperparameter tuning by using RandomizedSearchCV."
      ],
      "metadata": {
        "id": "Z5g-NnKSJMaC"
      }
    },
    {
      "cell_type": "code",
      "source": [
        "# Hyperparameter Tuning\n",
        "params = {\n",
        "    'ensemble__lr__solver': ['newton-cg', 'lbfgs', 'liblinear'],\n",
        "    'ensemble__lr__penalty': ['none', 'l1', 'l2', 'elasticnet'],\n",
        "    'ensemble__lr__C': loguniform(1e-5, 100),\n",
        "    'ensemble__xgb__learning_rate': [0.1],\n",
        "    'ensemble__xgb__max_depth': [7, 10, 15, 20],\n",
        "    'ensemble__xgb__min_child_weight': [10, 15, 20, 25],\n",
        "    'ensemble__xgb__colsample_bytree': [0.8, 0.9, 1],\n",
        "    'ensemble__xgb__n_estimators': [300, 400, 500, 600],\n",
        "    'ensemble__xgb__reg_alpha': [0.5, 0.2, 1],\n",
        "    'ensemble__xgb__reg_lambda': [2, 3, 5],\n",
        "    'ensemble__xgb__gamma': [1, 2, 3],\n",
        "    'ensemble__rf__max_depth': [7, 10, 15, 20],\n",
        "    'ensemble__rf__min_samples_leaf': [1, 2, 4],\n",
        "    'ensemble__rf__min_samples_split': [2, 5, 10],\n",
        "    'ensemble__rf__n_estimators': [300, 400, 500, 600],\n",
        "}\n",
        "\n",
        "rsf = RepeatedStratifiedKFold(random_state=42)\n",
        "clf = RandomizedSearchCV(ppl, params,scoring='roc_auc', verbose=2, cv=rsf)\n",
        "clf.fit(X_train, y_train)\n",
        "\n",
        "print(\"Best Score: \", clf.best_score_)\n",
        "print(\"Best Params: \", clf.best_params_)\n",
        "print(\"AUC:\", roc_auc_score(y_val, clf.predict(X_val)))"
      ],
      "metadata": {
        "colab": {
          "base_uri": "https://localhost:8080/"
        },
        "id": "e0O8zw9SJBKz",
        "outputId": "657d00c6-296b-40e0-bd2a-7badb8c1bea6"
      },
      "execution_count": null,
      "outputs": [
        {
          "output_type": "stream",
          "name": "stdout",
          "text": [
            "Fitting 50 folds for each of 10 candidates, totalling 500 fits\n",
            "[CV] END ensemble__lr__C=0.0033843430046832353, ensemble__lr__penalty=l1, ensemble__lr__solver=liblinear, ensemble__rf__max_depth=7, ensemble__rf__min_samples_leaf=2, ensemble__rf__min_samples_split=5, ensemble__rf__n_estimators=400, ensemble__xgb__colsample_bytree=0.8, ensemble__xgb__gamma=2, ensemble__xgb__learning_rate=0.1, ensemble__xgb__max_depth=10, ensemble__xgb__min_child_weight=10, ensemble__xgb__n_estimators=500, ensemble__xgb__reg_alpha=0.2, ensemble__xgb__reg_lambda=2; total time= 4.2min\n"
          ]
        }
      ]
    },
    {
      "cell_type": "markdown",
      "source": [
        "#Feature importance plot\n",
        "To create a feature importance plot using our pipeline we make use of permutation importance."
      ],
      "metadata": {
        "id": "n2zIdsb6Jnbm"
      }
    },
    {
      "cell_type": "code",
      "source": [
        "# https://inria.github.io/scikit-learn-mooc/python_scripts/dev_features_importance.html\n",
        "def plot_feature_importances(perm_importance_result, feat_name):\n",
        "    \"\"\" bar plot the feature importance \"\"\"\n",
        "    fig, ax = plt.subplots()\n",
        "\n",
        "    indices = perm_importance_result['importances_mean'].argsort()\n",
        "    plt.barh(range(len(indices)),\n",
        "             perm_importance_result['importances_mean'][indices],\n",
        "             xerr=perm_importance_result['importances_std'][indices])\n",
        "    ax.set_yticks(range(len(indices)))\n",
        "    ax.set_title(\"Permutation importance\")\n",
        "    \n",
        "    tmp = np.array(feat_name)\n",
        "    _ = ax.set_yticklabels(tmp[indices])\n",
        "\n",
        "# Extract feature names after the transformation steps\n",
        "# Therefore, we have to fit one part ([0:4]) of our pipeline to our data\n",
        "ppl_fts = ppl[0:4]\n",
        "ppl_fts.fit(X_train, y_train)\n",
        "features = ppl_fts.get_feature_names_out()\n",
        "\n",
        "# We provide the function our hyperparameter-tuned model/pipeline: clf\n",
        "# In case we do not use hyperparameter tuning, we could provide here a fitted version of ppl\n",
        "# For example: ppl.fit(X_train, y_train)\n",
        "perm_importance_result_train = permutation_importance(clf, X_train, y_train, random_state=42)\n",
        "plot_feature_importances(perm_importance_result_train, features)\n",
        "#https://towardsdatascience.com/advanced-pipelines-with-scikit-learn-4204bb71019b\n",
        "#https://www.linkedin.com/pulse/5-advanced-scikit-learn-features-transform-way-you-code-deena-gergis/"
      ],
      "metadata": {
        "id": "87Wdpn6qJQkm"
      },
      "execution_count": null,
      "outputs": []
    }
  ]
}