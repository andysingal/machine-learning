{
 "cells": [
  {
   "cell_type": "code",
   "execution_count": 1,
   "id": "american-headquarters",
   "metadata": {},
   "outputs": [],
   "source": [
    "import numpy as np\n",
    "import pickle"
   ]
  },
  {
   "cell_type": "code",
   "execution_count": 2,
   "id": "varied-participant",
   "metadata": {},
   "outputs": [
    {
     "name": "stdout",
     "output_type": "stream",
     "text": [
      "Loading the training set\n",
      "Loading the testing set\n",
      "Loading the labels\n"
     ]
    }
   ],
   "source": [
    "def unpickle(file):  # A\n",
    "    with open(file, 'rb') as fo:\n",
    "        d = pickle.load(fo, encoding='bytes')\n",
    "    return d\n",
    "                                      \n",
    "def load_cifar(filenames):\n",
    "    training_images = []\n",
    "    training_labels = []\n",
    "\n",
    "    for file_name in filenames:\n",
    "        unpickled_images = unpickle(file_name)\n",
    "        images, labels = unpickled_images[b'data'], unpickled_images[b'labels']  # B\n",
    "        images = np.reshape(images,(-1, 3, 32, 32))  # C\n",
    "        images = np.transpose(images, (0, 2, 3, 1))  # C\n",
    "        training_images.append(images)\n",
    "        training_labels += labels\n",
    "\n",
    "    return np.vstack(training_images), training_labels\n",
    "\n",
    "print(\"Loading the training set\")\n",
    "training_files = [f'../data/cifar-10/data_batch_{i}' for i in range(1, 6)]  # D\n",
    "training_images, int_training_labels = load_cifar(training_files)  # D\n",
    "\n",
    "print(\"Loading the testing set\")\n",
    "training_files = ['../data/cifar-10/test_batch']  # D\n",
    "testing_images, int_testing_labels = load_cifar(training_files)  # D\n",
    "\n",
    "print(\"Loading the labels\")\n",
    "label_names = unpickle('../data/cifar-10/batches.meta')[b'label_names']  # E\n",
    "training_labels = [str(label_names[_]) for _ in int_training_labels]\n",
    "testing_labels = [str(label_names[_]) for _ in int_testing_labels]\n",
    "\n",
    "# A function to load the files from the main CIFAR site\n",
    "# B Grab the images and labels from the files\n",
    "# C reshape and transpose so our shape is (number_of_images, height, width, channels (RGB))\n",
    "# D Load up the training and testing images\n",
    "# E Load up the labels"
   ]
  },
  {
   "cell_type": "code",
   "execution_count": 3,
   "id": "legislative-method",
   "metadata": {},
   "outputs": [
    {
     "data": {
      "text/plain": [
       "'airplane, automobile, bird, cat, deer, dog, frog, horse, ship, truck'"
      ]
     },
     "execution_count": 3,
     "metadata": {},
     "output_type": "execute_result"
    }
   ],
   "source": [
    "', '.join([l.decode() for l in label_names])"
   ]
  },
  {
   "cell_type": "code",
   "execution_count": 4,
   "id": "exotic-frank",
   "metadata": {},
   "outputs": [
    {
     "name": "stdout",
     "output_type": "stream",
     "text": [
      "b'frog'\n"
     ]
    },
    {
     "data": {
      "text/plain": [
       "Text(0.5, 1.0, \"b'frog'\")"
      ]
     },
     "execution_count": 4,
     "metadata": {},
     "output_type": "execute_result"
    },
    {
     "data": {
      "image/png": "[encoded data removed]",
      "text/plain": [
       "<Figure size 432x288 with 1 Axes>"
      ]
     },
     "metadata": {
      "needs_background": "light"
     },
     "output_type": "display_data"
    }
   ],
   "source": [
    "import matplotlib.pyplot as plt\n",
    "print(training_labels[0])\n",
    "plt.imshow(training_images[0])\n",
    "plt.title(training_labels[0])"
   ]
  },
  {
   "cell_type": "code",
   "execution_count": 5,
   "id": "premier-rocket",
   "metadata": {},
   "outputs": [
    {
     "name": "stdout",
     "output_type": "stream",
     "text": [
      "b'cat'\n"
     ]
    },
    {
     "data": {
      "text/plain": [
       "<matplotlib.image.AxesImage at 0x11f2c2730>"
      ]
     },
     "execution_count": 5,
     "metadata": {},
     "output_type": "execute_result"
    },
    {
     "data": {
      "image/png": "[encoded data removed]",
      "text/plain": [
       "<Figure size 432x288 with 1 Axes>"
      ]
     },
     "metadata": {
      "needs_background": "light"
     },
     "output_type": "display_data"
    }
   ],
   "source": [
    "print(testing_labels[0])\n",
    "plt.imshow(testing_images[0])"
   ]
  },
  {
   "cell_type": "code",
   "execution_count": 6,
   "id": "accessory-january",
   "metadata": {},
   "outputs": [
    {
     "data": {
      "text/plain": [
       "(50000, 32, 32, 3)"
      ]
     },
     "execution_count": 6,
     "metadata": {},
     "output_type": "execute_result"
    }
   ],
   "source": [
    "training_images.shape"
   ]
  },
  {
   "cell_type": "code",
   "execution_count": 7,
   "id": "retained-glasgow",
   "metadata": {},
   "outputs": [
    {
     "data": {
      "text/plain": [
       "array([59, 62, 63], dtype=uint8)"
      ]
     },
     "execution_count": 7,
     "metadata": {},
     "output_type": "execute_result"
    }
   ],
   "source": [
    "training_images[0][0, 0]  # RGB values of the top left pixel"
   ]
  },
  {
   "cell_type": "code",
   "execution_count": 8,
   "id": "intended-junior",
   "metadata": {},
   "outputs": [
    {
     "name": "stdout",
     "output_type": "stream",
     "text": [
      "(50000, 1024)\n"
     ]
    }
   ],
   "source": [
    "avg_training_images = training_images.mean(axis=3).reshape(50000,-1)  # A\n",
    "avg_testing_images = testing_images.mean(axis=3).reshape(10000,-1)  # A\n",
    "\n",
    "print(avg_training_images.shape)\n",
    "\n",
    "# A average the RGB values together and reshape to make a 1D vector for each image. \n",
    "# The shapes went from (50000, 32, 32, 3) --> (50000, 1024) == (50000, 32 * 32)"
   ]
  },
  {
   "cell_type": "code",
   "execution_count": 9,
   "id": "magnetic-tuning",
   "metadata": {},
   "outputs": [
    {
     "data": {
      "text/plain": [
       "<matplotlib.image.AxesImage at 0x11f344430>"
      ]
     },
     "execution_count": 9,
     "metadata": {},
     "output_type": "execute_result"
    },
    {
     "data": {
      "image/png": "[encoded data removed]",
      "text/plain": [
       "<Figure size 432x288 with 1 Axes>"
      ]
     },
     "metadata": {
      "needs_background": "light"
     },
     "output_type": "display_data"
    }
   ],
   "source": [
    "plt.imshow(training_images.mean(axis=3)[0], cmap='gray')"
   ]
  },
  {
   "cell_type": "code",
   "execution_count": 10,
   "id": "structured-fruit",
   "metadata": {},
   "outputs": [],
   "source": [
    "%run ./Base.ipynb"
   ]
  },
  {
   "cell_type": "code",
   "execution_count": 11,
   "id": "widespread-rainbow",
   "metadata": {
    "scrolled": true
   },
   "outputs": [
    {
     "name": "stdout",
     "output_type": "stream",
     "text": [
      "Average Pixel Value + LogReg\n",
      "==========================\n"
     ]
    },
    {
     "name": "stderr",
     "output_type": "stream",
     "text": [
      "/opt/homebrew/Caskroom/miniforge/base/envs/pytorch_env/lib/python3.9/site-packages/sklearn/linear_model/_sag.py:352: ConvergenceWarning: The max_iter was reached which means the coef_ did not converge\n",
      "  warnings.warn(\n",
      "/opt/homebrew/Caskroom/miniforge/base/envs/pytorch_env/lib/python3.9/site-packages/sklearn/linear_model/_sag.py:352: ConvergenceWarning: The max_iter was reached which means the coef_ did not converge\n",
      "  warnings.warn(\n",
      "/opt/homebrew/Caskroom/miniforge/base/envs/pytorch_env/lib/python3.9/site-packages/sklearn/linear_model/_sag.py:352: ConvergenceWarning: The max_iter was reached which means the coef_ did not converge\n",
      "  warnings.warn(\n",
      "/opt/homebrew/Caskroom/miniforge/base/envs/pytorch_env/lib/python3.9/site-packages/sklearn/linear_model/_sag.py:352: ConvergenceWarning: The max_iter was reached which means the coef_ did not converge\n",
      "  warnings.warn(\n",
      "/opt/homebrew/Caskroom/miniforge/base/envs/pytorch_env/lib/python3.9/site-packages/sklearn/linear_model/_sag.py:352: ConvergenceWarning: The max_iter was reached which means the coef_ did not converge\n",
      "  warnings.warn(\n",
      "/opt/homebrew/Caskroom/miniforge/base/envs/pytorch_env/lib/python3.9/site-packages/sklearn/linear_model/_sag.py:352: ConvergenceWarning: The max_iter was reached which means the coef_ did not converge\n",
      "  warnings.warn(\n",
      "/opt/homebrew/Caskroom/miniforge/base/envs/pytorch_env/lib/python3.9/site-packages/sklearn/linear_model/_sag.py:352: ConvergenceWarning: The max_iter was reached which means the coef_ did not converge\n",
      "  warnings.warn(\n",
      "/opt/homebrew/Caskroom/miniforge/base/envs/pytorch_env/lib/python3.9/site-packages/sklearn/linear_model/_sag.py:352: ConvergenceWarning: The max_iter was reached which means the coef_ did not converge\n",
      "  warnings.warn(\n",
      "/opt/homebrew/Caskroom/miniforge/base/envs/pytorch_env/lib/python3.9/site-packages/sklearn/linear_model/_sag.py:352: ConvergenceWarning: The max_iter was reached which means the coef_ did not converge\n",
      "  warnings.warn(\n"
     ]
    },
    {
     "name": "stdout",
     "output_type": "stream",
     "text": [
      "               precision    recall  f1-score   support\n",
      "\n",
      "  b'airplane'       0.23      0.27      0.25      1000\n",
      "b'automobile'       0.34      0.35      0.35      1000\n",
      "      b'bird'       0.23      0.19      0.20      1000\n",
      "       b'cat'       0.19      0.15      0.17      1000\n",
      "      b'deer'       0.20      0.13      0.16      1000\n",
      "       b'dog'       0.26      0.30      0.28      1000\n",
      "      b'frog'       0.25      0.22      0.23      1000\n",
      "     b'horse'       0.26      0.23      0.25      1000\n",
      "      b'ship'       0.28      0.38      0.32      1000\n",
      "     b'truck'       0.36      0.41      0.38      1000\n",
      "\n",
      "     accuracy                           0.26     10000\n",
      "    macro avg       0.26      0.26      0.26     10000\n",
      " weighted avg       0.26      0.26      0.26     10000\n",
      "\n",
      "Best params: {'classifier__C': 10.0}\n",
      "Overall took 1373.19 seconds\n"
     ]
    },
    {
     "name": "stderr",
     "output_type": "stream",
     "text": [
      "/opt/homebrew/Caskroom/miniforge/base/envs/pytorch_env/lib/python3.9/site-packages/sklearn/linear_model/_sag.py:352: ConvergenceWarning: The max_iter was reached which means the coef_ did not converge\n",
      "  warnings.warn(\n"
     ]
    },
    {
     "data": {
      "text/plain": [
       "(Pipeline(steps=[('classifier', LogisticRegression(C=10.0, solver='saga'))]),\n",
       " array([\"b'frog'\", \"b'truck'\", \"b'ship'\", ..., \"b'dog'\", \"b'dog'\",\n",
       "        \"b'dog'\"], dtype='<U13'))"
      ]
     },
     "execution_count": 11,
     "metadata": {},
     "output_type": "execute_result"
    }
   ],
   "source": [
    "from sklearn.pipeline import Pipeline  # A\n",
    "from sklearn.linear_model import LogisticRegression  # A\n",
    "\n",
    "clf = LogisticRegression(max_iter=100, solver='saga')  # B\n",
    "\n",
    "ml_pipeline = Pipeline([  # C\n",
    "    ('classifier', clf)\n",
    "])\n",
    "\n",
    "params = {  # C\n",
    "    'classifier__C': [1e-1, 1e0, 1e1]\n",
    "}\n",
    "\n",
    "print(\"Average Pixel Value + LogReg\\n==========================\")\n",
    "advanced_grid_search(   # D \n",
    "    avg_training_images, training_labels, avg_testing_images, testing_labels, \n",
    "    ml_pipeline, params\n",
    ")\n",
    "\n",
    "# A import ML packages\n",
    "# B Instantiate our simple Logistic Regression model\n",
    "# C Set up our simple grid search pipeline to try three different values for the LogReg model\n",
    "# D Run our grid search to get an accuracy value for our pipeline"
   ]
  },
  {
   "cell_type": "code",
   "execution_count": 20,
   "id": "smart-harvard",
   "metadata": {
    "scrolled": true
   },
   "outputs": [
    {
     "name": "stdout",
     "output_type": "stream",
     "text": [
      "(1568,)\n"
     ]
    },
    {
     "data": {
      "image/png": "[encoded data removed]",
      "text/plain": [
       "<Figure size 576x288 with 2 Axes>"
      ]
     },
     "metadata": {
      "needs_background": "light"
     },
     "output_type": "display_data"
    },
    {
     "data": {
      "image/png": "[encoded data removed]",
      "text/plain": [
       "<Figure size 576x288 with 2 Axes>"
      ]
     },
     "metadata": {
      "needs_background": "light"
     },
     "output_type": "display_data"
    },
    {
     "data": {
      "image/png": "[encoded data removed]",
      "text/plain": [
       "<Figure size 576x288 with 2 Axes>"
      ]
     },
     "metadata": {
      "needs_background": "light"
     },
     "output_type": "display_data"
    }
   ],
   "source": [
    "# derived from https://scikit-image.org/docs/dev/auto_examples/features_detection/plot_hog.html\n",
    "\n",
    "from skimage.feature import hog  # A\n",
    "from skimage import data, exposure  # A\n",
    "from skimage.transform import resize  # A\n",
    "\n",
    "for image in training_images[:3]:\n",
    "\n",
    "    hog_features, hog_image = hog(  # B\n",
    "        image,\n",
    "        orientations=8, pixels_per_cell=(4, 4), cells_per_block=(2, 2), visualize=True,\n",
    "        channel_axis=-1, transform_sqrt=True, block_norm='L2-Hys')\n",
    "\n",
    "    fig, (ax1, ax2) = plt.subplots(1, 2, figsize=(8, 4), sharex=True, sharey=True)  # C\n",
    "\n",
    "    ax1.axis('off')  # C\n",
    "    ax1.imshow(image, cmap=plt.cm.gray)  # C\n",
    "    ax1.set_title('Input image')  # C\n",
    "\n",
    "    ax2.axis('off')  # C\n",
    "    ax2.imshow(hog_image, cmap=plt.cm.gray)  # C\n",
    "    ax2.set_title('Histogram of Oriented Gradients')  # C\n",
    "    \n",
    "print(hog_features.shape)  # D\n",
    "plt.show()\n",
    "\n",
    "# A Import functions from scikit-image\n",
    "# B Calculate HOG for 3 of our training images\n",
    "# C Plot the HOG next to the original images\n",
    "# D the size of the feature vector"
   ]
  },
  {
   "cell_type": "code",
   "execution_count": 21,
   "id": "southeast-stage",
   "metadata": {},
   "outputs": [
    {
     "data": {
      "text/plain": [
       "<matplotlib.image.AxesImage at 0x153aacdf0>"
      ]
     },
     "execution_count": 21,
     "metadata": {},
     "output_type": "execute_result"
    },
    {
     "data": {
      "image/png": "[encoded data removed]",
      "text/plain": [
       "<Figure size 432x288 with 1 Axes>"
      ]
     },
     "metadata": {
      "needs_background": "light"
     },
     "output_type": "display_data"
    }
   ],
   "source": [
    "plt.imshow(image, interpolation='nearest')"
   ]
  },
  {
   "cell_type": "code",
   "execution_count": 22,
   "id": "daily-aggregate",
   "metadata": {},
   "outputs": [
    {
     "name": "stdout",
     "output_type": "stream",
     "text": [
      "(1568,) (32, 32)\n"
     ]
    },
    {
     "data": {
      "text/plain": [
       "Text(0.5, 1.0, 'Histogram of Oriented Gradients')"
      ]
     },
     "execution_count": 22,
     "metadata": {},
     "output_type": "execute_result"
    },
    {
     "data": {
      "image/png": "[encoded data removed]",
      "text/plain": [
       "<Figure size 576x288 with 2 Axes>"
      ]
     },
     "metadata": {
      "needs_background": "light"
     },
     "output_type": "display_data"
    }
   ],
   "source": [
    "hog_features, hog_image = hog(  # B\n",
    "        image,\n",
    "        orientations=8, pixels_per_cell=(4, 4), cells_per_block=(2, 2), visualize=True,\n",
    "        channel_axis=-1, transform_sqrt=True, block_norm='L2-Hys')\n",
    "\n",
    "print(hog_features.shape, hog_image.shape)\n",
    "\n",
    "fig, (ax1, ax2) = plt.subplots(1, 2, figsize=(8, 4), sharex=True, sharey=True)  # C\n",
    "\n",
    "ax1.axis('off')  # C\n",
    "ax1.imshow(image, cmap=plt.cm.gray)  # C\n",
    "ax1.set_title('Input image')  # C\n",
    "\n",
    "ax2.axis('off')  # C\n",
    "ax2.imshow(hog_image, cmap=plt.cm.gray)  # C\n",
    "ax2.set_title('Histogram of Oriented Gradients')  # C\n"
   ]
  },
  {
   "cell_type": "code",
   "execution_count": 23,
   "id": "occupational-motivation",
   "metadata": {},
   "outputs": [
    {
     "data": {
      "text/plain": [
       "(32, 32, 3)"
      ]
     },
     "execution_count": 23,
     "metadata": {},
     "output_type": "execute_result"
    }
   ],
   "source": [
    "image.shape"
   ]
  },
  {
   "cell_type": "code",
   "execution_count": 24,
   "id": "painful-ownership",
   "metadata": {},
   "outputs": [
    {
     "data": {
      "text/plain": [
       "array([0.29, 0.  , 0.  , 0.  , 0.34, 0.  , 0.  , 0.  , 0.  , 0.  , 0.  ,\n",
       "       0.  , 0.34, 0.  , 0.  , 0.  , 0.29, 0.  , 0.  , 0.3 , 0.34, 0.34,\n",
       "       0.21, 0.  , 0.19, 0.  , 0.34, 0.  , 0.29, 0.  , 0.  , 0.  , 0.  ,\n",
       "       0.  , 0.  , 0.  , 0.33, 0.  , 0.  , 0.  , 0.  , 0.  , 0.  , 0.  ,\n",
       "       0.33, 0.  , 0.  , 0.  , 0.11, 0.  ])"
      ]
     },
     "execution_count": 24,
     "metadata": {},
     "output_type": "execute_result"
    }
   ],
   "source": [
    "np.round(hog_features, 2)[:50]"
   ]
  },
  {
   "cell_type": "code",
   "execution_count": 25,
   "id": "wrong-daily",
   "metadata": {},
   "outputs": [
    {
     "data": {
      "text/plain": [
       "array([0.        , 0.        , 0.        , 0.        , 0.33982944,\n",
       "       0.        , 0.        , 0.        ])"
      ]
     },
     "execution_count": 25,
     "metadata": {},
     "output_type": "execute_result"
    }
   ],
   "source": [
    "hog_features.reshape(196, 8)[1]"
   ]
  },
  {
   "cell_type": "code",
   "execution_count": 26,
   "id": "reverse-captain",
   "metadata": {},
   "outputs": [
    {
     "data": {
      "text/plain": [
       "array([[0.        , 0.        , 0.        , ..., 0.        , 0.        ,\n",
       "        0.        ],\n",
       "       [0.        , 0.01176482, 0.00588048, ..., 0.01568643, 0.        ,\n",
       "        0.        ],\n",
       "       [0.        , 0.00588048, 0.01176482, ..., 0.        , 0.01568643,\n",
       "        0.        ],\n",
       "       ...,\n",
       "       [0.        , 0.2136848 , 0.47131788, ..., 0.09614047, 0.46262604,\n",
       "        0.        ],\n",
       "       [0.        , 0.47131788, 0.2136848 , ..., 0.46262604, 0.09614047,\n",
       "        0.        ],\n",
       "       [0.        , 0.        , 0.        , ..., 0.        , 0.        ,\n",
       "        0.        ]])"
      ]
     },
     "execution_count": 26,
     "metadata": {},
     "output_type": "execute_result"
    }
   ],
   "source": [
    "hog_image"
   ]
  },
  {
   "cell_type": "code",
   "execution_count": null,
   "id": "serious-attraction",
   "metadata": {},
   "outputs": [],
   "source": []
  },
  {
   "cell_type": "code",
   "execution_count": null,
   "id": "proper-longer",
   "metadata": {},
   "outputs": [],
   "source": []
  },
  {
   "cell_type": "code",
   "execution_count": 27,
   "id": "nervous-dayton",
   "metadata": {},
   "outputs": [
    {
     "name": "stderr",
     "output_type": "stream",
     "text": [
      "100%|██████████████████████████████████████████████████████████████████████████████████████████████████| 50000/50000 [00:42<00:00, 1169.27it/s]\n",
      "100%|██████████████████████████████████████████████████████████████████████████████████████████████████| 10000/10000 [00:07<00:00, 1303.81it/s]\n"
     ]
    }
   ],
   "source": [
    "from tqdm import tqdm   # A\n",
    "\n",
    "def calculate_hogs(images):  # B\n",
    "    hog_descriptors = []\n",
    "    for image in tqdm(np.sqrt(images)):\n",
    "        hog_descriptors.append(hog(\n",
    "            image, orientations=8, pixels_per_cell=(4, 4), cells_per_block=(2, 2), \n",
    "            channel_axis=-1, transform_sqrt=True, block_norm='L2-Hys', visualize=False\n",
    "        ))\n",
    "\n",
    "    return np.squeeze(hog_descriptors)\n",
    "\n",
    "hog_training = calculate_hogs(training_images)\n",
    "hog_testing = calculate_hogs(testing_images)\n",
    "\n",
    "# A tqdm will give us a progress bar so we can see how long it takes to calculate our HOGs\n",
    "# B function to calculate HOGs for a set of images"
   ]
  },
  {
   "cell_type": "code",
   "execution_count": 28,
   "id": "combined-apartment",
   "metadata": {},
   "outputs": [
    {
     "data": {
      "text/plain": [
       "(50000, 1568)"
      ]
     },
     "execution_count": 28,
     "metadata": {},
     "output_type": "execute_result"
    }
   ],
   "source": [
    "hog_training.shape"
   ]
  },
  {
   "cell_type": "code",
   "execution_count": 29,
   "id": "absolute-excellence",
   "metadata": {},
   "outputs": [
    {
     "data": {
      "text/plain": [
       "(10000, 1568)"
      ]
     },
     "execution_count": 29,
     "metadata": {},
     "output_type": "execute_result"
    }
   ],
   "source": [
    "hog_testing.shape"
   ]
  },
  {
   "cell_type": "code",
   "execution_count": 30,
   "id": "second-senior",
   "metadata": {},
   "outputs": [
    {
     "name": "stdout",
     "output_type": "stream",
     "text": [
      "HOG + LogReg\n",
      "=====================\n"
     ]
    },
    {
     "name": "stderr",
     "output_type": "stream",
     "text": [
      "/opt/homebrew/Caskroom/miniforge/base/envs/pytorch_env/lib/python3.9/site-packages/sklearn/linear_model/_sag.py:352: ConvergenceWarning: The max_iter was reached which means the coef_ did not converge\n",
      "  warnings.warn(\n",
      "/opt/homebrew/Caskroom/miniforge/base/envs/pytorch_env/lib/python3.9/site-packages/sklearn/linear_model/_sag.py:352: ConvergenceWarning: The max_iter was reached which means the coef_ did not converge\n",
      "  warnings.warn(\n",
      "/opt/homebrew/Caskroom/miniforge/base/envs/pytorch_env/lib/python3.9/site-packages/sklearn/linear_model/_sag.py:352: ConvergenceWarning: The max_iter was reached which means the coef_ did not converge\n",
      "  warnings.warn(\n",
      "/opt/homebrew/Caskroom/miniforge/base/envs/pytorch_env/lib/python3.9/site-packages/sklearn/linear_model/_sag.py:352: ConvergenceWarning: The max_iter was reached which means the coef_ did not converge\n",
      "  warnings.warn(\n",
      "/opt/homebrew/Caskroom/miniforge/base/envs/pytorch_env/lib/python3.9/site-packages/sklearn/linear_model/_sag.py:352: ConvergenceWarning: The max_iter was reached which means the coef_ did not converge\n",
      "  warnings.warn(\n",
      "/opt/homebrew/Caskroom/miniforge/base/envs/pytorch_env/lib/python3.9/site-packages/sklearn/linear_model/_sag.py:352: ConvergenceWarning: The max_iter was reached which means the coef_ did not converge\n",
      "  warnings.warn(\n"
     ]
    },
    {
     "name": "stdout",
     "output_type": "stream",
     "text": [
      "               precision    recall  f1-score   support\n",
      "\n",
      "  b'airplane'       0.61      0.60      0.61      1000\n",
      "b'automobile'       0.68      0.69      0.68      1000\n",
      "      b'bird'       0.43      0.37      0.40      1000\n",
      "       b'cat'       0.42      0.35      0.39      1000\n",
      "      b'deer'       0.47      0.50      0.49      1000\n",
      "       b'dog'       0.47      0.45      0.46      1000\n",
      "      b'frog'       0.56      0.69      0.62      1000\n",
      "     b'horse'       0.58      0.60      0.59      1000\n",
      "      b'ship'       0.64      0.65      0.64      1000\n",
      "     b'truck'       0.69      0.71      0.70      1000\n",
      "\n",
      "     accuracy                           0.56     10000\n",
      "    macro avg       0.56      0.56      0.56     10000\n",
      " weighted avg       0.56      0.56      0.56     10000\n",
      "\n",
      "Best params: {'classifier__C': 0.1}\n",
      "Overall took 1549.08 seconds\n"
     ]
    },
    {
     "data": {
      "text/plain": [
       "(Pipeline(steps=[('classifier', LogisticRegression(C=0.1, solver='saga'))]),\n",
       " array([\"b'dog'\", \"b'ship'\", \"b'automobile'\", ..., \"b'cat'\",\n",
       "        \"b'automobile'\", \"b'horse'\"], dtype='<U13'))"
      ]
     },
     "execution_count": 30,
     "metadata": {},
     "output_type": "execute_result"
    }
   ],
   "source": [
    "print(\"HOG + LogReg\\n=====================\")\n",
    "advanced_grid_search(\n",
    "    hog_training, training_labels, hog_testing, testing_labels, \n",
    "    ml_pipeline, params\n",
    ")"
   ]
  },
  {
   "cell_type": "code",
   "execution_count": null,
   "id": "naughty-angola",
   "metadata": {},
   "outputs": [],
   "source": []
  },
  {
   "cell_type": "code",
   "execution_count": null,
   "id": "floating-africa",
   "metadata": {},
   "outputs": [],
   "source": []
  },
  {
   "cell_type": "code",
   "execution_count": 31,
   "id": "domestic-wrist",
   "metadata": {},
   "outputs": [
    {
     "data": {
      "text/plain": [
       "Text(0, 0.5, '% of Explained Variance')"
      ]
     },
     "execution_count": 31,
     "metadata": {},
     "output_type": "execute_result"
    },
    {
     "data": {
      "image/png": "[encoded data removed]",
      "text/plain": [
       "<Figure size 432x288 with 1 Axes>"
      ]
     },
     "metadata": {
      "needs_background": "light"
     },
     "output_type": "display_data"
    }
   ],
   "source": [
    "from sklearn.decomposition import PCA  # A\n",
    "\n",
    "num_hog_features = hog_training.shape[1]  # B\n",
    "\n",
    "p = PCA(n_components=num_hog_features)  # C\n",
    "p.fit(hog_training)  # C\n",
    "\n",
    "plt.plot(p.explained_variance_ratio_.cumsum())  # D\n",
    "plt.title('Explained Variance vs # of PCA Components')\n",
    "plt.xlabel('Number of Components')\n",
    "plt.ylabel('% of Explained Variance')\n",
    "\n",
    "# A import our Principcal Component Analysis module\n",
    "# B Number of features from the original HOG transformation\n",
    "# C Fit the PCA module to the HOG matrix\n",
    "# D Visualize the cumulative explained variance"
   ]
  },
  {
   "cell_type": "code",
   "execution_count": 32,
   "id": "prostate-raleigh",
   "metadata": {},
   "outputs": [
    {
     "name": "stdout",
     "output_type": "stream",
     "text": [
      "The explained variance using 10 components is 0.17028406262397766\n",
      "The explained variance using 100 components is 0.5219486355781555\n",
      "The explained variance using 200 components is 0.6963599920272827\n",
      "The explained variance using 400 components is 0.9156585335731506\n"
     ]
    }
   ],
   "source": [
    "explained_variance = p.explained_variance_ratio_.cumsum()\n",
    "\n",
    "for i in [10, 100, 200, 400]:\n",
    "    print(f'The explained variance using {i} components is {explained_variance[i - 1]}')"
   ]
  },
  {
   "cell_type": "code",
   "execution_count": null,
   "id": "beginning-construction",
   "metadata": {},
   "outputs": [],
   "source": []
  },
  {
   "cell_type": "code",
   "execution_count": 33,
   "id": "yellow-duncan",
   "metadata": {},
   "outputs": [
    {
     "name": "stdout",
     "output_type": "stream",
     "text": [
      "HOG + PCA + LogReg\n",
      "=====================\n"
     ]
    },
    {
     "name": "stderr",
     "output_type": "stream",
     "text": [
      "/opt/homebrew/Caskroom/miniforge/base/envs/pytorch_env/lib/python3.9/site-packages/sklearn/linear_model/_sag.py:352: ConvergenceWarning: The max_iter was reached which means the coef_ did not converge\n",
      "  warnings.warn(\n",
      "/opt/homebrew/Caskroom/miniforge/base/envs/pytorch_env/lib/python3.9/site-packages/sklearn/linear_model/_sag.py:352: ConvergenceWarning: The max_iter was reached which means the coef_ did not converge\n",
      "  warnings.warn(\n",
      "/opt/homebrew/Caskroom/miniforge/base/envs/pytorch_env/lib/python3.9/site-packages/sklearn/linear_model/_sag.py:352: ConvergenceWarning: The max_iter was reached which means the coef_ did not converge\n",
      "  warnings.warn(\n"
     ]
    },
    {
     "name": "stdout",
     "output_type": "stream",
     "text": [
      "               precision    recall  f1-score   support\n",
      "\n",
      "  b'airplane'       0.60      0.60      0.60      1000\n",
      "b'automobile'       0.68      0.68      0.68      1000\n",
      "      b'bird'       0.44      0.37      0.40      1000\n",
      "       b'cat'       0.42      0.35      0.39      1000\n",
      "      b'deer'       0.47      0.50      0.48      1000\n",
      "       b'dog'       0.48      0.45      0.46      1000\n",
      "      b'frog'       0.55      0.68      0.61      1000\n",
      "     b'horse'       0.58      0.59      0.58      1000\n",
      "      b'ship'       0.63      0.64      0.63      1000\n",
      "     b'truck'       0.68      0.70      0.69      1000\n",
      "\n",
      "     accuracy                           0.56     10000\n",
      "    macro avg       0.55      0.56      0.55     10000\n",
      " weighted avg       0.55      0.56      0.55     10000\n",
      "\n",
      "Best params: {'classifier__C': 0.1}\n",
      "Overall took 463.00 seconds\n"
     ]
    },
    {
     "data": {
      "text/plain": [
       "(Pipeline(steps=[('classifier', LogisticRegression(C=0.1, solver='saga'))]),\n",
       " array([\"b'dog'\", \"b'ship'\", \"b'truck'\", ..., \"b'cat'\", \"b'automobile'\",\n",
       "        \"b'horse'\"], dtype='<U13'))"
      ]
     },
     "execution_count": 33,
     "metadata": {},
     "output_type": "execute_result"
    }
   ],
   "source": [
    "p = PCA(n_components=600)  # A\n",
    "\n",
    "hog_training_pca = p.fit_transform(hog_training)  # B\n",
    "hog_testing_pca = p.transform(hog_testing)  # B\n",
    "\n",
    "print(\"HOG + PCA + LogReg\\n=====================\")\n",
    "advanced_grid_search(  # C\n",
    "    hog_training_pca, training_labels, hog_testing_pca, testing_labels, \n",
    "    ml_pipeline, params\n",
    ")\n",
    "\n",
    "# A Choose to extract 600 new features\n",
    "# B Transform the original HOG features to the reduced space\n",
    "# C Get accuracy for reduced HOG features"
   ]
  },
  {
   "cell_type": "code",
   "execution_count": null,
   "id": "welcome-vegetation",
   "metadata": {},
   "outputs": [],
   "source": []
  },
  {
   "cell_type": "code",
   "execution_count": null,
   "id": "particular-thread",
   "metadata": {},
   "outputs": [],
   "source": []
  },
  {
   "cell_type": "code",
   "execution_count": null,
   "id": "athletic-south",
   "metadata": {},
   "outputs": [],
   "source": []
  },
  {
   "cell_type": "code",
   "execution_count": 34,
   "id": "popular-parent",
   "metadata": {},
   "outputs": [
    {
     "name": "stderr",
     "output_type": "stream",
     "text": [
      "Downloading: \"https://download.pytorch.org/models/vgg11-bbd30ac9.pth\" to /Users/sinanozdemir/.cache/torch/hub/checkpoints/vgg11-bbd30ac9.pth\n"
     ]
    },
    {
     "data": {
      "application/vnd.jupyter.widget-view+json": {
       "model_id": "bc1d2796d29448c8a92dc05981b093ae",
       "version_major": 2,
       "version_minor": 0
      },
      "text/plain": [
       "  0%|          | 0.00/507M [00:00<?, ?B/s]"
      ]
     },
     "metadata": {},
     "output_type": "display_data"
    }
   ],
   "source": [
    "import torchvision.models as models\n",
    "import torch.nn as nn\n",
    "\n",
    "vgg_model = models.vgg11(pretrained='imagenet')  # A\n",
    "\n",
    "normalized_training_images = ((training_images/255) - [0.485, 0.456, 0.406]) / [0.229, 0.224, 0.225]  # B\n",
    "normalized_testing_images = ((testing_images/255) - [0.485, 0.456, 0.406]) / [0.229, 0.224, 0.225]  # B\n",
    "\n",
    "# A Instantiate a VGG-11 Model pretrained on the imagenet corpus\n",
    "# B Normalize the raw images using values from the original paper"
   ]
  },
  {
   "cell_type": "code",
   "execution_count": 35,
   "id": "filled-speed",
   "metadata": {},
   "outputs": [],
   "source": [
    "import torch\n",
    "from torch.utils.data import TensorDataset, DataLoader\n",
    "\n",
    "training_images_tensor = torch.Tensor(normalized_training_images.transpose(0, 3, 1, 2))  # A\n",
    "training_labels_tensor = torch.Tensor(int_training_labels).type(torch.LongTensor)  # A\n",
    "\n",
    "training_dataset = TensorDataset(training_images_tensor, training_labels_tensor)  # A\n",
    "training_dataloader = DataLoader(training_dataset, shuffle=True, batch_size=2048)  # A\n",
    "\n",
    "\n",
    "testing_images_tensor = torch.Tensor(normalized_testing_images.transpose(0, 3, 1, 2))  # B\n",
    "testing_labels_tensor = torch.Tensor(int_testing_labels).type(torch.LongTensor)  # B\n",
    "\n",
    "testing_dataset = TensorDataset(testing_images_tensor, testing_labels_tensor)  # B\n",
    "testing_dataloader = DataLoader(testing_dataset, shuffle=True, batch_size=2048)  # B\n",
    "\n",
    "# A Transform the normalized training image data into a Pytorch DataLoader\n",
    "# B Transform the normalized testing image data into a Pytorch DataLoader"
   ]
  },
  {
   "cell_type": "code",
   "execution_count": null,
   "id": "smoking-poland",
   "metadata": {},
   "outputs": [],
   "source": []
  },
  {
   "cell_type": "code",
   "execution_count": 36,
   "id": "accomplished-contract",
   "metadata": {},
   "outputs": [],
   "source": [
    "from tqdm import tqdm\n",
    "\n",
    "def get_vgg_features(feature_extractor):\n",
    "    print(\"Extracting features for training set\")\n",
    "    extracted_training_images = []\n",
    "    shuffled_training_labels = []\n",
    "    for batch_idx, (data_, target_) in tqdm(enumerate(training_dataloader)):\n",
    "        extracted_training_images.append(feature_extractor(data_).detach().numpy().squeeze((2, 3)))\n",
    "        shuffled_training_labels += target_\n",
    "\n",
    "    print(\"Extracting features for testing set\")\n",
    "    extracted_testing_images = []\n",
    "    shuffled_testing_labels = []\n",
    "    for batch_idx, (data_, target_) in tqdm(enumerate(testing_dataloader)):\n",
    "        extracted_testing_images.append(feature_extractor(data_).detach().numpy().squeeze((2, 3)))\n",
    "        shuffled_testing_labels += target_\n",
    "\n",
    "    return np.vstack(extracted_training_images), shuffled_training_labels, np.vstack(extracted_testing_images), shuffled_testing_labels\n",
    "        "
   ]
  },
  {
   "cell_type": "code",
   "execution_count": null,
   "id": "faced-forge",
   "metadata": {
    "scrolled": true
   },
   "outputs": [],
   "source": []
  },
  {
   "cell_type": "code",
   "execution_count": 37,
   "id": "structured-addiction",
   "metadata": {},
   "outputs": [
    {
     "data": {
      "text/plain": [
       "VGG(\n",
       "  (features): Sequential(\n",
       "    (0): Conv2d(3, 64, kernel_size=(3, 3), stride=(1, 1), padding=(1, 1))\n",
       "    (1): ReLU(inplace=True)\n",
       "    (2): MaxPool2d(kernel_size=2, stride=2, padding=0, dilation=1, ceil_mode=False)\n",
       "    (3): Conv2d(64, 128, kernel_size=(3, 3), stride=(1, 1), padding=(1, 1))\n",
       "    (4): ReLU(inplace=True)\n",
       "    (5): MaxPool2d(kernel_size=2, stride=2, padding=0, dilation=1, ceil_mode=False)\n",
       "    (6): Conv2d(128, 256, kernel_size=(3, 3), stride=(1, 1), padding=(1, 1))\n",
       "    (7): ReLU(inplace=True)\n",
       "    (8): Conv2d(256, 256, kernel_size=(3, 3), stride=(1, 1), padding=(1, 1))\n",
       "    (9): ReLU(inplace=True)\n",
       "    (10): MaxPool2d(kernel_size=2, stride=2, padding=0, dilation=1, ceil_mode=False)\n",
       "    (11): Conv2d(256, 512, kernel_size=(3, 3), stride=(1, 1), padding=(1, 1))\n",
       "    (12): ReLU(inplace=True)\n",
       "    (13): Conv2d(512, 512, kernel_size=(3, 3), stride=(1, 1), padding=(1, 1))\n",
       "    (14): ReLU(inplace=True)\n",
       "    (15): MaxPool2d(kernel_size=2, stride=2, padding=0, dilation=1, ceil_mode=False)\n",
       "    (16): Conv2d(512, 512, kernel_size=(3, 3), stride=(1, 1), padding=(1, 1))\n",
       "    (17): ReLU(inplace=True)\n",
       "    (18): Conv2d(512, 512, kernel_size=(3, 3), stride=(1, 1), padding=(1, 1))\n",
       "    (19): ReLU(inplace=True)\n",
       "    (20): MaxPool2d(kernel_size=2, stride=2, padding=0, dilation=1, ceil_mode=False)\n",
       "  )\n",
       "  (avgpool): AdaptiveAvgPool2d(output_size=(7, 7))\n",
       "  (classifier): Sequential(\n",
       "    (0): Linear(in_features=25088, out_features=4096, bias=True)\n",
       "    (1): ReLU(inplace=True)\n",
       "    (2): Dropout(p=0.5, inplace=False)\n",
       "    (3): Linear(in_features=4096, out_features=4096, bias=True)\n",
       "    (4): ReLU(inplace=True)\n",
       "    (5): Dropout(p=0.5, inplace=False)\n",
       "    (6): Linear(in_features=4096, out_features=1000, bias=True)\n",
       "  )\n",
       ")"
      ]
     },
     "execution_count": 37,
     "metadata": {},
     "output_type": "execute_result"
    }
   ],
   "source": [
    "vgg_model"
   ]
  },
  {
   "cell_type": "code",
   "execution_count": 38,
   "id": "accessory-converter",
   "metadata": {
    "scrolled": false
   },
   "outputs": [
    {
     "name": "stdout",
     "output_type": "stream",
     "text": [
      "Extracting features for training set\n"
     ]
    },
    {
     "name": "stderr",
     "output_type": "stream",
     "text": [
      "25it [01:35,  3.82s/it]\n"
     ]
    },
    {
     "name": "stdout",
     "output_type": "stream",
     "text": [
      "Extracting features for testing set\n"
     ]
    },
    {
     "name": "stderr",
     "output_type": "stream",
     "text": [
      "5it [00:19,  3.83s/it]\n"
     ]
    },
    {
     "name": "stdout",
     "output_type": "stream",
     "text": [
      "VGG11(Imagenet) + LogReg\n",
      "=====================\n"
     ]
    },
    {
     "name": "stderr",
     "output_type": "stream",
     "text": [
      "/opt/homebrew/Caskroom/miniforge/base/envs/pytorch_env/lib/python3.9/site-packages/sklearn/linear_model/_sag.py:352: ConvergenceWarning: The max_iter was reached which means the coef_ did not converge\n",
      "  warnings.warn(\n",
      "/opt/homebrew/Caskroom/miniforge/base/envs/pytorch_env/lib/python3.9/site-packages/sklearn/linear_model/_sag.py:352: ConvergenceWarning: The max_iter was reached which means the coef_ did not converge\n",
      "  warnings.warn(\n",
      "/opt/homebrew/Caskroom/miniforge/base/envs/pytorch_env/lib/python3.9/site-packages/sklearn/linear_model/_sag.py:352: ConvergenceWarning: The max_iter was reached which means the coef_ did not converge\n",
      "  warnings.warn(\n",
      "/opt/homebrew/Caskroom/miniforge/base/envs/pytorch_env/lib/python3.9/site-packages/sklearn/linear_model/_sag.py:352: ConvergenceWarning: The max_iter was reached which means the coef_ did not converge\n",
      "  warnings.warn(\n",
      "/opt/homebrew/Caskroom/miniforge/base/envs/pytorch_env/lib/python3.9/site-packages/sklearn/linear_model/_sag.py:352: ConvergenceWarning: The max_iter was reached which means the coef_ did not converge\n",
      "  warnings.warn(\n",
      "/opt/homebrew/Caskroom/miniforge/base/envs/pytorch_env/lib/python3.9/site-packages/sklearn/linear_model/_sag.py:352: ConvergenceWarning: The max_iter was reached which means the coef_ did not converge\n",
      "  warnings.warn(\n",
      "/opt/homebrew/Caskroom/miniforge/base/envs/pytorch_env/lib/python3.9/site-packages/sklearn/linear_model/_sag.py:352: ConvergenceWarning: The max_iter was reached which means the coef_ did not converge\n",
      "  warnings.warn(\n",
      "/opt/homebrew/Caskroom/miniforge/base/envs/pytorch_env/lib/python3.9/site-packages/sklearn/linear_model/_sag.py:352: ConvergenceWarning: The max_iter was reached which means the coef_ did not converge\n",
      "  warnings.warn(\n",
      "/opt/homebrew/Caskroom/miniforge/base/envs/pytorch_env/lib/python3.9/site-packages/sklearn/linear_model/_sag.py:352: ConvergenceWarning: The max_iter was reached which means the coef_ did not converge\n",
      "  warnings.warn(\n"
     ]
    },
    {
     "name": "stdout",
     "output_type": "stream",
     "text": [
      "              precision    recall  f1-score   support\n",
      "\n",
      "           0       0.72      0.74      0.73      1000\n",
      "           1       0.76      0.79      0.77      1000\n",
      "           2       0.63      0.57      0.60      1000\n",
      "           3       0.56      0.53      0.54      1000\n",
      "           4       0.63      0.66      0.64      1000\n",
      "           5       0.69      0.64      0.66      1000\n",
      "           6       0.70      0.78      0.74      1000\n",
      "           7       0.71      0.72      0.71      1000\n",
      "           8       0.76      0.76      0.76      1000\n",
      "           9       0.76      0.76      0.76      1000\n",
      "\n",
      "    accuracy                           0.69     10000\n",
      "   macro avg       0.69      0.69      0.69     10000\n",
      "weighted avg       0.69      0.69      0.69     10000\n",
      "\n",
      "Best params: {'classifier__C': 0.1}\n",
      "Overall took 596.99 seconds\n"
     ]
    },
    {
     "name": "stderr",
     "output_type": "stream",
     "text": [
      "/opt/homebrew/Caskroom/miniforge/base/envs/pytorch_env/lib/python3.9/site-packages/sklearn/linear_model/_sag.py:352: ConvergenceWarning: The max_iter was reached which means the coef_ did not converge\n",
      "  warnings.warn(\n"
     ]
    },
    {
     "data": {
      "text/plain": [
       "(Pipeline(steps=[('classifier', LogisticRegression(C=0.1, solver='saga'))]),\n",
       " array([6, 0, 3, ..., 7, 9, 4]))"
      ]
     },
     "execution_count": 38,
     "metadata": {},
     "output_type": "execute_result"
    }
   ],
   "source": [
    "transformed_training_images, shuffled_training_labels, transformed_testing_images, shuffled_testing_labels = get_vgg_features(vgg_model.features)  # A\n",
    "\n",
    "print(\"VGG11(Imagenet) + LogReg\\n=====================\")\n",
    "advanced_grid_search(\n",
    "    transformed_training_images, shuffled_training_labels, # B\n",
    "    transformed_testing_images, shuffled_testing_labels,   # B\n",
    "    ml_pipeline, params\n",
    ")\n",
    "\n",
    "# A extract features from the VGG-11 Model\n",
    "# B We needed to re-extract the training labels because the dataloader will shuffle the points around"
   ]
  },
  {
   "cell_type": "code",
   "execution_count": null,
   "id": "decreased-industry",
   "metadata": {},
   "outputs": [],
   "source": []
  },
  {
   "cell_type": "code",
   "execution_count": 39,
   "id": "amber-halloween",
   "metadata": {},
   "outputs": [],
   "source": [
    "device = torch.device('cuda:0' if torch.cuda.is_available() else 'cpu')  # A\n",
    "\n",
    "fine_tuned_vgg_model = models.vgg11(pretrained='imagenet')  # B\n",
    "\n",
    "fine_tuned_vgg_model.classifier[-1].out_features = 10  # C\n",
    "\n",
    "for layer in fine_tuned_vgg_model.classifier:  # D\n",
    "    if hasattr(layer, 'weight'):  # D\n",
    "        torch.nn.init.xavier_uniform_(layer.weight)  # D\n",
    "    if hasattr(layer, 'bias'):  # D\n",
    "        nn.init.constant_(layer.bias.data, 0)  # D\n",
    "\n",
    "# A set device to either cuda or cpu\n",
    "# B instantiate a new VGG model\n",
    "# C Change the final classifier layer to output 10 classes instead of 1,000\n",
    "# D Randomize all parameters in the classifier to start fresh"
   ]
  },
  {
   "cell_type": "code",
   "execution_count": null,
   "id": "military-journalism",
   "metadata": {},
   "outputs": [],
   "source": []
  },
  {
   "cell_type": "code",
   "execution_count": 40,
   "id": "printable-circus",
   "metadata": {},
   "outputs": [],
   "source": [
    "import torch.optim as optim  # A\n",
    "\n",
    "criterion = nn.CrossEntropyLoss()  # A\n",
    "optimizer = optim.SGD(fine_tuned_vgg_model.parameters(), lr=0.01, momentum=0.9)  # A\n",
    "\n",
    "n_epochs = 15  # A\n",
    "print_every = 10  # A\n",
    "valid_loss_min = np.Inf  # A\n",
    "total_step = len(training_dataloader)  # A\n",
    "\n",
    "train_loss, val_loss, train_acc, val_acc = [], [], [], []  # B\n",
    "\n",
    "\n",
    "# A Set our training parameters (parameter tuning happened off-screen)\n",
    "# B Initialize lists to keep track of loss and accuracy"
   ]
  },
  {
   "cell_type": "code",
   "execution_count": 41,
   "id": "radical-matter",
   "metadata": {
    "scrolled": true
   },
   "outputs": [
    {
     "name": "stdout",
     "output_type": "stream",
     "text": [
      "Epoch 1\n",
      "\n",
      "Epoch [1/15], Step [0/25], Loss: 9.2352\n"
     ]
    },
    {
     "ename": "KeyboardInterrupt",
     "evalue": "",
     "output_type": "error",
     "traceback": [
      "\u001b[0;31m---------------------------------------------------------------------------\u001b[0m",
      "\u001b[0;31mKeyboardInterrupt\u001b[0m                         Traceback (most recent call last)",
      "Input \u001b[0;32mIn [41]\u001b[0m, in \u001b[0;36m<cell line: 3>\u001b[0;34m()\u001b[0m\n\u001b[1;32m     12\u001b[0m outputs \u001b[38;5;241m=\u001b[39m fine_tuned_vgg_model(data_)\n\u001b[1;32m     13\u001b[0m loss \u001b[38;5;241m=\u001b[39m criterion(outputs, target_)\n\u001b[0;32m---> 14\u001b[0m \u001b[43mloss\u001b[49m\u001b[38;5;241;43m.\u001b[39;49m\u001b[43mbackward\u001b[49m\u001b[43m(\u001b[49m\u001b[43m)\u001b[49m\n\u001b[1;32m     15\u001b[0m optimizer\u001b[38;5;241m.\u001b[39mstep()\n\u001b[1;32m     17\u001b[0m running_loss \u001b[38;5;241m+\u001b[39m\u001b[38;5;241m=\u001b[39m loss\u001b[38;5;241m.\u001b[39mitem()\n",
      "File \u001b[0;32m/opt/homebrew/Caskroom/miniforge/base/envs/pytorch_env/lib/python3.9/site-packages/torch/_tensor.py:307\u001b[0m, in \u001b[0;36mTensor.backward\u001b[0;34m(self, gradient, retain_graph, create_graph, inputs)\u001b[0m\n\u001b[1;32m    298\u001b[0m \u001b[38;5;28;01mif\u001b[39;00m has_torch_function_unary(\u001b[38;5;28mself\u001b[39m):\n\u001b[1;32m    299\u001b[0m     \u001b[38;5;28;01mreturn\u001b[39;00m handle_torch_function(\n\u001b[1;32m    300\u001b[0m         Tensor\u001b[38;5;241m.\u001b[39mbackward,\n\u001b[1;32m    301\u001b[0m         (\u001b[38;5;28mself\u001b[39m,),\n\u001b[0;32m   (...)\u001b[0m\n\u001b[1;32m    305\u001b[0m         create_graph\u001b[38;5;241m=\u001b[39mcreate_graph,\n\u001b[1;32m    306\u001b[0m         inputs\u001b[38;5;241m=\u001b[39minputs)\n\u001b[0;32m--> 307\u001b[0m \u001b[43mtorch\u001b[49m\u001b[38;5;241;43m.\u001b[39;49m\u001b[43mautograd\u001b[49m\u001b[38;5;241;43m.\u001b[39;49m\u001b[43mbackward\u001b[49m\u001b[43m(\u001b[49m\u001b[38;5;28;43mself\u001b[39;49m\u001b[43m,\u001b[49m\u001b[43m \u001b[49m\u001b[43mgradient\u001b[49m\u001b[43m,\u001b[49m\u001b[43m \u001b[49m\u001b[43mretain_graph\u001b[49m\u001b[43m,\u001b[49m\u001b[43m \u001b[49m\u001b[43mcreate_graph\u001b[49m\u001b[43m,\u001b[49m\u001b[43m \u001b[49m\u001b[43minputs\u001b[49m\u001b[38;5;241;43m=\u001b[39;49m\u001b[43minputs\u001b[49m\u001b[43m)\u001b[49m\n",
      "File \u001b[0;32m/opt/homebrew/Caskroom/miniforge/base/envs/pytorch_env/lib/python3.9/site-packages/torch/autograd/__init__.py:154\u001b[0m, in \u001b[0;36mbackward\u001b[0;34m(tensors, grad_tensors, retain_graph, create_graph, grad_variables, inputs)\u001b[0m\n\u001b[1;32m    151\u001b[0m \u001b[38;5;28;01mif\u001b[39;00m retain_graph \u001b[38;5;129;01mis\u001b[39;00m \u001b[38;5;28;01mNone\u001b[39;00m:\n\u001b[1;32m    152\u001b[0m     retain_graph \u001b[38;5;241m=\u001b[39m create_graph\n\u001b[0;32m--> 154\u001b[0m \u001b[43mVariable\u001b[49m\u001b[38;5;241;43m.\u001b[39;49m\u001b[43m_execution_engine\u001b[49m\u001b[38;5;241;43m.\u001b[39;49m\u001b[43mrun_backward\u001b[49m\u001b[43m(\u001b[49m\n\u001b[1;32m    155\u001b[0m \u001b[43m    \u001b[49m\u001b[43mtensors\u001b[49m\u001b[43m,\u001b[49m\u001b[43m \u001b[49m\u001b[43mgrad_tensors_\u001b[49m\u001b[43m,\u001b[49m\u001b[43m \u001b[49m\u001b[43mretain_graph\u001b[49m\u001b[43m,\u001b[49m\u001b[43m \u001b[49m\u001b[43mcreate_graph\u001b[49m\u001b[43m,\u001b[49m\u001b[43m \u001b[49m\u001b[43minputs\u001b[49m\u001b[43m,\u001b[49m\n\u001b[1;32m    156\u001b[0m \u001b[43m    \u001b[49m\u001b[43mallow_unreachable\u001b[49m\u001b[38;5;241;43m=\u001b[39;49m\u001b[38;5;28;43;01mTrue\u001b[39;49;00m\u001b[43m,\u001b[49m\u001b[43m \u001b[49m\u001b[43maccumulate_grad\u001b[49m\u001b[38;5;241;43m=\u001b[39;49m\u001b[38;5;28;43;01mTrue\u001b[39;49;00m\u001b[43m)\u001b[49m\n",
      "\u001b[0;31mKeyboardInterrupt\u001b[0m: "
     ]
    }
   ],
   "source": [
    "# code inspired from https://www.pluralsight.com/guides/introduction-to-resnet\n",
    "\n",
    "for epoch in range(1, n_epochs + 1):\n",
    "    running_loss = 0.0\n",
    "    correct = 0\n",
    "    total=0\n",
    "    print(f'Epoch {epoch}\\n')\n",
    "    for batch_idx, (data_, target_) in enumerate(training_dataloader):\n",
    "        data_, target_ = data_.to(device), target_.to(device)\n",
    "        optimizer.zero_grad()  # clears the gradient or else they accumulate\n",
    "        \n",
    "        outputs = fine_tuned_vgg_model(data_)\n",
    "        loss = criterion(outputs, target_)\n",
    "        loss.backward()\n",
    "        optimizer.step()\n",
    "\n",
    "        running_loss += loss.item()\n",
    "        _, pred = torch.max(outputs, dim=1)\n",
    "        correct += torch.sum(pred==target_).item()\n",
    "        total += target_.size(0)\n",
    "        if (batch_idx) % print_every == 0:\n",
    "            print ('Epoch [{}/{}], Step [{}/{}], Loss: {:.4f}' \n",
    "                   .format(epoch, n_epochs, batch_idx, total_step, loss.item()))\n",
    "    train_acc.append(100 * correct / total)\n",
    "    train_loss.append(running_loss/total_step)\n",
    "    print(f'\\ntrain-loss: {np.mean(train_loss):.4f}, train-acc: {(100 * correct/total):.4f}%')\n",
    "    \n",
    "    batch_loss = 0\n",
    "    total_t=0\n",
    "    correct_t=0\n",
    "    with torch.no_grad():\n",
    "        fine_tuned_vgg_model.eval()\n",
    "        for data_t, target_t in (testing_dataloader):\n",
    "            data_t, target_t = data_t.to(device), target_t.to(device)\n",
    "            outputs_t = fine_tuned_vgg_model(data_t)\n",
    "            loss_t = criterion(outputs_t, target_t)\n",
    "            batch_loss += loss_t.item()\n",
    "            _, pred_t = torch.max(outputs_t, dim=1)\n",
    "            correct_t += torch.sum(pred_t==target_t).item()\n",
    "            total_t += target_t.size(0)\n",
    "        val_acc.append(100 * correct_t/total_t)\n",
    "        val_loss.append(batch_loss/len(testing_dataloader))\n",
    "        network_learned = batch_loss < valid_loss_min\n",
    "        print(f'validation loss: {np.mean(val_loss):.4f}, validation acc: {(100 * correct_t/total_t):.4f}%\\n')\n",
    "\n",
    "        if network_learned:\n",
    "            valid_loss_min = batch_loss\n",
    "            torch.save(fine_tuned_vgg_model.state_dict(), 'vgg_cifar10.pt')\n",
    "            print('Saving Parameters')\n",
    "            \n",
    "    fine_tuned_vgg_model.train()"
   ]
  },
  {
   "cell_type": "code",
   "execution_count": null,
   "id": "contained-sending",
   "metadata": {},
   "outputs": [],
   "source": [
    "plt.plot(val_loss)"
   ]
  },
  {
   "cell_type": "code",
   "execution_count": null,
   "id": "attached-popularity",
   "metadata": {},
   "outputs": [],
   "source": [
    "plt.plot(val_acc)\n",
    "plt.title('Testing Set Accuracy')\n",
    "plt.xlabel('Epoch')\n",
    "plt.ylabel('Accuracy %')"
   ]
  },
  {
   "cell_type": "code",
   "execution_count": null,
   "id": "spiritual-possibility",
   "metadata": {},
   "outputs": [],
   "source": [
    "models.vgg16"
   ]
  },
  {
   "cell_type": "code",
   "execution_count": null,
   "id": "official-subsection",
   "metadata": {
    "scrolled": false
   },
   "outputs": [],
   "source": [
    "cifar_fine_tuned_vgg_model = models.vgg11(pretrained='imagenet')  # A\n",
    "cifar_fine_tuned_vgg_model.classifier[-1].out_features = 10  # A\n",
    "\n",
    "cifar_fine_tuned_vgg_model.load_state_dict(torch.load('vgg_cifar10.pt', map_location=device))  # B\n",
    "\n",
    "cifar_finetuned_training_images, shuffled_training_labels, cifar_finetuned_testing_images, shuffled_testing_labels = get_vgg_features(cifar_fine_tuned_vgg_model.features)  # B\n",
    "\n",
    "print(\"Fine-tuned VGG11 + LogReg\\n=====================\")\n",
    "advanced_grid_search(  # C\n",
    "    cifar_finetuned_training_images, shuffled_training_labels, \n",
    "    cifar_finetuned_testing_images, shuffled_testing_labels, \n",
    "    ml_pipeline, params\n",
    ")\n",
    "\n",
    "# A Instantiate a new VGG-11 model\n",
    "# B Load up the trained parameters and extract fine-tuned features\n",
    "# C Run grid search on fine-tuned features"
   ]
  },
  {
   "cell_type": "code",
   "execution_count": null,
   "id": "imported-extra",
   "metadata": {},
   "outputs": [],
   "source": []
  },
  {
   "cell_type": "code",
   "execution_count": null,
   "id": "0ded3298",
   "metadata": {},
   "outputs": [],
   "source": []
  },
  {
   "cell_type": "code",
   "execution_count": null,
   "id": "0e70519b",
   "metadata": {},
   "outputs": [],
   "source": []
  },
  {
   "cell_type": "code",
   "execution_count": null,
   "id": "dc25f4ab",
   "metadata": {},
   "outputs": [],
   "source": []
  }
 ],
 "metadata": {
  "kernelspec": {
   "display_name": "Python 3 (ipykernel)",
   "language": "python",
   "name": "python3"
  },
  "language_info": {
   "codemirror_mode": {
    "name": "ipython",
    "version": 3
   },
   "file_extension": ".py",
   "mimetype": "text/x-python",
   "name": "python",
   "nbconvert_exporter": "python",
   "pygments_lexer": "ipython3",
   "version": "3.9.10"
  }
 },
 "nbformat": 4,
 "nbformat_minor": 5
}
