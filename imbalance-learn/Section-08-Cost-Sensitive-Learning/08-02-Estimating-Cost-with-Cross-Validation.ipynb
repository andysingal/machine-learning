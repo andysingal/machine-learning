{
 "cells": [
  {
   "cell_type": "markdown",
   "metadata": {},
   "source": [
    "## Estimating the Cost with Cross-Validation\n",
    "\n",
    "We mentioned that there are 3 ways of estimating the cost:\n",
    "\n",
    "- Domain Expert provides the cost\n",
    "- Balance Ratio (we did this in previous notebook)\n",
    "- Cross-validation: find cost as hyper-parameter\n",
    "\n",
    "In this notebook, we will find the cost with hyper parameter search and cross-validation."
   ]
  },
  {
   "cell_type": "code",
   "execution_count": 1,
   "metadata": {},
   "outputs": [],
   "source": [
    "import pandas as pd\n",
    "from sklearn.ensemble import RandomForestClassifier\n",
    "from sklearn.metrics import roc_auc_score\n",
    "from sklearn.model_selection import train_test_split\n",
    "from sklearn.model_selection import GridSearchCV"
   ]
  },
  {
   "cell_type": "code",
   "execution_count": 2,
   "metadata": {},
   "outputs": [
    {
     "data": {
      "text/html": [
       "<div>\n",
       "<style scoped>\n",
       "    .dataframe tbody tr th:only-of-type {\n",
       "        vertical-align: middle;\n",
       "    }\n",
       "\n",
       "    .dataframe tbody tr th {\n",
       "        vertical-align: top;\n",
       "    }\n",
       "\n",
       "    .dataframe thead th {\n",
       "        text-align: right;\n",
       "    }\n",
       "</style>\n",
       "<table border=\"1\" class=\"dataframe\">\n",
       "  <thead>\n",
       "    <tr style=\"text-align: right;\">\n",
       "      <th></th>\n",
       "      <th>0</th>\n",
       "      <th>1</th>\n",
       "      <th>2</th>\n",
       "      <th>3</th>\n",
       "      <th>4</th>\n",
       "      <th>5</th>\n",
       "      <th>6</th>\n",
       "      <th>7</th>\n",
       "      <th>8</th>\n",
       "      <th>9</th>\n",
       "      <th>...</th>\n",
       "      <th>65</th>\n",
       "      <th>66</th>\n",
       "      <th>67</th>\n",
       "      <th>68</th>\n",
       "      <th>69</th>\n",
       "      <th>70</th>\n",
       "      <th>71</th>\n",
       "      <th>72</th>\n",
       "      <th>73</th>\n",
       "      <th>target</th>\n",
       "    </tr>\n",
       "  </thead>\n",
       "  <tbody>\n",
       "    <tr>\n",
       "      <th>125847</th>\n",
       "      <td>54.11</td>\n",
       "      <td>29.11</td>\n",
       "      <td>1.34</td>\n",
       "      <td>31.5</td>\n",
       "      <td>-46.0</td>\n",
       "      <td>1400.7</td>\n",
       "      <td>-1.87</td>\n",
       "      <td>1.64</td>\n",
       "      <td>13.5</td>\n",
       "      <td>-85.5</td>\n",
       "      <td>...</td>\n",
       "      <td>714.5</td>\n",
       "      <td>0.06</td>\n",
       "      <td>-0.08</td>\n",
       "      <td>-21.0</td>\n",
       "      <td>-50.0</td>\n",
       "      <td>145.2</td>\n",
       "      <td>1.59</td>\n",
       "      <td>-0.34</td>\n",
       "      <td>-1.64</td>\n",
       "      <td>-1</td>\n",
       "    </tr>\n",
       "    <tr>\n",
       "      <th>144780</th>\n",
       "      <td>60.18</td>\n",
       "      <td>27.27</td>\n",
       "      <td>-0.47</td>\n",
       "      <td>-8.5</td>\n",
       "      <td>-12.5</td>\n",
       "      <td>895.8</td>\n",
       "      <td>0.04</td>\n",
       "      <td>-0.28</td>\n",
       "      <td>-1.0</td>\n",
       "      <td>-65.5</td>\n",
       "      <td>...</td>\n",
       "      <td>927.2</td>\n",
       "      <td>-1.96</td>\n",
       "      <td>0.75</td>\n",
       "      <td>0.0</td>\n",
       "      <td>-40.0</td>\n",
       "      <td>420.5</td>\n",
       "      <td>-0.93</td>\n",
       "      <td>0.22</td>\n",
       "      <td>0.44</td>\n",
       "      <td>-1</td>\n",
       "    </tr>\n",
       "    <tr>\n",
       "      <th>44247</th>\n",
       "      <td>55.35</td>\n",
       "      <td>25.41</td>\n",
       "      <td>0.95</td>\n",
       "      <td>-10.0</td>\n",
       "      <td>-22.0</td>\n",
       "      <td>1463.0</td>\n",
       "      <td>0.86</td>\n",
       "      <td>0.61</td>\n",
       "      <td>11.5</td>\n",
       "      <td>-85.0</td>\n",
       "      <td>...</td>\n",
       "      <td>1396.1</td>\n",
       "      <td>1.31</td>\n",
       "      <td>1.01</td>\n",
       "      <td>0.0</td>\n",
       "      <td>-83.0</td>\n",
       "      <td>718.1</td>\n",
       "      <td>-0.09</td>\n",
       "      <td>0.55</td>\n",
       "      <td>0.59</td>\n",
       "      <td>-1</td>\n",
       "    </tr>\n",
       "    <tr>\n",
       "      <th>80256</th>\n",
       "      <td>63.67</td>\n",
       "      <td>25.48</td>\n",
       "      <td>-0.09</td>\n",
       "      <td>-9.0</td>\n",
       "      <td>81.5</td>\n",
       "      <td>3950.4</td>\n",
       "      <td>-1.05</td>\n",
       "      <td>-0.82</td>\n",
       "      <td>-13.5</td>\n",
       "      <td>-67.0</td>\n",
       "      <td>...</td>\n",
       "      <td>3774.7</td>\n",
       "      <td>0.55</td>\n",
       "      <td>0.81</td>\n",
       "      <td>3.0</td>\n",
       "      <td>-69.0</td>\n",
       "      <td>928.9</td>\n",
       "      <td>-0.44</td>\n",
       "      <td>0.24</td>\n",
       "      <td>-0.38</td>\n",
       "      <td>-1</td>\n",
       "    </tr>\n",
       "    <tr>\n",
       "      <th>71866</th>\n",
       "      <td>37.16</td>\n",
       "      <td>25.61</td>\n",
       "      <td>-0.44</td>\n",
       "      <td>-46.5</td>\n",
       "      <td>83.0</td>\n",
       "      <td>1802.5</td>\n",
       "      <td>1.37</td>\n",
       "      <td>-0.25</td>\n",
       "      <td>-19.0</td>\n",
       "      <td>-59.5</td>\n",
       "      <td>...</td>\n",
       "      <td>2199.2</td>\n",
       "      <td>1.58</td>\n",
       "      <td>0.93</td>\n",
       "      <td>-4.0</td>\n",
       "      <td>-125.0</td>\n",
       "      <td>57.0</td>\n",
       "      <td>1.15</td>\n",
       "      <td>-0.08</td>\n",
       "      <td>-0.45</td>\n",
       "      <td>-1</td>\n",
       "    </tr>\n",
       "  </tbody>\n",
       "</table>\n",
       "<p>5 rows × 75 columns</p>\n",
       "</div>"
      ],
      "text/plain": [
       "            0      1     2     3     4       5     6     7     8     9  ...  \\\n",
       "125847  54.11  29.11  1.34  31.5 -46.0  1400.7 -1.87  1.64  13.5 -85.5  ...   \n",
       "144780  60.18  27.27 -0.47  -8.5 -12.5   895.8  0.04 -0.28  -1.0 -65.5  ...   \n",
       "44247   55.35  25.41  0.95 -10.0 -22.0  1463.0  0.86  0.61  11.5 -85.0  ...   \n",
       "80256   63.67  25.48 -0.09  -9.0  81.5  3950.4 -1.05 -0.82 -13.5 -67.0  ...   \n",
       "71866   37.16  25.61 -0.44 -46.5  83.0  1802.5  1.37 -0.25 -19.0 -59.5  ...   \n",
       "\n",
       "            65    66    67    68     69     70    71    72    73  target  \n",
       "125847   714.5  0.06 -0.08 -21.0  -50.0  145.2  1.59 -0.34 -1.64      -1  \n",
       "144780   927.2 -1.96  0.75   0.0  -40.0  420.5 -0.93  0.22  0.44      -1  \n",
       "44247   1396.1  1.31  1.01   0.0  -83.0  718.1 -0.09  0.55  0.59      -1  \n",
       "80256   3774.7  0.55  0.81   3.0  -69.0  928.9 -0.44  0.24 -0.38      -1  \n",
       "71866   2199.2  1.58  0.93  -4.0 -125.0   57.0  1.15 -0.08 -0.45      -1  \n",
       "\n",
       "[5 rows x 75 columns]"
      ]
     },
     "execution_count": 2,
     "metadata": {},
     "output_type": "execute_result"
    }
   ],
   "source": [
    "# load data\n",
    "# only a few observations to speed the computaton\n",
    "\n",
    "data = pd.read_csv('../kdd2004.csv').sample(10000)\n",
    "\n",
    "data.head()"
   ]
  },
  {
   "cell_type": "code",
   "execution_count": 3,
   "metadata": {},
   "outputs": [
    {
     "data": {
      "text/plain": [
       "-1    0.9919\n",
       " 1    0.0081\n",
       "Name: target, dtype: float64"
      ]
     },
     "execution_count": 3,
     "metadata": {},
     "output_type": "execute_result"
    }
   ],
   "source": [
    "# imbalanced target\n",
    "\n",
    "data.target.value_counts() / len(data)"
   ]
  },
  {
   "cell_type": "code",
   "execution_count": 4,
   "metadata": {},
   "outputs": [
    {
     "data": {
      "text/plain": [
       "((7000, 74), (3000, 74))"
      ]
     },
     "execution_count": 4,
     "metadata": {},
     "output_type": "execute_result"
    }
   ],
   "source": [
    "# separate dataset into train and test\n",
    "\n",
    "X_train, X_test, y_train, y_test = train_test_split(\n",
    "    data.drop(labels=['target'], axis=1),  # drop the target\n",
    "    data['target'],  # just the target\n",
    "    test_size=0.3,\n",
    "    random_state=0)\n",
    "\n",
    "X_train.shape, X_test.shape"
   ]
  },
  {
   "cell_type": "code",
   "execution_count": 5,
   "metadata": {},
   "outputs": [],
   "source": [
    "# set up initial random forest\n",
    "\n",
    "rf = RandomForestClassifier(n_estimators=50,\n",
    "                            random_state=39,\n",
    "                            max_depth=2,\n",
    "                            n_jobs=4,\n",
    "                            class_weight=None)"
   ]
  },
  {
   "cell_type": "code",
   "execution_count": 6,
   "metadata": {},
   "outputs": [],
   "source": [
    "# set up parameter search grid\n",
    "# including class weight\n",
    "\n",
    "param_grid = {\n",
    "  'n_estimators': [10, 50, 100],\n",
    "  'max_depth': [None, 2, 3],\n",
    "  'class_weight': [None, {-1:1, 1:10}, {-1:1, 1:100}],\n",
    "}"
   ]
  },
  {
   "cell_type": "code",
   "execution_count": 7,
   "metadata": {},
   "outputs": [],
   "source": [
    "search = GridSearchCV(estimator=rf,\n",
    "                      scoring='roc_auc',\n",
    "                      param_grid=param_grid,\n",
    "                      cv=2,\n",
    "                     ).fit(X_train, y_train)"
   ]
  },
  {
   "cell_type": "code",
   "execution_count": 8,
   "metadata": {},
   "outputs": [
    {
     "data": {
      "text/plain": [
       "0.9768145161290323"
      ]
     },
     "execution_count": 8,
     "metadata": {},
     "output_type": "execute_result"
    }
   ],
   "source": [
    "search.best_score_"
   ]
  },
  {
   "cell_type": "code",
   "execution_count": 9,
   "metadata": {},
   "outputs": [
    {
     "data": {
      "text/plain": [
       "{'class_weight': {-1: 1, 1: 100}, 'max_depth': 2, 'n_estimators': 100}"
      ]
     },
     "execution_count": 9,
     "metadata": {},
     "output_type": "execute_result"
    }
   ],
   "source": [
    "search.best_params_"
   ]
  },
  {
   "cell_type": "code",
   "execution_count": 10,
   "metadata": {},
   "outputs": [
    {
     "data": {
      "text/plain": [
       "RandomForestClassifier(class_weight={-1: 1, 1: 100}, max_depth=2, n_jobs=4,\n",
       "                       random_state=39)"
      ]
     },
     "execution_count": 10,
     "metadata": {},
     "output_type": "execute_result"
    }
   ],
   "source": [
    "search.best_estimator_"
   ]
  },
  {
   "cell_type": "code",
   "execution_count": 11,
   "metadata": {},
   "outputs": [
    {
     "data": {
      "text/plain": [
       "0.9949042016806723"
      ]
     },
     "execution_count": 11,
     "metadata": {},
     "output_type": "execute_result"
    }
   ],
   "source": [
    "search.score(X_test, y_test)"
   ]
  },
  {
   "cell_type": "markdown",
   "metadata": {},
   "source": [
    "**HOMEWORK**\n",
    "\n",
    "Try other machine learning algorithms and other datasets available in imbalanced-learn"
   ]
  },
  {
   "cell_type": "code",
   "execution_count": null,
   "metadata": {},
   "outputs": [],
   "source": []
  }
 ],
 "metadata": {
  "kernelspec": {
   "display_name": "imbalanced",
   "language": "python",
   "name": "imbalanced"
  },
  "language_info": {
   "codemirror_mode": {
    "name": "ipython",
    "version": 3
   },
   "file_extension": ".py",
   "mimetype": "text/x-python",
   "name": "python",
   "nbconvert_exporter": "python",
   "pygments_lexer": "ipython3",
   "version": "3.8.2"
  },
  "toc": {
   "base_numbering": 1,
   "nav_menu": {},
   "number_sections": true,
   "sideBar": true,
   "skip_h1_title": false,
   "title_cell": "Table of Contents",
   "title_sidebar": "Contents",
   "toc_cell": false,
   "toc_position": {},
   "toc_section_display": true,
   "toc_window_display": true
  }
 },
 "nbformat": 4,
 "nbformat_minor": 4
}
