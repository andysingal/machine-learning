{
 "cells": [
  {
   "cell_type": "markdown",
   "metadata": {},
   "source": [
    "## MetaCost\n",
    "\n"
   ]
  },
  {
   "cell_type": "code",
   "execution_count": 1,
   "metadata": {},
   "outputs": [],
   "source": [
    "import numpy as np\n",
    "import pandas as pd\n",
    "\n",
    "from sklearn.linear_model import LogisticRegression\n",
    "from sklearn.metrics import roc_auc_score\n",
    "from sklearn.model_selection import train_test_split\n",
    "from metacost import MetaCost"
   ]
  },
  {
   "cell_type": "code",
   "execution_count": 2,
   "metadata": {},
   "outputs": [
    {
     "data": {
      "text/html": [
       "<div>\n",
       "<style scoped>\n",
       "    .dataframe tbody tr th:only-of-type {\n",
       "        vertical-align: middle;\n",
       "    }\n",
       "\n",
       "    .dataframe tbody tr th {\n",
       "        vertical-align: top;\n",
       "    }\n",
       "\n",
       "    .dataframe thead th {\n",
       "        text-align: right;\n",
       "    }\n",
       "</style>\n",
       "<table border=\"1\" class=\"dataframe\">\n",
       "  <thead>\n",
       "    <tr style=\"text-align: right;\">\n",
       "      <th></th>\n",
       "      <th>0</th>\n",
       "      <th>1</th>\n",
       "      <th>2</th>\n",
       "      <th>3</th>\n",
       "      <th>4</th>\n",
       "      <th>5</th>\n",
       "      <th>6</th>\n",
       "      <th>7</th>\n",
       "      <th>8</th>\n",
       "      <th>9</th>\n",
       "      <th>...</th>\n",
       "      <th>65</th>\n",
       "      <th>66</th>\n",
       "      <th>67</th>\n",
       "      <th>68</th>\n",
       "      <th>69</th>\n",
       "      <th>70</th>\n",
       "      <th>71</th>\n",
       "      <th>72</th>\n",
       "      <th>73</th>\n",
       "      <th>target</th>\n",
       "    </tr>\n",
       "  </thead>\n",
       "  <tbody>\n",
       "    <tr>\n",
       "      <th>7888</th>\n",
       "      <td>52.66</td>\n",
       "      <td>24.47</td>\n",
       "      <td>0.16</td>\n",
       "      <td>10.5</td>\n",
       "      <td>-30.5</td>\n",
       "      <td>3067.9</td>\n",
       "      <td>-0.43</td>\n",
       "      <td>-0.04</td>\n",
       "      <td>15.5</td>\n",
       "      <td>-107.0</td>\n",
       "      <td>...</td>\n",
       "      <td>2582.9</td>\n",
       "      <td>-0.80</td>\n",
       "      <td>0.93</td>\n",
       "      <td>2.0</td>\n",
       "      <td>-138.0</td>\n",
       "      <td>2478.1</td>\n",
       "      <td>-1.38</td>\n",
       "      <td>0.07</td>\n",
       "      <td>0.47</td>\n",
       "      <td>0</td>\n",
       "    </tr>\n",
       "    <tr>\n",
       "      <th>32228</th>\n",
       "      <td>79.05</td>\n",
       "      <td>22.00</td>\n",
       "      <td>0.53</td>\n",
       "      <td>-4.0</td>\n",
       "      <td>-16.0</td>\n",
       "      <td>2033.0</td>\n",
       "      <td>1.59</td>\n",
       "      <td>-0.14</td>\n",
       "      <td>-1.5</td>\n",
       "      <td>-111.5</td>\n",
       "      <td>...</td>\n",
       "      <td>1475.2</td>\n",
       "      <td>0.09</td>\n",
       "      <td>2.43</td>\n",
       "      <td>24.0</td>\n",
       "      <td>-191.0</td>\n",
       "      <td>729.2</td>\n",
       "      <td>1.09</td>\n",
       "      <td>0.25</td>\n",
       "      <td>0.64</td>\n",
       "      <td>0</td>\n",
       "    </tr>\n",
       "    <tr>\n",
       "      <th>15430</th>\n",
       "      <td>52.38</td>\n",
       "      <td>36.07</td>\n",
       "      <td>-0.76</td>\n",
       "      <td>-14.0</td>\n",
       "      <td>11.0</td>\n",
       "      <td>711.6</td>\n",
       "      <td>1.38</td>\n",
       "      <td>1.22</td>\n",
       "      <td>10.5</td>\n",
       "      <td>-67.5</td>\n",
       "      <td>...</td>\n",
       "      <td>1322.1</td>\n",
       "      <td>-1.22</td>\n",
       "      <td>-0.24</td>\n",
       "      <td>-1.0</td>\n",
       "      <td>-23.0</td>\n",
       "      <td>237.4</td>\n",
       "      <td>-0.15</td>\n",
       "      <td>0.29</td>\n",
       "      <td>-0.20</td>\n",
       "      <td>0</td>\n",
       "    </tr>\n",
       "    <tr>\n",
       "      <th>51691</th>\n",
       "      <td>67.13</td>\n",
       "      <td>22.30</td>\n",
       "      <td>1.43</td>\n",
       "      <td>-10.5</td>\n",
       "      <td>69.0</td>\n",
       "      <td>2373.4</td>\n",
       "      <td>2.26</td>\n",
       "      <td>2.09</td>\n",
       "      <td>5.0</td>\n",
       "      <td>-80.5</td>\n",
       "      <td>...</td>\n",
       "      <td>3419.3</td>\n",
       "      <td>0.73</td>\n",
       "      <td>-0.59</td>\n",
       "      <td>13.0</td>\n",
       "      <td>-76.0</td>\n",
       "      <td>333.2</td>\n",
       "      <td>1.23</td>\n",
       "      <td>0.33</td>\n",
       "      <td>0.58</td>\n",
       "      <td>0</td>\n",
       "    </tr>\n",
       "    <tr>\n",
       "      <th>56544</th>\n",
       "      <td>93.08</td>\n",
       "      <td>27.27</td>\n",
       "      <td>2.07</td>\n",
       "      <td>44.5</td>\n",
       "      <td>-43.0</td>\n",
       "      <td>1230.3</td>\n",
       "      <td>0.18</td>\n",
       "      <td>0.95</td>\n",
       "      <td>20.5</td>\n",
       "      <td>-70.0</td>\n",
       "      <td>...</td>\n",
       "      <td>1071.8</td>\n",
       "      <td>0.37</td>\n",
       "      <td>-0.67</td>\n",
       "      <td>1.0</td>\n",
       "      <td>-63.0</td>\n",
       "      <td>702.6</td>\n",
       "      <td>0.47</td>\n",
       "      <td>0.53</td>\n",
       "      <td>0.07</td>\n",
       "      <td>0</td>\n",
       "    </tr>\n",
       "  </tbody>\n",
       "</table>\n",
       "<p>5 rows × 75 columns</p>\n",
       "</div>"
      ],
      "text/plain": [
       "           0      1     2     3     4       5     6     7     8      9  ...  \\\n",
       "7888   52.66  24.47  0.16  10.5 -30.5  3067.9 -0.43 -0.04  15.5 -107.0  ...   \n",
       "32228  79.05  22.00  0.53  -4.0 -16.0  2033.0  1.59 -0.14  -1.5 -111.5  ...   \n",
       "15430  52.38  36.07 -0.76 -14.0  11.0   711.6  1.38  1.22  10.5  -67.5  ...   \n",
       "51691  67.13  22.30  1.43 -10.5  69.0  2373.4  2.26  2.09   5.0  -80.5  ...   \n",
       "56544  93.08  27.27  2.07  44.5 -43.0  1230.3  0.18  0.95  20.5  -70.0  ...   \n",
       "\n",
       "           65    66    67    68     69      70    71    72    73  target  \n",
       "7888   2582.9 -0.80  0.93   2.0 -138.0  2478.1 -1.38  0.07  0.47       0  \n",
       "32228  1475.2  0.09  2.43  24.0 -191.0   729.2  1.09  0.25  0.64       0  \n",
       "15430  1322.1 -1.22 -0.24  -1.0  -23.0   237.4 -0.15  0.29 -0.20       0  \n",
       "51691  3419.3  0.73 -0.59  13.0  -76.0   333.2  1.23  0.33  0.58       0  \n",
       "56544  1071.8  0.37 -0.67   1.0  -63.0   702.6  0.47  0.53  0.07       0  \n",
       "\n",
       "[5 rows x 75 columns]"
      ]
     },
     "execution_count": 2,
     "metadata": {},
     "output_type": "execute_result"
    }
   ],
   "source": [
    "# load data\n",
    "# only a few observations to speed the computaton\n",
    "\n",
    "data = pd.read_csv('../kdd2004.csv').sample(10000)\n",
    "\n",
    "# remap target class to 0 and 1\n",
    "data['target'] = data['target'].map({-1:0, 1:1})\n",
    "\n",
    "data.head()"
   ]
  },
  {
   "cell_type": "code",
   "execution_count": 3,
   "metadata": {},
   "outputs": [
    {
     "data": {
      "text/plain": [
       "0    0.9897\n",
       "1    0.0103\n",
       "Name: target, dtype: float64"
      ]
     },
     "execution_count": 3,
     "metadata": {},
     "output_type": "execute_result"
    }
   ],
   "source": [
    "# imbalanced target\n",
    "\n",
    "data.target.value_counts() / len(data)"
   ]
  },
  {
   "cell_type": "code",
   "execution_count": 4,
   "metadata": {},
   "outputs": [
    {
     "data": {
      "text/plain": [
       "((7000, 74), (3000, 74))"
      ]
     },
     "execution_count": 4,
     "metadata": {},
     "output_type": "execute_result"
    }
   ],
   "source": [
    "# separate dataset into train and test\n",
    "\n",
    "X_train, X_test, y_train, y_test = train_test_split(\n",
    "    data.drop(labels=['target'], axis=1),  # drop the target\n",
    "    data['target'],  # just the target\n",
    "    test_size=0.3,\n",
    "    random_state=0)\n",
    "\n",
    "X_train.shape, X_test.shape"
   ]
  },
  {
   "cell_type": "code",
   "execution_count": 5,
   "metadata": {},
   "outputs": [
    {
     "data": {
      "text/html": [
       "<div>\n",
       "<style scoped>\n",
       "    .dataframe tbody tr th:only-of-type {\n",
       "        vertical-align: middle;\n",
       "    }\n",
       "\n",
       "    .dataframe tbody tr th {\n",
       "        vertical-align: top;\n",
       "    }\n",
       "\n",
       "    .dataframe thead th {\n",
       "        text-align: right;\n",
       "    }\n",
       "</style>\n",
       "<table border=\"1\" class=\"dataframe\">\n",
       "  <thead>\n",
       "    <tr style=\"text-align: right;\">\n",
       "      <th></th>\n",
       "      <th>0</th>\n",
       "      <th>1</th>\n",
       "      <th>2</th>\n",
       "      <th>3</th>\n",
       "      <th>4</th>\n",
       "      <th>5</th>\n",
       "      <th>6</th>\n",
       "      <th>7</th>\n",
       "      <th>8</th>\n",
       "      <th>9</th>\n",
       "      <th>...</th>\n",
       "      <th>64</th>\n",
       "      <th>65</th>\n",
       "      <th>66</th>\n",
       "      <th>67</th>\n",
       "      <th>68</th>\n",
       "      <th>69</th>\n",
       "      <th>70</th>\n",
       "      <th>71</th>\n",
       "      <th>72</th>\n",
       "      <th>73</th>\n",
       "    </tr>\n",
       "  </thead>\n",
       "  <tbody>\n",
       "    <tr>\n",
       "      <th>25540</th>\n",
       "      <td>25.89</td>\n",
       "      <td>31.03</td>\n",
       "      <td>0.59</td>\n",
       "      <td>22.5</td>\n",
       "      <td>-5.0</td>\n",
       "      <td>734.6</td>\n",
       "      <td>1.02</td>\n",
       "      <td>-0.55</td>\n",
       "      <td>4.0</td>\n",
       "      <td>-51.0</td>\n",
       "      <td>...</td>\n",
       "      <td>-16.0</td>\n",
       "      <td>1122.9</td>\n",
       "      <td>-0.83</td>\n",
       "      <td>-0.51</td>\n",
       "      <td>-2.0</td>\n",
       "      <td>-44.0</td>\n",
       "      <td>473.8</td>\n",
       "      <td>0.18</td>\n",
       "      <td>0.48</td>\n",
       "      <td>0.27</td>\n",
       "    </tr>\n",
       "    <tr>\n",
       "      <th>138573</th>\n",
       "      <td>55.20</td>\n",
       "      <td>31.08</td>\n",
       "      <td>1.07</td>\n",
       "      <td>-19.0</td>\n",
       "      <td>26.0</td>\n",
       "      <td>1941.8</td>\n",
       "      <td>0.15</td>\n",
       "      <td>0.80</td>\n",
       "      <td>7.5</td>\n",
       "      <td>-70.5</td>\n",
       "      <td>...</td>\n",
       "      <td>11.0</td>\n",
       "      <td>1297.1</td>\n",
       "      <td>1.17</td>\n",
       "      <td>1.22</td>\n",
       "      <td>12.0</td>\n",
       "      <td>-67.0</td>\n",
       "      <td>84.1</td>\n",
       "      <td>2.10</td>\n",
       "      <td>0.25</td>\n",
       "      <td>0.24</td>\n",
       "    </tr>\n",
       "    <tr>\n",
       "      <th>36887</th>\n",
       "      <td>35.06</td>\n",
       "      <td>36.07</td>\n",
       "      <td>0.30</td>\n",
       "      <td>18.0</td>\n",
       "      <td>46.5</td>\n",
       "      <td>1788.7</td>\n",
       "      <td>0.43</td>\n",
       "      <td>-0.87</td>\n",
       "      <td>-16.5</td>\n",
       "      <td>-57.5</td>\n",
       "      <td>...</td>\n",
       "      <td>55.0</td>\n",
       "      <td>2234.9</td>\n",
       "      <td>-0.26</td>\n",
       "      <td>0.42</td>\n",
       "      <td>1.0</td>\n",
       "      <td>-44.0</td>\n",
       "      <td>212.7</td>\n",
       "      <td>0.32</td>\n",
       "      <td>0.31</td>\n",
       "      <td>0.10</td>\n",
       "    </tr>\n",
       "    <tr>\n",
       "      <th>107199</th>\n",
       "      <td>17.74</td>\n",
       "      <td>32.00</td>\n",
       "      <td>-1.52</td>\n",
       "      <td>1.0</td>\n",
       "      <td>28.0</td>\n",
       "      <td>787.2</td>\n",
       "      <td>0.99</td>\n",
       "      <td>-1.91</td>\n",
       "      <td>-37.0</td>\n",
       "      <td>-38.5</td>\n",
       "      <td>...</td>\n",
       "      <td>4.0</td>\n",
       "      <td>635.0</td>\n",
       "      <td>0.81</td>\n",
       "      <td>0.63</td>\n",
       "      <td>3.0</td>\n",
       "      <td>-34.0</td>\n",
       "      <td>450.5</td>\n",
       "      <td>-0.68</td>\n",
       "      <td>0.81</td>\n",
       "      <td>0.57</td>\n",
       "    </tr>\n",
       "    <tr>\n",
       "      <th>257</th>\n",
       "      <td>89.00</td>\n",
       "      <td>23.60</td>\n",
       "      <td>0.81</td>\n",
       "      <td>7.5</td>\n",
       "      <td>-13.0</td>\n",
       "      <td>678.5</td>\n",
       "      <td>1.03</td>\n",
       "      <td>0.65</td>\n",
       "      <td>4.5</td>\n",
       "      <td>-64.0</td>\n",
       "      <td>...</td>\n",
       "      <td>-7.0</td>\n",
       "      <td>1192.2</td>\n",
       "      <td>-1.08</td>\n",
       "      <td>3.83</td>\n",
       "      <td>5.0</td>\n",
       "      <td>-50.0</td>\n",
       "      <td>223.1</td>\n",
       "      <td>0.11</td>\n",
       "      <td>0.42</td>\n",
       "      <td>0.52</td>\n",
       "    </tr>\n",
       "  </tbody>\n",
       "</table>\n",
       "<p>5 rows × 74 columns</p>\n",
       "</div>"
      ],
      "text/plain": [
       "            0      1     2     3     4       5     6     7     8     9  ...  \\\n",
       "25540   25.89  31.03  0.59  22.5  -5.0   734.6  1.02 -0.55   4.0 -51.0  ...   \n",
       "138573  55.20  31.08  1.07 -19.0  26.0  1941.8  0.15  0.80   7.5 -70.5  ...   \n",
       "36887   35.06  36.07  0.30  18.0  46.5  1788.7  0.43 -0.87 -16.5 -57.5  ...   \n",
       "107199  17.74  32.00 -1.52   1.0  28.0   787.2  0.99 -1.91 -37.0 -38.5  ...   \n",
       "257     89.00  23.60  0.81   7.5 -13.0   678.5  1.03  0.65   4.5 -64.0  ...   \n",
       "\n",
       "          64      65    66    67    68    69     70    71    72    73  \n",
       "25540  -16.0  1122.9 -0.83 -0.51  -2.0 -44.0  473.8  0.18  0.48  0.27  \n",
       "138573  11.0  1297.1  1.17  1.22  12.0 -67.0   84.1  2.10  0.25  0.24  \n",
       "36887   55.0  2234.9 -0.26  0.42   1.0 -44.0  212.7  0.32  0.31  0.10  \n",
       "107199   4.0   635.0  0.81  0.63   3.0 -34.0  450.5 -0.68  0.81  0.57  \n",
       "257     -7.0  1192.2 -1.08  3.83   5.0 -50.0  223.1  0.11  0.42  0.52  \n",
       "\n",
       "[5 rows x 74 columns]"
      ]
     },
     "execution_count": 5,
     "metadata": {},
     "output_type": "execute_result"
    }
   ],
   "source": [
    "X_train.head()"
   ]
  },
  {
   "cell_type": "markdown",
   "metadata": {},
   "source": [
    "## Set up Logistic regression"
   ]
  },
  {
   "cell_type": "code",
   "execution_count": 6,
   "metadata": {},
   "outputs": [],
   "source": [
    "# set up the estimator we would like to ensemble\n",
    "\n",
    "logit = LogisticRegression(\n",
    "    penalty='l2',\n",
    "    solver='newton-cg',\n",
    "    random_state=0,\n",
    "    max_iter=10,\n",
    "    n_jobs=4,\n",
    ")"
   ]
  },
  {
   "cell_type": "markdown",
   "metadata": {},
   "source": [
    "## MetaCost\n",
    "\n",
    "With no cost"
   ]
  },
  {
   "cell_type": "code",
   "execution_count": 7,
   "metadata": {},
   "outputs": [
    {
     "data": {
      "text/plain": [
       "array([[0, 1],\n",
       "       [1, 0]])"
      ]
     },
     "execution_count": 7,
     "metadata": {},
     "output_type": "execute_result"
    }
   ],
   "source": [
    "cost_matrix = np.array([[0, 1], [1, 0]])\n",
    "cost_matrix"
   ]
  },
  {
   "cell_type": "code",
   "execution_count": 8,
   "metadata": {},
   "outputs": [],
   "source": [
    "metacost_ = MetaCost(estimator=logit,\n",
    "                     cost_matrix=cost_matrix,\n",
    "                     n_estimators=50,\n",
    "                     n_samples=None,\n",
    "                     p=True,\n",
    "                     q=True)"
   ]
  },
  {
   "cell_type": "code",
   "execution_count": 9,
   "metadata": {},
   "outputs": [
    {
     "name": "stdout",
     "output_type": "stream",
     "text": [
      "resampling data and training ensemble\n",
      "Finished training ensemble\n",
      "evaluating optimal class per observation\n",
      "Finished re-assigning labels\n",
      "Training model on new data\n",
      "Finished training model on data with new labels\n"
     ]
    }
   ],
   "source": [
    "metacost_.fit(X_train, y_train)"
   ]
  },
  {
   "cell_type": "code",
   "execution_count": 10,
   "metadata": {},
   "outputs": [
    {
     "data": {
      "text/plain": [
       "array([[9.99791710e-01, 2.08290383e-04],\n",
       "       [9.99999974e-01, 2.58940074e-08],\n",
       "       [9.99999983e-01, 1.73612076e-08],\n",
       "       ...,\n",
       "       [9.99997623e-01, 2.37692304e-06],\n",
       "       [9.99978408e-01, 2.15924268e-05],\n",
       "       [9.99992548e-01, 7.45181288e-06]])"
      ]
     },
     "execution_count": 10,
     "metadata": {},
     "output_type": "execute_result"
    }
   ],
   "source": [
    "metacost_.predict_proba(X_train)"
   ]
  },
  {
   "cell_type": "code",
   "execution_count": 11,
   "metadata": {},
   "outputs": [
    {
     "name": "stdout",
     "output_type": "stream",
     "text": [
      "Train set\n",
      "MetaCost roc-auc: 0.8841745753043067\n",
      "Test set\n",
      "MetaCost roc-auc: 0.8207058823529412\n"
     ]
    }
   ],
   "source": [
    "print('Train set')\n",
    "pred = metacost_.predict_proba(X_train)\n",
    "print(\n",
    "    'MetaCost roc-auc: {}'.format(roc_auc_score(y_train, pred[:, 1])))\n",
    "\n",
    "print('Test set')\n",
    "pred = metacost_.predict_proba(X_test)\n",
    "print(\n",
    "    'MetaCost roc-auc: {}'.format(roc_auc_score(y_test, pred[:, 1])))"
   ]
  },
  {
   "cell_type": "markdown",
   "metadata": {},
   "source": [
    "## MetaCost\n",
    "\n",
    "With costs\n",
    "\n",
    "TN | FN\n",
    " \n",
    "FP | TP"
   ]
  },
  {
   "cell_type": "code",
   "execution_count": 12,
   "metadata": {},
   "outputs": [
    {
     "data": {
      "text/plain": [
       "array([[  0, 100],\n",
       "       [  1,   0]])"
      ]
     },
     "execution_count": 12,
     "metadata": {},
     "output_type": "execute_result"
    }
   ],
   "source": [
    "cost_matrix = np.array([[0, 100], [1, 0]])\n",
    "cost_matrix"
   ]
  },
  {
   "cell_type": "code",
   "execution_count": 13,
   "metadata": {},
   "outputs": [],
   "source": [
    "metacost2 = MetaCost(estimator=logit,\n",
    "                     cost_matrix=cost_matrix,\n",
    "                     n_estimators=50,\n",
    "                     n_samples=None,\n",
    "                     p=True,\n",
    "                     q=True)"
   ]
  },
  {
   "cell_type": "code",
   "execution_count": 14,
   "metadata": {},
   "outputs": [
    {
     "name": "stdout",
     "output_type": "stream",
     "text": [
      "resampling data and training ensemble\n",
      "Finished training ensemble\n",
      "evaluating optimal class per observation\n",
      "Finished re-assigning labels\n",
      "Training model on new data\n",
      "Finished training model on data with new labels\n",
      "Train set\n",
      "MetaCost roc-auc: 0.9220526896776534\n",
      "Test set\n",
      "MetaCost roc-auc: 0.8246319327731092\n"
     ]
    }
   ],
   "source": [
    "metacost2.fit(X_train, y_train)\n",
    "\n",
    "print('Train set')\n",
    "pred = metacost2.predict_proba(X_train)\n",
    "print(\n",
    "    'MetaCost roc-auc: {}'.format(roc_auc_score(y_train, pred[:, 1])))\n",
    "\n",
    "print('Test set')\n",
    "pred = metacost2.predict_proba(X_test)\n",
    "print(\n",
    "    'MetaCost roc-auc: {}'.format(roc_auc_score(y_test, pred[:, 1])))"
   ]
  },
  {
   "cell_type": "code",
   "execution_count": 15,
   "metadata": {},
   "outputs": [
    {
     "data": {
      "text/plain": [
       "0       0\n",
       "1       0\n",
       "2       0\n",
       "3       0\n",
       "4       0\n",
       "       ..\n",
       "6995    0\n",
       "6996    0\n",
       "6997    0\n",
       "6998    0\n",
       "6999    0\n",
       "Name: target, Length: 7000, dtype: int64"
      ]
     },
     "execution_count": 15,
     "metadata": {},
     "output_type": "execute_result"
    }
   ],
   "source": [
    "y_train.reset_index(drop=True)"
   ]
  },
  {
   "cell_type": "code",
   "execution_count": 16,
   "metadata": {},
   "outputs": [
    {
     "data": {
      "text/html": [
       "<div>\n",
       "<style scoped>\n",
       "    .dataframe tbody tr th:only-of-type {\n",
       "        vertical-align: middle;\n",
       "    }\n",
       "\n",
       "    .dataframe tbody tr th {\n",
       "        vertical-align: top;\n",
       "    }\n",
       "\n",
       "    .dataframe thead th {\n",
       "        text-align: right;\n",
       "    }\n",
       "</style>\n",
       "<table border=\"1\" class=\"dataframe\">\n",
       "  <thead>\n",
       "    <tr style=\"text-align: right;\">\n",
       "      <th></th>\n",
       "      <th>0</th>\n",
       "      <th>target</th>\n",
       "    </tr>\n",
       "  </thead>\n",
       "  <tbody>\n",
       "    <tr>\n",
       "      <th>0</th>\n",
       "      <td>0</td>\n",
       "      <td>0</td>\n",
       "    </tr>\n",
       "    <tr>\n",
       "      <th>1</th>\n",
       "      <td>0</td>\n",
       "      <td>0</td>\n",
       "    </tr>\n",
       "    <tr>\n",
       "      <th>2</th>\n",
       "      <td>0</td>\n",
       "      <td>0</td>\n",
       "    </tr>\n",
       "    <tr>\n",
       "      <th>3</th>\n",
       "      <td>0</td>\n",
       "      <td>0</td>\n",
       "    </tr>\n",
       "    <tr>\n",
       "      <th>4</th>\n",
       "      <td>1</td>\n",
       "      <td>0</td>\n",
       "    </tr>\n",
       "  </tbody>\n",
       "</table>\n",
       "</div>"
      ],
      "text/plain": [
       "   0  target\n",
       "0  0       0\n",
       "1  0       0\n",
       "2  0       0\n",
       "3  0       0\n",
       "4  1       0"
      ]
     },
     "execution_count": 16,
     "metadata": {},
     "output_type": "execute_result"
    }
   ],
   "source": [
    "tmp = pd.concat([metacost2.y_, y_train.reset_index(drop=True)], axis=1)\n",
    "\n",
    "tmp.head()"
   ]
  },
  {
   "cell_type": "code",
   "execution_count": 17,
   "metadata": {},
   "outputs": [
    {
     "data": {
      "text/html": [
       "<div>\n",
       "<style scoped>\n",
       "    .dataframe tbody tr th:only-of-type {\n",
       "        vertical-align: middle;\n",
       "    }\n",
       "\n",
       "    .dataframe tbody tr th {\n",
       "        vertical-align: top;\n",
       "    }\n",
       "\n",
       "    .dataframe thead th {\n",
       "        text-align: right;\n",
       "    }\n",
       "</style>\n",
       "<table border=\"1\" class=\"dataframe\">\n",
       "  <thead>\n",
       "    <tr style=\"text-align: right;\">\n",
       "      <th></th>\n",
       "      <th>target</th>\n",
       "      <th>0</th>\n",
       "    </tr>\n",
       "  </thead>\n",
       "  <tbody>\n",
       "    <tr>\n",
       "      <th>4</th>\n",
       "      <td>0</td>\n",
       "      <td>1</td>\n",
       "    </tr>\n",
       "    <tr>\n",
       "      <th>5</th>\n",
       "      <td>0</td>\n",
       "      <td>1</td>\n",
       "    </tr>\n",
       "    <tr>\n",
       "      <th>13</th>\n",
       "      <td>0</td>\n",
       "      <td>1</td>\n",
       "    </tr>\n",
       "    <tr>\n",
       "      <th>21</th>\n",
       "      <td>0</td>\n",
       "      <td>1</td>\n",
       "    </tr>\n",
       "    <tr>\n",
       "      <th>22</th>\n",
       "      <td>0</td>\n",
       "      <td>1</td>\n",
       "    </tr>\n",
       "    <tr>\n",
       "      <th>...</th>\n",
       "      <td>...</td>\n",
       "      <td>...</td>\n",
       "    </tr>\n",
       "    <tr>\n",
       "      <th>6965</th>\n",
       "      <td>0</td>\n",
       "      <td>1</td>\n",
       "    </tr>\n",
       "    <tr>\n",
       "      <th>6983</th>\n",
       "      <td>0</td>\n",
       "      <td>1</td>\n",
       "    </tr>\n",
       "    <tr>\n",
       "      <th>6985</th>\n",
       "      <td>0</td>\n",
       "      <td>1</td>\n",
       "    </tr>\n",
       "    <tr>\n",
       "      <th>6989</th>\n",
       "      <td>0</td>\n",
       "      <td>1</td>\n",
       "    </tr>\n",
       "    <tr>\n",
       "      <th>6991</th>\n",
       "      <td>0</td>\n",
       "      <td>1</td>\n",
       "    </tr>\n",
       "  </tbody>\n",
       "</table>\n",
       "<p>1444 rows × 2 columns</p>\n",
       "</div>"
      ],
      "text/plain": [
       "      target  0\n",
       "4          0  1\n",
       "5          0  1\n",
       "13         0  1\n",
       "21         0  1\n",
       "22         0  1\n",
       "...      ... ..\n",
       "6965       0  1\n",
       "6983       0  1\n",
       "6985       0  1\n",
       "6989       0  1\n",
       "6991       0  1\n",
       "\n",
       "[1444 rows x 2 columns]"
      ]
     },
     "execution_count": 17,
     "metadata": {},
     "output_type": "execute_result"
    }
   ],
   "source": [
    "tmp[tmp[0]!=tmp['target']][['target', 0]]"
   ]
  },
  {
   "cell_type": "markdown",
   "metadata": {},
   "source": [
    "In theory, we should only be re-labeling observations from class 0 to class 1, but in practice that does not happen."
   ]
  },
  {
   "cell_type": "code",
   "execution_count": 18,
   "metadata": {},
   "outputs": [
    {
     "data": {
      "text/plain": [
       "1444"
      ]
     },
     "execution_count": 18,
     "metadata": {},
     "output_type": "execute_result"
    }
   ],
   "source": [
    "np.sum( np.where(metacost2.y_ != y_train.reset_index(drop=True),1,0) )"
   ]
  },
  {
   "cell_type": "code",
   "execution_count": 19,
   "metadata": {},
   "outputs": [
    {
     "data": {
      "text/plain": [
       "5556"
      ]
     },
     "execution_count": 19,
     "metadata": {},
     "output_type": "execute_result"
    }
   ],
   "source": [
    "np.sum( np.where(metacost2.y_ == y_train.reset_index(drop=True),1,0) )"
   ]
  },
  {
   "cell_type": "markdown",
   "metadata": {},
   "source": [
    "## Conclusion\n",
    "\n",
    "We can wrap a model to make it cost-sensitive utilizing metacost.\n",
    "\n",
    "### Important\n",
    "\n",
    "The code I provided, does not allow reproducible results, because at the moment the class MetaCost does not incorporate a seed when re-sampling the data.\n",
    "\n",
    "MetaCost might be incorporated to Sklearn, there is a PR open:\n",
    "https://github.com/scikit-learn/scikit-learn/pull/16525 \n",
    "\n",
    "**HOMEWORK**\n",
    "\n",
    "Go ahead and compare how many observations are relabeled if we apply no extra cost to the minority class, or different costs to 100.\n",
    "\n",
    "Also insteresting, compare the performance of bagging with cost_sensitive learning (adding the parameter class_weight) with MetaCost."
   ]
  },
  {
   "cell_type": "code",
   "execution_count": null,
   "metadata": {},
   "outputs": [],
   "source": []
  }
 ],
 "metadata": {
  "kernelspec": {
   "display_name": "imbalanced",
   "language": "python",
   "name": "imbalanced"
  },
  "language_info": {
   "codemirror_mode": {
    "name": "ipython",
    "version": 3
   },
   "file_extension": ".py",
   "mimetype": "text/x-python",
   "name": "python",
   "nbconvert_exporter": "python",
   "pygments_lexer": "ipython3",
   "version": "3.8.2"
  },
  "toc": {
   "base_numbering": 1,
   "nav_menu": {},
   "number_sections": true,
   "sideBar": true,
   "skip_h1_title": false,
   "title_cell": "Table of Contents",
   "title_sidebar": "Contents",
   "toc_cell": false,
   "toc_position": {},
   "toc_section_display": true,
   "toc_window_display": true
  }
 },
 "nbformat": 4,
 "nbformat_minor": 4
}
