{
 "cells": [
  {
   "cell_type": "markdown",
   "metadata": {},
   "source": [
    "## Probability distribution"
   ]
  },
  {
   "cell_type": "code",
   "execution_count": 1,
   "metadata": {},
   "outputs": [],
   "source": [
    "import numpy as np\n",
    "import pandas as pd\n",
    "import matplotlib.pyplot as plt\n",
    "\n",
    "from sklearn.datasets import load_breast_cancer\n",
    "from sklearn.linear_model import LogisticRegression\n",
    "from sklearn.model_selection import train_test_split\n",
    "from sklearn.metrics import roc_auc_score\n",
    "\n",
    "from yellowbrick.classifier import DiscriminationThreshold\n",
    "\n",
    "import warnings\n",
    "warnings.filterwarnings(\"ignore\")"
   ]
  },
  {
   "cell_type": "markdown",
   "metadata": {},
   "source": [
    "## Create balanced dataset"
   ]
  },
  {
   "cell_type": "code",
   "execution_count": 2,
   "metadata": {},
   "outputs": [],
   "source": [
    "# create balanced dataset based of sklearn\n",
    "# breast cancer dataset\n",
    "\n",
    "\n",
    "def load_balanced_data(num_obs, random_state):\n",
    "    X, y = load_breast_cancer(return_X_y=True)\n",
    "    X = pd.DataFrame(X)\n",
    "    X['target'] = y\n",
    "\n",
    "    X_bal = pd.concat([\n",
    "        X[y == 0].sample(num_obs, random_state=random_state),\n",
    "        X[y == 1].sample(\n",
    "            num_obs, random_state=random_state)\n",
    "    ],axis=0)\n",
    "\n",
    "    y = X_bal['target']\n",
    "    y = y.map({0: 1, 1: 0})\n",
    "    X = X_bal.drop('target', axis=1)\n",
    "\n",
    "    return X.reset_index(drop=True), y.reset_index(drop=True)"
   ]
  },
  {
   "cell_type": "code",
   "execution_count": 3,
   "metadata": {},
   "outputs": [
    {
     "data": {
      "text/html": [
       "<div>\n",
       "<style scoped>\n",
       "    .dataframe tbody tr th:only-of-type {\n",
       "        vertical-align: middle;\n",
       "    }\n",
       "\n",
       "    .dataframe tbody tr th {\n",
       "        vertical-align: top;\n",
       "    }\n",
       "\n",
       "    .dataframe thead th {\n",
       "        text-align: right;\n",
       "    }\n",
       "</style>\n",
       "<table border=\"1\" class=\"dataframe\">\n",
       "  <thead>\n",
       "    <tr style=\"text-align: right;\">\n",
       "      <th></th>\n",
       "      <th>0</th>\n",
       "      <th>1</th>\n",
       "      <th>2</th>\n",
       "      <th>3</th>\n",
       "      <th>4</th>\n",
       "      <th>5</th>\n",
       "      <th>6</th>\n",
       "      <th>7</th>\n",
       "      <th>8</th>\n",
       "      <th>9</th>\n",
       "      <th>...</th>\n",
       "      <th>20</th>\n",
       "      <th>21</th>\n",
       "      <th>22</th>\n",
       "      <th>23</th>\n",
       "      <th>24</th>\n",
       "      <th>25</th>\n",
       "      <th>26</th>\n",
       "      <th>27</th>\n",
       "      <th>28</th>\n",
       "      <th>29</th>\n",
       "    </tr>\n",
       "  </thead>\n",
       "  <tbody>\n",
       "    <tr>\n",
       "      <th>0</th>\n",
       "      <td>17.68</td>\n",
       "      <td>20.74</td>\n",
       "      <td>117.4</td>\n",
       "      <td>963.7</td>\n",
       "      <td>0.11150</td>\n",
       "      <td>0.1665</td>\n",
       "      <td>0.18550</td>\n",
       "      <td>0.10540</td>\n",
       "      <td>0.1971</td>\n",
       "      <td>0.06166</td>\n",
       "      <td>...</td>\n",
       "      <td>20.47</td>\n",
       "      <td>25.11</td>\n",
       "      <td>132.9</td>\n",
       "      <td>1302.0</td>\n",
       "      <td>0.1418</td>\n",
       "      <td>0.3498</td>\n",
       "      <td>0.3583</td>\n",
       "      <td>0.1515</td>\n",
       "      <td>0.2463</td>\n",
       "      <td>0.07738</td>\n",
       "    </tr>\n",
       "    <tr>\n",
       "      <th>1</th>\n",
       "      <td>21.10</td>\n",
       "      <td>20.52</td>\n",
       "      <td>138.1</td>\n",
       "      <td>1384.0</td>\n",
       "      <td>0.09684</td>\n",
       "      <td>0.1175</td>\n",
       "      <td>0.15720</td>\n",
       "      <td>0.11550</td>\n",
       "      <td>0.1554</td>\n",
       "      <td>0.05661</td>\n",
       "      <td>...</td>\n",
       "      <td>25.68</td>\n",
       "      <td>32.07</td>\n",
       "      <td>168.2</td>\n",
       "      <td>2022.0</td>\n",
       "      <td>0.1368</td>\n",
       "      <td>0.3101</td>\n",
       "      <td>0.4399</td>\n",
       "      <td>0.2280</td>\n",
       "      <td>0.2268</td>\n",
       "      <td>0.07425</td>\n",
       "    </tr>\n",
       "    <tr>\n",
       "      <th>2</th>\n",
       "      <td>17.57</td>\n",
       "      <td>15.05</td>\n",
       "      <td>115.0</td>\n",
       "      <td>955.1</td>\n",
       "      <td>0.09847</td>\n",
       "      <td>0.1157</td>\n",
       "      <td>0.09875</td>\n",
       "      <td>0.07953</td>\n",
       "      <td>0.1739</td>\n",
       "      <td>0.06149</td>\n",
       "      <td>...</td>\n",
       "      <td>20.01</td>\n",
       "      <td>19.52</td>\n",
       "      <td>134.9</td>\n",
       "      <td>1227.0</td>\n",
       "      <td>0.1255</td>\n",
       "      <td>0.2812</td>\n",
       "      <td>0.2489</td>\n",
       "      <td>0.1456</td>\n",
       "      <td>0.2756</td>\n",
       "      <td>0.07919</td>\n",
       "    </tr>\n",
       "    <tr>\n",
       "      <th>3</th>\n",
       "      <td>16.35</td>\n",
       "      <td>23.29</td>\n",
       "      <td>109.0</td>\n",
       "      <td>840.4</td>\n",
       "      <td>0.09742</td>\n",
       "      <td>0.1497</td>\n",
       "      <td>0.18110</td>\n",
       "      <td>0.08773</td>\n",
       "      <td>0.2175</td>\n",
       "      <td>0.06218</td>\n",
       "      <td>...</td>\n",
       "      <td>19.38</td>\n",
       "      <td>31.03</td>\n",
       "      <td>129.3</td>\n",
       "      <td>1165.0</td>\n",
       "      <td>0.1415</td>\n",
       "      <td>0.4665</td>\n",
       "      <td>0.7087</td>\n",
       "      <td>0.2248</td>\n",
       "      <td>0.4824</td>\n",
       "      <td>0.09614</td>\n",
       "    </tr>\n",
       "    <tr>\n",
       "      <th>4</th>\n",
       "      <td>17.08</td>\n",
       "      <td>27.15</td>\n",
       "      <td>111.2</td>\n",
       "      <td>930.9</td>\n",
       "      <td>0.09898</td>\n",
       "      <td>0.1110</td>\n",
       "      <td>0.10070</td>\n",
       "      <td>0.06431</td>\n",
       "      <td>0.1793</td>\n",
       "      <td>0.06281</td>\n",
       "      <td>...</td>\n",
       "      <td>22.96</td>\n",
       "      <td>34.49</td>\n",
       "      <td>152.1</td>\n",
       "      <td>1648.0</td>\n",
       "      <td>0.1600</td>\n",
       "      <td>0.2444</td>\n",
       "      <td>0.2639</td>\n",
       "      <td>0.1555</td>\n",
       "      <td>0.3010</td>\n",
       "      <td>0.09060</td>\n",
       "    </tr>\n",
       "  </tbody>\n",
       "</table>\n",
       "<p>5 rows × 30 columns</p>\n",
       "</div>"
      ],
      "text/plain": [
       "      0      1      2       3        4       5        6        7       8   \\\n",
       "0  17.68  20.74  117.4   963.7  0.11150  0.1665  0.18550  0.10540  0.1971   \n",
       "1  21.10  20.52  138.1  1384.0  0.09684  0.1175  0.15720  0.11550  0.1554   \n",
       "2  17.57  15.05  115.0   955.1  0.09847  0.1157  0.09875  0.07953  0.1739   \n",
       "3  16.35  23.29  109.0   840.4  0.09742  0.1497  0.18110  0.08773  0.2175   \n",
       "4  17.08  27.15  111.2   930.9  0.09898  0.1110  0.10070  0.06431  0.1793   \n",
       "\n",
       "        9   ...     20     21     22      23      24      25      26      27  \\\n",
       "0  0.06166  ...  20.47  25.11  132.9  1302.0  0.1418  0.3498  0.3583  0.1515   \n",
       "1  0.05661  ...  25.68  32.07  168.2  2022.0  0.1368  0.3101  0.4399  0.2280   \n",
       "2  0.06149  ...  20.01  19.52  134.9  1227.0  0.1255  0.2812  0.2489  0.1456   \n",
       "3  0.06218  ...  19.38  31.03  129.3  1165.0  0.1415  0.4665  0.7087  0.2248   \n",
       "4  0.06281  ...  22.96  34.49  152.1  1648.0  0.1600  0.2444  0.2639  0.1555   \n",
       "\n",
       "       28       29  \n",
       "0  0.2463  0.07738  \n",
       "1  0.2268  0.07425  \n",
       "2  0.2756  0.07919  \n",
       "3  0.4824  0.09614  \n",
       "4  0.3010  0.09060  \n",
       "\n",
       "[5 rows x 30 columns]"
      ]
     },
     "execution_count": 3,
     "metadata": {},
     "output_type": "execute_result"
    }
   ],
   "source": [
    "# prepare data\n",
    "\n",
    "X, y = load_balanced_data(num_obs=100, random_state=10)\n",
    "\n",
    "X.head()"
   ]
  },
  {
   "cell_type": "code",
   "execution_count": 4,
   "metadata": {},
   "outputs": [
    {
     "data": {
      "text/plain": [
       "1    0.5\n",
       "0    0.5\n",
       "Name: target, dtype: float64"
      ]
     },
     "execution_count": 4,
     "metadata": {},
     "output_type": "execute_result"
    }
   ],
   "source": [
    "# balancing ratio\n",
    "\n",
    "y.value_counts() / len(y)"
   ]
  },
  {
   "cell_type": "code",
   "execution_count": 5,
   "metadata": {},
   "outputs": [
    {
     "data": {
      "text/plain": [
       "1    100\n",
       "0    100\n",
       "Name: target, dtype: int64"
      ]
     },
     "execution_count": 5,
     "metadata": {},
     "output_type": "execute_result"
    }
   ],
   "source": [
    "# number of observations per class\n",
    "\n",
    "y.value_counts()"
   ]
  },
  {
   "cell_type": "code",
   "execution_count": 6,
   "metadata": {},
   "outputs": [
    {
     "data": {
      "text/plain": [
       "((140, 30), (60, 30))"
      ]
     },
     "execution_count": 6,
     "metadata": {},
     "output_type": "execute_result"
    }
   ],
   "source": [
    "# separate dataset into train and test\n",
    "\n",
    "X_train, X_test, y_train, y_test = train_test_split(\n",
    "    X,  \n",
    "    y,  \n",
    "    test_size=0.3,\n",
    "    random_state=0)\n",
    "\n",
    "X_train.shape, X_test.shape"
   ]
  },
  {
   "cell_type": "markdown",
   "metadata": {},
   "source": [
    "## Create imbalanced dataset"
   ]
  },
  {
   "cell_type": "code",
   "execution_count": 7,
   "metadata": {},
   "outputs": [],
   "source": [
    "# create imbalanced dataset based of sklearn\n",
    "# breast cancer dataset\n",
    "\n",
    "\n",
    "def load_imbalanced_data():\n",
    "    X, y = load_breast_cancer(return_X_y=True)\n",
    "    X = pd.DataFrame(X)\n",
    "    X['target'] = y\n",
    "\n",
    "    X_bal = pd.concat([\n",
    "        X[y == 0].sample(100, random_state=1), X[y == 1].sample(\n",
    "            10000, random_state=1, replace=True)\n",
    "    ],\n",
    "                      axis=0)\n",
    "\n",
    "    y = X_bal['target']\n",
    "    y = y.map({0: 1, 1: 0})\n",
    "    X = X_bal.drop('target', axis=1)\n",
    "\n",
    "    return X.reset_index(drop=True), y.reset_index(drop=True)"
   ]
  },
  {
   "cell_type": "code",
   "execution_count": 8,
   "metadata": {},
   "outputs": [
    {
     "data": {
      "text/html": [
       "<div>\n",
       "<style scoped>\n",
       "    .dataframe tbody tr th:only-of-type {\n",
       "        vertical-align: middle;\n",
       "    }\n",
       "\n",
       "    .dataframe tbody tr th {\n",
       "        vertical-align: top;\n",
       "    }\n",
       "\n",
       "    .dataframe thead th {\n",
       "        text-align: right;\n",
       "    }\n",
       "</style>\n",
       "<table border=\"1\" class=\"dataframe\">\n",
       "  <thead>\n",
       "    <tr style=\"text-align: right;\">\n",
       "      <th></th>\n",
       "      <th>0</th>\n",
       "      <th>1</th>\n",
       "      <th>2</th>\n",
       "      <th>3</th>\n",
       "      <th>4</th>\n",
       "      <th>5</th>\n",
       "      <th>6</th>\n",
       "      <th>7</th>\n",
       "      <th>8</th>\n",
       "      <th>9</th>\n",
       "      <th>...</th>\n",
       "      <th>20</th>\n",
       "      <th>21</th>\n",
       "      <th>22</th>\n",
       "      <th>23</th>\n",
       "      <th>24</th>\n",
       "      <th>25</th>\n",
       "      <th>26</th>\n",
       "      <th>27</th>\n",
       "      <th>28</th>\n",
       "      <th>29</th>\n",
       "    </tr>\n",
       "  </thead>\n",
       "  <tbody>\n",
       "    <tr>\n",
       "      <th>0</th>\n",
       "      <td>15.10</td>\n",
       "      <td>22.02</td>\n",
       "      <td>97.26</td>\n",
       "      <td>712.8</td>\n",
       "      <td>0.09056</td>\n",
       "      <td>0.07081</td>\n",
       "      <td>0.05253</td>\n",
       "      <td>0.03334</td>\n",
       "      <td>0.1616</td>\n",
       "      <td>0.05684</td>\n",
       "      <td>...</td>\n",
       "      <td>18.10</td>\n",
       "      <td>31.69</td>\n",
       "      <td>117.7</td>\n",
       "      <td>1030.0</td>\n",
       "      <td>0.1389</td>\n",
       "      <td>0.2057</td>\n",
       "      <td>0.2712</td>\n",
       "      <td>0.1530</td>\n",
       "      <td>0.2675</td>\n",
       "      <td>0.07873</td>\n",
       "    </tr>\n",
       "    <tr>\n",
       "      <th>1</th>\n",
       "      <td>19.44</td>\n",
       "      <td>18.82</td>\n",
       "      <td>128.10</td>\n",
       "      <td>1167.0</td>\n",
       "      <td>0.10890</td>\n",
       "      <td>0.14480</td>\n",
       "      <td>0.22560</td>\n",
       "      <td>0.11940</td>\n",
       "      <td>0.1823</td>\n",
       "      <td>0.06115</td>\n",
       "      <td>...</td>\n",
       "      <td>23.96</td>\n",
       "      <td>30.39</td>\n",
       "      <td>153.9</td>\n",
       "      <td>1740.0</td>\n",
       "      <td>0.1514</td>\n",
       "      <td>0.3725</td>\n",
       "      <td>0.5936</td>\n",
       "      <td>0.2060</td>\n",
       "      <td>0.3266</td>\n",
       "      <td>0.09009</td>\n",
       "    </tr>\n",
       "    <tr>\n",
       "      <th>2</th>\n",
       "      <td>17.20</td>\n",
       "      <td>24.52</td>\n",
       "      <td>114.20</td>\n",
       "      <td>929.4</td>\n",
       "      <td>0.10710</td>\n",
       "      <td>0.18300</td>\n",
       "      <td>0.16920</td>\n",
       "      <td>0.07944</td>\n",
       "      <td>0.1927</td>\n",
       "      <td>0.06487</td>\n",
       "      <td>...</td>\n",
       "      <td>23.32</td>\n",
       "      <td>33.82</td>\n",
       "      <td>151.6</td>\n",
       "      <td>1681.0</td>\n",
       "      <td>0.1585</td>\n",
       "      <td>0.7394</td>\n",
       "      <td>0.6566</td>\n",
       "      <td>0.1899</td>\n",
       "      <td>0.3313</td>\n",
       "      <td>0.13390</td>\n",
       "    </tr>\n",
       "    <tr>\n",
       "      <th>3</th>\n",
       "      <td>21.09</td>\n",
       "      <td>26.57</td>\n",
       "      <td>142.70</td>\n",
       "      <td>1311.0</td>\n",
       "      <td>0.11410</td>\n",
       "      <td>0.28320</td>\n",
       "      <td>0.24870</td>\n",
       "      <td>0.14960</td>\n",
       "      <td>0.2395</td>\n",
       "      <td>0.07398</td>\n",
       "      <td>...</td>\n",
       "      <td>26.68</td>\n",
       "      <td>33.48</td>\n",
       "      <td>176.5</td>\n",
       "      <td>2089.0</td>\n",
       "      <td>0.1491</td>\n",
       "      <td>0.7584</td>\n",
       "      <td>0.6780</td>\n",
       "      <td>0.2903</td>\n",
       "      <td>0.4098</td>\n",
       "      <td>0.12840</td>\n",
       "    </tr>\n",
       "    <tr>\n",
       "      <th>4</th>\n",
       "      <td>13.48</td>\n",
       "      <td>20.82</td>\n",
       "      <td>88.40</td>\n",
       "      <td>559.2</td>\n",
       "      <td>0.10160</td>\n",
       "      <td>0.12550</td>\n",
       "      <td>0.10630</td>\n",
       "      <td>0.05439</td>\n",
       "      <td>0.1720</td>\n",
       "      <td>0.06419</td>\n",
       "      <td>...</td>\n",
       "      <td>15.53</td>\n",
       "      <td>26.02</td>\n",
       "      <td>107.3</td>\n",
       "      <td>740.4</td>\n",
       "      <td>0.1610</td>\n",
       "      <td>0.4225</td>\n",
       "      <td>0.5030</td>\n",
       "      <td>0.2258</td>\n",
       "      <td>0.2807</td>\n",
       "      <td>0.10710</td>\n",
       "    </tr>\n",
       "  </tbody>\n",
       "</table>\n",
       "<p>5 rows × 30 columns</p>\n",
       "</div>"
      ],
      "text/plain": [
       "      0      1       2       3        4        5        6        7       8   \\\n",
       "0  15.10  22.02   97.26   712.8  0.09056  0.07081  0.05253  0.03334  0.1616   \n",
       "1  19.44  18.82  128.10  1167.0  0.10890  0.14480  0.22560  0.11940  0.1823   \n",
       "2  17.20  24.52  114.20   929.4  0.10710  0.18300  0.16920  0.07944  0.1927   \n",
       "3  21.09  26.57  142.70  1311.0  0.11410  0.28320  0.24870  0.14960  0.2395   \n",
       "4  13.48  20.82   88.40   559.2  0.10160  0.12550  0.10630  0.05439  0.1720   \n",
       "\n",
       "        9   ...     20     21     22      23      24      25      26      27  \\\n",
       "0  0.05684  ...  18.10  31.69  117.7  1030.0  0.1389  0.2057  0.2712  0.1530   \n",
       "1  0.06115  ...  23.96  30.39  153.9  1740.0  0.1514  0.3725  0.5936  0.2060   \n",
       "2  0.06487  ...  23.32  33.82  151.6  1681.0  0.1585  0.7394  0.6566  0.1899   \n",
       "3  0.07398  ...  26.68  33.48  176.5  2089.0  0.1491  0.7584  0.6780  0.2903   \n",
       "4  0.06419  ...  15.53  26.02  107.3   740.4  0.1610  0.4225  0.5030  0.2258   \n",
       "\n",
       "       28       29  \n",
       "0  0.2675  0.07873  \n",
       "1  0.3266  0.09009  \n",
       "2  0.3313  0.13390  \n",
       "3  0.4098  0.12840  \n",
       "4  0.2807  0.10710  \n",
       "\n",
       "[5 rows x 30 columns]"
      ]
     },
     "execution_count": 8,
     "metadata": {},
     "output_type": "execute_result"
    }
   ],
   "source": [
    "# prepare data\n",
    "\n",
    "X_im, y_im = load_imbalanced_data()\n",
    "\n",
    "X_im.head()"
   ]
  },
  {
   "cell_type": "code",
   "execution_count": 9,
   "metadata": {},
   "outputs": [
    {
     "data": {
      "text/plain": [
       "0    0.990099\n",
       "1    0.009901\n",
       "Name: target, dtype: float64"
      ]
     },
     "execution_count": 9,
     "metadata": {},
     "output_type": "execute_result"
    }
   ],
   "source": [
    "# check balancing ratio\n",
    "\n",
    "y_im.value_counts() / len(X_im)"
   ]
  },
  {
   "cell_type": "code",
   "execution_count": 10,
   "metadata": {},
   "outputs": [
    {
     "data": {
      "text/plain": [
       "((7070, 30), (3030, 30))"
      ]
     },
     "execution_count": 10,
     "metadata": {},
     "output_type": "execute_result"
    }
   ],
   "source": [
    "# separate dataset into train and test\n",
    "\n",
    "X_train_im, X_test_im, y_train_im, y_test_im = train_test_split(\n",
    "    X_im,  \n",
    "    y_im,  \n",
    "    test_size=0.3,\n",
    "    random_state=0)\n",
    "\n",
    "X_train_im.shape, X_test_im.shape"
   ]
  },
  {
   "cell_type": "markdown",
   "metadata": {},
   "source": [
    "## Baseline probability or likelihood"
   ]
  },
  {
   "cell_type": "code",
   "execution_count": 11,
   "metadata": {},
   "outputs": [
    {
     "name": "stdout",
     "output_type": "stream",
     "text": [
      "Likelihood of a patient being positive for the diagnose: 0.483 \n",
      "Likelihood of a patient being positive for the diagnose: 0.008 \n"
     ]
    }
   ],
   "source": [
    "print('Likelihood of a patient being positive for the diagnose: {} '.format(\n",
    "    np.round(y_test.mean(),3)))\n",
    "\n",
    "print('Likelihood of a patient being positive for the diagnose: {} '.format(\n",
    "    np.round(y_test_im.mean(), 3)))"
   ]
  },
  {
   "cell_type": "markdown",
   "metadata": {},
   "source": [
    "## Train Logistic Regression on both datasets"
   ]
  },
  {
   "cell_type": "code",
   "execution_count": 12,
   "metadata": {},
   "outputs": [],
   "source": [
    "# Logistic Regression on balanced dataset\n",
    "\n",
    "logit = LogisticRegression(\n",
    "    penalty='l2',\n",
    "    solver='newton-cg',\n",
    "    C=1,\n",
    "    random_state=0,\n",
    "    max_iter=20,\n",
    ").fit(X_train, y_train)\n",
    "\n",
    "# score the test set\n",
    "probs = logit.predict_proba(X_test)[:, 1]"
   ]
  },
  {
   "cell_type": "code",
   "execution_count": 13,
   "metadata": {},
   "outputs": [
    {
     "data": {
      "text/plain": [
       "0.9977753058954394"
      ]
     },
     "execution_count": 13,
     "metadata": {},
     "output_type": "execute_result"
    }
   ],
   "source": [
    "roc_auc_score(y_test, probs)"
   ]
  },
  {
   "cell_type": "code",
   "execution_count": 14,
   "metadata": {},
   "outputs": [],
   "source": [
    "# Logistic Regression on imbalanced dataset\n",
    "\n",
    "logit_im = LogisticRegression(\n",
    "    penalty='l2',\n",
    "    solver='newton-cg',\n",
    "    C=1,\n",
    "    random_state=0,\n",
    "    max_iter=20,\n",
    ").fit(X_im, y_im)\n",
    "\n",
    "# score the test set\n",
    "probs_im = logit_im.predict_proba(X_test_im)[:, 1]"
   ]
  },
  {
   "cell_type": "code",
   "execution_count": 15,
   "metadata": {},
   "outputs": [
    {
     "data": {
      "text/plain": [
       "0.9929873772791024"
      ]
     },
     "execution_count": 15,
     "metadata": {},
     "output_type": "execute_result"
    }
   ],
   "source": [
    "roc_auc_score(y_test_im, probs_im)"
   ]
  },
  {
   "cell_type": "markdown",
   "metadata": {},
   "source": [
    "## Compare scores with likelihood"
   ]
  },
  {
   "cell_type": "code",
   "execution_count": 16,
   "metadata": {},
   "outputs": [
    {
     "data": {
      "text/plain": [
       "0.9333333333333333"
      ]
     },
     "execution_count": 16,
     "metadata": {},
     "output_type": "execute_result"
    }
   ],
   "source": [
    "# probability of a patient having cancer\n",
    "\n",
    "y_test[probs>0.5].mean()"
   ]
  },
  {
   "cell_type": "code",
   "execution_count": 17,
   "metadata": {},
   "outputs": [
    {
     "data": {
      "text/plain": [
       "0.03333333333333333"
      ]
     },
     "execution_count": 17,
     "metadata": {},
     "output_type": "execute_result"
    }
   ],
   "source": [
    "y_test[probs<0.5].mean()"
   ]
  },
  {
   "cell_type": "code",
   "execution_count": 18,
   "metadata": {},
   "outputs": [
    {
     "data": {
      "text/plain": [
       "0.5384615384615384"
      ]
     },
     "execution_count": 18,
     "metadata": {},
     "output_type": "execute_result"
    }
   ],
   "source": [
    "# probability of a patient having cancer\n",
    "\n",
    "y_test_im[probs_im>0.1].mean()"
   ]
  },
  {
   "cell_type": "code",
   "execution_count": 19,
   "metadata": {},
   "outputs": [
    {
     "data": {
      "text/plain": [
       "0.0006686726847208291"
      ]
     },
     "execution_count": 19,
     "metadata": {},
     "output_type": "execute_result"
    }
   ],
   "source": [
    "# probability of a patient having cancer\n",
    "\n",
    "y_test_im[probs_im<0.1].mean()"
   ]
  },
  {
   "cell_type": "markdown",
   "metadata": {},
   "source": [
    "## Optimal threshold\n",
    "\n",
    "### Balanced dataset"
   ]
  },
  {
   "cell_type": "code",
   "execution_count": 20,
   "metadata": {},
   "outputs": [
    {
     "data": {
      "image/png": "[encoded data removed]",
      "text/plain": [
       "<Figure size 576x396 with 1 Axes>"
      ]
     },
     "metadata": {},
     "output_type": "display_data"
    },
    {
     "data": {
      "text/plain": [
       "<AxesSubplot:title={'center':'Threshold Plot for LogisticRegression'}, xlabel='discrimination threshold', ylabel='score'>"
      ]
     },
     "execution_count": 20,
     "metadata": {},
     "output_type": "execute_result"
    }
   ],
   "source": [
    "visualizer = DiscriminationThreshold(logit,\n",
    "                                     n_trials=1,\n",
    "                                     cv=0.5,\n",
    "                                     argmax='fscore',\n",
    "                                     random_state=0,\n",
    "                                     is_fitted='auto',\n",
    "                                     exclude = \"queue_rate\")\n",
    "\n",
    "visualizer.fit(X_train, y_train)        # Fit the visualizer and the model\n",
    "visualizer.score(X_test, y_test)        # Evaluate the model on the test data\n",
    "visualizer.show()"
   ]
  },
  {
   "cell_type": "markdown",
   "metadata": {},
   "source": [
    "### Imbalanced dataset"
   ]
  },
  {
   "cell_type": "code",
   "execution_count": 21,
   "metadata": {},
   "outputs": [
    {
     "data": {
      "image/png": "[encoded data removed]",
      "text/plain": [
       "<Figure size 576x396 with 1 Axes>"
      ]
     },
     "metadata": {},
     "output_type": "display_data"
    },
    {
     "data": {
      "text/plain": [
       "<AxesSubplot:title={'center':'Threshold Plot for LogisticRegression'}, xlabel='discrimination threshold', ylabel='score'>"
      ]
     },
     "execution_count": 21,
     "metadata": {},
     "output_type": "execute_result"
    }
   ],
   "source": [
    "visualizer = DiscriminationThreshold(logit_im,\n",
    "                                     n_trials=1,\n",
    "                                     cv=0.5,\n",
    "                                     argmax='fscore',\n",
    "                                     random_state=0,\n",
    "                                     is_fitted='auto',\n",
    "                                     exclude = \"queue_rate\")\n",
    "\n",
    "visualizer.fit(X_train_im, y_train_im)        # Fit the visualizer and the model\n",
    "visualizer.score(X_test_im, y_test_im)        # Evaluate the model on the test data\n",
    "visualizer.show()"
   ]
  },
  {
   "cell_type": "code",
   "execution_count": null,
   "metadata": {},
   "outputs": [],
   "source": []
  }
 ],
 "metadata": {
  "kernelspec": {
   "display_name": "imbalanced",
   "language": "python",
   "name": "imbalanced"
  },
  "language_info": {
   "codemirror_mode": {
    "name": "ipython",
    "version": 3
   },
   "file_extension": ".py",
   "mimetype": "text/x-python",
   "name": "python",
   "nbconvert_exporter": "python",
   "pygments_lexer": "ipython3",
   "version": "3.8.2"
  },
  "toc": {
   "base_numbering": 1,
   "nav_menu": {},
   "number_sections": true,
   "sideBar": true,
   "skip_h1_title": false,
   "title_cell": "Table of Contents",
   "title_sidebar": "Contents",
   "toc_cell": false,
   "toc_position": {},
   "toc_section_display": true,
   "toc_window_display": true
  }
 },
 "nbformat": 4,
 "nbformat_minor": 4
}
